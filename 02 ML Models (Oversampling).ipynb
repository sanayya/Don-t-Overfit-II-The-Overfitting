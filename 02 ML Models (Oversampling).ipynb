{
 "cells": [
  {
   "cell_type": "markdown",
   "id": "529013ef",
   "metadata": {},
   "source": [
    "## 1. Import relevant libraries and load dataset."
   ]
  },
  {
   "cell_type": "code",
   "execution_count": 53,
   "id": "1037bc59",
   "metadata": {},
   "outputs": [],
   "source": [
    "# import libraries\n",
    "import warnings\n",
    "warnings.filterwarnings(\"ignore\")\n",
    "import numpy as np\n",
    "import pandas as pd\n",
    "from sklearn.model_selection import train_test_split\n",
    "from imblearn.over_sampling import RandomOverSampler\n",
    "from collections import Counter\n",
    "from sklearn.preprocessing import StandardScaler \n",
    "from sklearn.model_selection import StratifiedKFold\n",
    "from sklearn.model_selection import GridSearchCV\n",
    "from sklearn.metrics import roc_auc_score\n",
    "from sklearn.metrics import roc_curve, auc\n",
    "import matplotlib.pyplot as plt\n",
    "from sklearn.calibration import CalibratedClassifierCV\n",
    "from IPython.display import Image\n",
    "import seaborn as sns\n",
    "from sklearn.metrics import confusion_matrix\n",
    "from prettytable import PrettyTable"
   ]
  },
  {
   "cell_type": "code",
   "execution_count": 2,
   "id": "ab9fb90a",
   "metadata": {},
   "outputs": [
    {
     "data": {
      "text/html": [
       "<div>\n",
       "<style scoped>\n",
       "    .dataframe tbody tr th:only-of-type {\n",
       "        vertical-align: middle;\n",
       "    }\n",
       "\n",
       "    .dataframe tbody tr th {\n",
       "        vertical-align: top;\n",
       "    }\n",
       "\n",
       "    .dataframe thead th {\n",
       "        text-align: right;\n",
       "    }\n",
       "</style>\n",
       "<table border=\"1\" class=\"dataframe\">\n",
       "  <thead>\n",
       "    <tr style=\"text-align: right;\">\n",
       "      <th></th>\n",
       "      <th>id</th>\n",
       "      <th>target</th>\n",
       "      <th>0</th>\n",
       "      <th>1</th>\n",
       "      <th>2</th>\n",
       "      <th>3</th>\n",
       "      <th>4</th>\n",
       "      <th>5</th>\n",
       "      <th>6</th>\n",
       "      <th>7</th>\n",
       "      <th>...</th>\n",
       "      <th>290</th>\n",
       "      <th>291</th>\n",
       "      <th>292</th>\n",
       "      <th>293</th>\n",
       "      <th>294</th>\n",
       "      <th>295</th>\n",
       "      <th>296</th>\n",
       "      <th>297</th>\n",
       "      <th>298</th>\n",
       "      <th>299</th>\n",
       "    </tr>\n",
       "  </thead>\n",
       "  <tbody>\n",
       "    <tr>\n",
       "      <th>0</th>\n",
       "      <td>0</td>\n",
       "      <td>1.0</td>\n",
       "      <td>-0.098</td>\n",
       "      <td>2.165</td>\n",
       "      <td>0.681</td>\n",
       "      <td>-0.614</td>\n",
       "      <td>1.309</td>\n",
       "      <td>-0.455</td>\n",
       "      <td>-0.236</td>\n",
       "      <td>0.276</td>\n",
       "      <td>...</td>\n",
       "      <td>0.867</td>\n",
       "      <td>1.347</td>\n",
       "      <td>0.504</td>\n",
       "      <td>-0.649</td>\n",
       "      <td>0.672</td>\n",
       "      <td>-2.097</td>\n",
       "      <td>1.051</td>\n",
       "      <td>-0.414</td>\n",
       "      <td>1.038</td>\n",
       "      <td>-1.065</td>\n",
       "    </tr>\n",
       "    <tr>\n",
       "      <th>1</th>\n",
       "      <td>1</td>\n",
       "      <td>0.0</td>\n",
       "      <td>1.081</td>\n",
       "      <td>-0.973</td>\n",
       "      <td>-0.383</td>\n",
       "      <td>0.326</td>\n",
       "      <td>-0.428</td>\n",
       "      <td>0.317</td>\n",
       "      <td>1.172</td>\n",
       "      <td>0.352</td>\n",
       "      <td>...</td>\n",
       "      <td>-0.165</td>\n",
       "      <td>-1.695</td>\n",
       "      <td>-1.257</td>\n",
       "      <td>1.359</td>\n",
       "      <td>-0.808</td>\n",
       "      <td>-1.624</td>\n",
       "      <td>-0.458</td>\n",
       "      <td>-1.099</td>\n",
       "      <td>-0.936</td>\n",
       "      <td>0.973</td>\n",
       "    </tr>\n",
       "    <tr>\n",
       "      <th>2</th>\n",
       "      <td>2</td>\n",
       "      <td>1.0</td>\n",
       "      <td>-0.523</td>\n",
       "      <td>-0.089</td>\n",
       "      <td>-0.348</td>\n",
       "      <td>0.148</td>\n",
       "      <td>-0.022</td>\n",
       "      <td>0.404</td>\n",
       "      <td>-0.023</td>\n",
       "      <td>-0.172</td>\n",
       "      <td>...</td>\n",
       "      <td>0.013</td>\n",
       "      <td>0.263</td>\n",
       "      <td>-1.222</td>\n",
       "      <td>0.726</td>\n",
       "      <td>1.444</td>\n",
       "      <td>-1.165</td>\n",
       "      <td>-1.544</td>\n",
       "      <td>0.004</td>\n",
       "      <td>0.800</td>\n",
       "      <td>-1.211</td>\n",
       "    </tr>\n",
       "    <tr>\n",
       "      <th>3</th>\n",
       "      <td>3</td>\n",
       "      <td>1.0</td>\n",
       "      <td>0.067</td>\n",
       "      <td>-0.021</td>\n",
       "      <td>0.392</td>\n",
       "      <td>-1.637</td>\n",
       "      <td>-0.446</td>\n",
       "      <td>-0.725</td>\n",
       "      <td>-1.035</td>\n",
       "      <td>0.834</td>\n",
       "      <td>...</td>\n",
       "      <td>-0.404</td>\n",
       "      <td>0.640</td>\n",
       "      <td>-0.595</td>\n",
       "      <td>-0.966</td>\n",
       "      <td>0.900</td>\n",
       "      <td>0.467</td>\n",
       "      <td>-0.562</td>\n",
       "      <td>-0.254</td>\n",
       "      <td>-0.533</td>\n",
       "      <td>0.238</td>\n",
       "    </tr>\n",
       "    <tr>\n",
       "      <th>4</th>\n",
       "      <td>4</td>\n",
       "      <td>1.0</td>\n",
       "      <td>2.347</td>\n",
       "      <td>-0.831</td>\n",
       "      <td>0.511</td>\n",
       "      <td>-0.021</td>\n",
       "      <td>1.225</td>\n",
       "      <td>1.594</td>\n",
       "      <td>0.585</td>\n",
       "      <td>1.509</td>\n",
       "      <td>...</td>\n",
       "      <td>0.898</td>\n",
       "      <td>0.134</td>\n",
       "      <td>2.415</td>\n",
       "      <td>-0.996</td>\n",
       "      <td>-1.006</td>\n",
       "      <td>1.378</td>\n",
       "      <td>1.246</td>\n",
       "      <td>1.478</td>\n",
       "      <td>0.428</td>\n",
       "      <td>0.253</td>\n",
       "    </tr>\n",
       "  </tbody>\n",
       "</table>\n",
       "<p>5 rows × 302 columns</p>\n",
       "</div>"
      ],
      "text/plain": [
       "   id  target      0      1      2      3      4      5      6      7  ...  \\\n",
       "0   0     1.0 -0.098  2.165  0.681 -0.614  1.309 -0.455 -0.236  0.276  ...   \n",
       "1   1     0.0  1.081 -0.973 -0.383  0.326 -0.428  0.317  1.172  0.352  ...   \n",
       "2   2     1.0 -0.523 -0.089 -0.348  0.148 -0.022  0.404 -0.023 -0.172  ...   \n",
       "3   3     1.0  0.067 -0.021  0.392 -1.637 -0.446 -0.725 -1.035  0.834  ...   \n",
       "4   4     1.0  2.347 -0.831  0.511 -0.021  1.225  1.594  0.585  1.509  ...   \n",
       "\n",
       "     290    291    292    293    294    295    296    297    298    299  \n",
       "0  0.867  1.347  0.504 -0.649  0.672 -2.097  1.051 -0.414  1.038 -1.065  \n",
       "1 -0.165 -1.695 -1.257  1.359 -0.808 -1.624 -0.458 -1.099 -0.936  0.973  \n",
       "2  0.013  0.263 -1.222  0.726  1.444 -1.165 -1.544  0.004  0.800 -1.211  \n",
       "3 -0.404  0.640 -0.595 -0.966  0.900  0.467 -0.562 -0.254 -0.533  0.238  \n",
       "4  0.898  0.134  2.415 -0.996 -1.006  1.378  1.246  1.478  0.428  0.253  \n",
       "\n",
       "[5 rows x 302 columns]"
      ]
     },
     "execution_count": 2,
     "metadata": {},
     "output_type": "execute_result"
    }
   ],
   "source": [
    "# load train.csv into pandas dataframe\n",
    "train_df = pd.read_csv(\"train.csv\")\n",
    "# print the first 5 rows\n",
    "train_df.head()"
   ]
  },
  {
   "cell_type": "code",
   "execution_count": 3,
   "id": "7a15173c",
   "metadata": {},
   "outputs": [
    {
     "data": {
      "text/html": [
       "<div>\n",
       "<style scoped>\n",
       "    .dataframe tbody tr th:only-of-type {\n",
       "        vertical-align: middle;\n",
       "    }\n",
       "\n",
       "    .dataframe tbody tr th {\n",
       "        vertical-align: top;\n",
       "    }\n",
       "\n",
       "    .dataframe thead th {\n",
       "        text-align: right;\n",
       "    }\n",
       "</style>\n",
       "<table border=\"1\" class=\"dataframe\">\n",
       "  <thead>\n",
       "    <tr style=\"text-align: right;\">\n",
       "      <th></th>\n",
       "      <th>id</th>\n",
       "      <th>0</th>\n",
       "      <th>1</th>\n",
       "      <th>2</th>\n",
       "      <th>3</th>\n",
       "      <th>4</th>\n",
       "      <th>5</th>\n",
       "      <th>6</th>\n",
       "      <th>7</th>\n",
       "      <th>8</th>\n",
       "      <th>...</th>\n",
       "      <th>290</th>\n",
       "      <th>291</th>\n",
       "      <th>292</th>\n",
       "      <th>293</th>\n",
       "      <th>294</th>\n",
       "      <th>295</th>\n",
       "      <th>296</th>\n",
       "      <th>297</th>\n",
       "      <th>298</th>\n",
       "      <th>299</th>\n",
       "    </tr>\n",
       "  </thead>\n",
       "  <tbody>\n",
       "    <tr>\n",
       "      <th>0</th>\n",
       "      <td>250</td>\n",
       "      <td>0.500</td>\n",
       "      <td>-1.033</td>\n",
       "      <td>-1.595</td>\n",
       "      <td>0.309</td>\n",
       "      <td>-0.714</td>\n",
       "      <td>0.502</td>\n",
       "      <td>0.535</td>\n",
       "      <td>-0.129</td>\n",
       "      <td>-0.687</td>\n",
       "      <td>...</td>\n",
       "      <td>-0.088</td>\n",
       "      <td>-2.628</td>\n",
       "      <td>-0.845</td>\n",
       "      <td>2.078</td>\n",
       "      <td>-0.277</td>\n",
       "      <td>2.132</td>\n",
       "      <td>0.609</td>\n",
       "      <td>-0.104</td>\n",
       "      <td>0.312</td>\n",
       "      <td>0.979</td>\n",
       "    </tr>\n",
       "    <tr>\n",
       "      <th>1</th>\n",
       "      <td>251</td>\n",
       "      <td>0.776</td>\n",
       "      <td>0.914</td>\n",
       "      <td>-0.494</td>\n",
       "      <td>1.347</td>\n",
       "      <td>-0.867</td>\n",
       "      <td>0.480</td>\n",
       "      <td>0.578</td>\n",
       "      <td>-0.313</td>\n",
       "      <td>0.203</td>\n",
       "      <td>...</td>\n",
       "      <td>-0.683</td>\n",
       "      <td>-0.066</td>\n",
       "      <td>0.025</td>\n",
       "      <td>0.606</td>\n",
       "      <td>-0.353</td>\n",
       "      <td>-1.133</td>\n",
       "      <td>-3.138</td>\n",
       "      <td>0.281</td>\n",
       "      <td>-0.625</td>\n",
       "      <td>-0.761</td>\n",
       "    </tr>\n",
       "    <tr>\n",
       "      <th>2</th>\n",
       "      <td>252</td>\n",
       "      <td>1.750</td>\n",
       "      <td>0.509</td>\n",
       "      <td>-0.057</td>\n",
       "      <td>0.835</td>\n",
       "      <td>-0.476</td>\n",
       "      <td>1.428</td>\n",
       "      <td>-0.701</td>\n",
       "      <td>-2.009</td>\n",
       "      <td>-1.378</td>\n",
       "      <td>...</td>\n",
       "      <td>-0.094</td>\n",
       "      <td>0.351</td>\n",
       "      <td>-0.607</td>\n",
       "      <td>-0.737</td>\n",
       "      <td>-0.031</td>\n",
       "      <td>0.701</td>\n",
       "      <td>0.976</td>\n",
       "      <td>0.135</td>\n",
       "      <td>-1.327</td>\n",
       "      <td>2.463</td>\n",
       "    </tr>\n",
       "    <tr>\n",
       "      <th>3</th>\n",
       "      <td>253</td>\n",
       "      <td>-0.556</td>\n",
       "      <td>-1.855</td>\n",
       "      <td>-0.682</td>\n",
       "      <td>0.578</td>\n",
       "      <td>1.592</td>\n",
       "      <td>0.512</td>\n",
       "      <td>-1.419</td>\n",
       "      <td>0.722</td>\n",
       "      <td>0.511</td>\n",
       "      <td>...</td>\n",
       "      <td>-0.336</td>\n",
       "      <td>-0.787</td>\n",
       "      <td>0.255</td>\n",
       "      <td>-0.031</td>\n",
       "      <td>-0.836</td>\n",
       "      <td>0.916</td>\n",
       "      <td>2.411</td>\n",
       "      <td>1.053</td>\n",
       "      <td>-1.601</td>\n",
       "      <td>-1.529</td>\n",
       "    </tr>\n",
       "    <tr>\n",
       "      <th>4</th>\n",
       "      <td>254</td>\n",
       "      <td>0.754</td>\n",
       "      <td>-0.245</td>\n",
       "      <td>1.173</td>\n",
       "      <td>-1.623</td>\n",
       "      <td>0.009</td>\n",
       "      <td>0.370</td>\n",
       "      <td>0.781</td>\n",
       "      <td>-1.763</td>\n",
       "      <td>-1.432</td>\n",
       "      <td>...</td>\n",
       "      <td>2.184</td>\n",
       "      <td>-1.090</td>\n",
       "      <td>0.216</td>\n",
       "      <td>1.186</td>\n",
       "      <td>-0.143</td>\n",
       "      <td>0.322</td>\n",
       "      <td>-0.068</td>\n",
       "      <td>-0.156</td>\n",
       "      <td>-1.153</td>\n",
       "      <td>0.825</td>\n",
       "    </tr>\n",
       "  </tbody>\n",
       "</table>\n",
       "<p>5 rows × 301 columns</p>\n",
       "</div>"
      ],
      "text/plain": [
       "    id      0      1      2      3      4      5      6      7      8  ...  \\\n",
       "0  250  0.500 -1.033 -1.595  0.309 -0.714  0.502  0.535 -0.129 -0.687  ...   \n",
       "1  251  0.776  0.914 -0.494  1.347 -0.867  0.480  0.578 -0.313  0.203  ...   \n",
       "2  252  1.750  0.509 -0.057  0.835 -0.476  1.428 -0.701 -2.009 -1.378  ...   \n",
       "3  253 -0.556 -1.855 -0.682  0.578  1.592  0.512 -1.419  0.722  0.511  ...   \n",
       "4  254  0.754 -0.245  1.173 -1.623  0.009  0.370  0.781 -1.763 -1.432  ...   \n",
       "\n",
       "     290    291    292    293    294    295    296    297    298    299  \n",
       "0 -0.088 -2.628 -0.845  2.078 -0.277  2.132  0.609 -0.104  0.312  0.979  \n",
       "1 -0.683 -0.066  0.025  0.606 -0.353 -1.133 -3.138  0.281 -0.625 -0.761  \n",
       "2 -0.094  0.351 -0.607 -0.737 -0.031  0.701  0.976  0.135 -1.327  2.463  \n",
       "3 -0.336 -0.787  0.255 -0.031 -0.836  0.916  2.411  1.053 -1.601 -1.529  \n",
       "4  2.184 -1.090  0.216  1.186 -0.143  0.322 -0.068 -0.156 -1.153  0.825  \n",
       "\n",
       "[5 rows x 301 columns]"
      ]
     },
     "execution_count": 3,
     "metadata": {},
     "output_type": "execute_result"
    }
   ],
   "source": [
    "# load test.csv into pandas dataframe\n",
    "test_df = pd.read_csv(\"test.csv\")\n",
    "# print the first 5 rows\n",
    "test_df.head()"
   ]
  },
  {
   "cell_type": "code",
   "execution_count": 4,
   "id": "d2c99e55",
   "metadata": {},
   "outputs": [
    {
     "name": "stdout",
     "output_type": "stream",
     "text": [
      "Training Dataset: (250, 302)\n",
      "Test Dataset    : (19750, 301)\n"
     ]
    }
   ],
   "source": [
    "# how many datapoints and features present in train and test dataset\n",
    "print(\"Training Dataset:\",train_df.shape)\n",
    "print(\"Test Dataset    :\",test_df.shape)"
   ]
  },
  {
   "cell_type": "code",
   "execution_count": 5,
   "id": "23277197",
   "metadata": {},
   "outputs": [
    {
     "name": "stdout",
     "output_type": "stream",
     "text": [
      "Size of class label : 250\n",
      "Class Label         :\n",
      "[1. 0. 1. 1. 1. 1. 1. 1. 1. 1. 0. 1. 1. 0. 0. 1. 1. 0. 1. 1. 1. 1. 0. 1.\n",
      " 1. 1. 1. 1. 1. 1. 1. 1. 1. 1. 1. 1. 1. 1. 0. 1. 1. 1. 1. 0. 1. 1. 1. 1.\n",
      " 0. 0. 1. 1. 0. 1. 0. 1. 0. 1. 0. 0. 1. 1. 0. 0. 0. 1. 0. 1. 1. 1. 0. 1.\n",
      " 1. 1. 1. 0. 1. 1. 0. 1. 1. 0. 0. 1. 1. 1. 0. 1. 1. 1. 1. 0. 1. 1. 1. 1.\n",
      " 0. 1. 1. 1. 1. 0. 0. 1. 0. 1. 1. 0. 0. 1. 1. 1. 1. 1. 0. 1. 1. 0. 0. 1.\n",
      " 0. 1. 0. 1. 0. 1. 0. 0. 0. 1. 1. 1. 1. 1. 0. 1. 0. 1. 1. 0. 1. 0. 1. 0.\n",
      " 1. 1. 1. 1. 0. 1. 0. 1. 1. 0. 0. 1. 1. 0. 0. 1. 1. 0. 1. 1. 0. 1. 1. 1.\n",
      " 0. 0. 0. 0. 0. 1. 1. 1. 1. 0. 0. 1. 1. 0. 0. 0. 1. 1. 1. 1. 1. 0. 1. 1.\n",
      " 1. 0. 0. 1. 1. 1. 0. 1. 1. 0. 1. 1. 1. 0. 1. 0. 1. 0. 0. 0. 0. 1. 1. 0.\n",
      " 1. 1. 0. 1. 1. 1. 1. 1. 1. 0. 1. 0. 0. 1. 1. 1. 1. 0. 0. 1. 1. 1. 1. 0.\n",
      " 0. 1. 1. 0. 0. 0. 0. 0. 1. 0.]\n",
      "\n",
      "Number of data points belonging to each class label: \n",
      "1.0    160\n",
      "0.0     90\n",
      "Name: target, dtype: int64\n",
      "\n",
      "Number of rows and columns in train dataset: (250, 300)\n",
      "Train Dataset in tabular format            :\n"
     ]
    },
    {
     "data": {
      "text/html": [
       "<div>\n",
       "<style scoped>\n",
       "    .dataframe tbody tr th:only-of-type {\n",
       "        vertical-align: middle;\n",
       "    }\n",
       "\n",
       "    .dataframe tbody tr th {\n",
       "        vertical-align: top;\n",
       "    }\n",
       "\n",
       "    .dataframe thead th {\n",
       "        text-align: right;\n",
       "    }\n",
       "</style>\n",
       "<table border=\"1\" class=\"dataframe\">\n",
       "  <thead>\n",
       "    <tr style=\"text-align: right;\">\n",
       "      <th></th>\n",
       "      <th>0</th>\n",
       "      <th>1</th>\n",
       "      <th>2</th>\n",
       "      <th>3</th>\n",
       "      <th>4</th>\n",
       "      <th>5</th>\n",
       "      <th>6</th>\n",
       "      <th>7</th>\n",
       "      <th>8</th>\n",
       "      <th>9</th>\n",
       "      <th>...</th>\n",
       "      <th>290</th>\n",
       "      <th>291</th>\n",
       "      <th>292</th>\n",
       "      <th>293</th>\n",
       "      <th>294</th>\n",
       "      <th>295</th>\n",
       "      <th>296</th>\n",
       "      <th>297</th>\n",
       "      <th>298</th>\n",
       "      <th>299</th>\n",
       "    </tr>\n",
       "  </thead>\n",
       "  <tbody>\n",
       "    <tr>\n",
       "      <th>0</th>\n",
       "      <td>-0.098</td>\n",
       "      <td>2.165</td>\n",
       "      <td>0.681</td>\n",
       "      <td>-0.614</td>\n",
       "      <td>1.309</td>\n",
       "      <td>-0.455</td>\n",
       "      <td>-0.236</td>\n",
       "      <td>0.276</td>\n",
       "      <td>-2.246</td>\n",
       "      <td>1.825</td>\n",
       "      <td>...</td>\n",
       "      <td>0.867</td>\n",
       "      <td>1.347</td>\n",
       "      <td>0.504</td>\n",
       "      <td>-0.649</td>\n",
       "      <td>0.672</td>\n",
       "      <td>-2.097</td>\n",
       "      <td>1.051</td>\n",
       "      <td>-0.414</td>\n",
       "      <td>1.038</td>\n",
       "      <td>-1.065</td>\n",
       "    </tr>\n",
       "    <tr>\n",
       "      <th>1</th>\n",
       "      <td>1.081</td>\n",
       "      <td>-0.973</td>\n",
       "      <td>-0.383</td>\n",
       "      <td>0.326</td>\n",
       "      <td>-0.428</td>\n",
       "      <td>0.317</td>\n",
       "      <td>1.172</td>\n",
       "      <td>0.352</td>\n",
       "      <td>0.004</td>\n",
       "      <td>-0.291</td>\n",
       "      <td>...</td>\n",
       "      <td>-0.165</td>\n",
       "      <td>-1.695</td>\n",
       "      <td>-1.257</td>\n",
       "      <td>1.359</td>\n",
       "      <td>-0.808</td>\n",
       "      <td>-1.624</td>\n",
       "      <td>-0.458</td>\n",
       "      <td>-1.099</td>\n",
       "      <td>-0.936</td>\n",
       "      <td>0.973</td>\n",
       "    </tr>\n",
       "  </tbody>\n",
       "</table>\n",
       "<p>2 rows × 300 columns</p>\n",
       "</div>"
      ],
      "text/plain": [
       "       0      1      2      3      4      5      6      7      8      9  ...  \\\n",
       "0 -0.098  2.165  0.681 -0.614  1.309 -0.455 -0.236  0.276 -2.246  1.825  ...   \n",
       "1  1.081 -0.973 -0.383  0.326 -0.428  0.317  1.172  0.352  0.004 -0.291  ...   \n",
       "\n",
       "     290    291    292    293    294    295    296    297    298    299  \n",
       "0  0.867  1.347  0.504 -0.649  0.672 -2.097  1.051 -0.414  1.038 -1.065  \n",
       "1 -0.165 -1.695 -1.257  1.359 -0.808 -1.624 -0.458 -1.099 -0.936  0.973  \n",
       "\n",
       "[2 rows x 300 columns]"
      ]
     },
     "execution_count": 5,
     "metadata": {},
     "output_type": "execute_result"
    }
   ],
   "source": [
    "y = train_df[\"target\"].values # store values of feature \"target\"\n",
    "X = train_df.drop([\"id\",\"target\"],axis=1) # drop id and class label from the dataset\n",
    "print(\"Size of class label :\",len(y))\n",
    "print(\"Class Label         :\")\n",
    "print(y)\n",
    "print()\n",
    "print(\"Number of data points belonging to each class label: \")\n",
    "print(train_df[\"target\"].value_counts())\n",
    "print()\n",
    "print(\"Number of rows and columns in train dataset:\",X.shape)\n",
    "print(\"Train Dataset in tabular format            :\")\n",
    "X.head(2)"
   ]
  },
  {
   "cell_type": "markdown",
   "id": "60ae6348",
   "metadata": {},
   "source": [
    "## 2. Splitting data into Train and cross validation(or test): Stratified Sampling"
   ]
  },
  {
   "cell_type": "code",
   "execution_count": 6,
   "id": "5927fbaf",
   "metadata": {},
   "outputs": [
    {
     "name": "stdout",
     "output_type": "stream",
     "text": [
      "Shape of X_train : (225, 300)\n",
      "Shape of X_test  : (25, 300)\n",
      "Shape of y_train : (225,)\n",
      "Shape of y_test  : (25,)\n"
     ]
    }
   ],
   "source": [
    "# Split the dataset in X_train, X_test, y_train, y_test using train_test_split\n",
    "X_train, X_test, y_train, y_test = train_test_split(X, y, test_size = 0.1, stratify = y, random_state=42)\n",
    "print(\"Shape of X_train :\", X_train.shape)\n",
    "print(\"Shape of X_test  :\", X_test.shape)\n",
    "print(\"Shape of y_train :\", y_train.shape)\n",
    "print(\"Shape of y_test  :\", y_test.shape)"
   ]
  },
  {
   "cell_type": "markdown",
   "id": "0f6c33c9",
   "metadata": {},
   "source": [
    "## 3. Over-sampling"
   ]
  },
  {
   "cell_type": "code",
   "execution_count": 7,
   "id": "9bd646a1",
   "metadata": {},
   "outputs": [
    {
     "name": "stdout",
     "output_type": "stream",
     "text": [
      "[(0.0, 144), (1.0, 144)]\n"
     ]
    }
   ],
   "source": [
    "# Reference: https://imbalanced-learn.org/stable/over_sampling.html\n",
    "# Over-sampling using RandomOverSample technique\n",
    "ros = RandomOverSampler(random_state=42)\n",
    "X_train, y_train = ros.fit_resample(X_train, y_train)\n",
    "print(sorted(Counter(y_train).items()))"
   ]
  },
  {
   "cell_type": "markdown",
   "id": "f4f10e8f",
   "metadata": {},
   "source": [
    "## 4. Data Scaling"
   ]
  },
  {
   "cell_type": "code",
   "execution_count": 8,
   "id": "c4f5d7f3",
   "metadata": {},
   "outputs": [
    {
     "data": {
      "text/html": [
       "<div>\n",
       "<style scoped>\n",
       "    .dataframe tbody tr th:only-of-type {\n",
       "        vertical-align: middle;\n",
       "    }\n",
       "\n",
       "    .dataframe tbody tr th {\n",
       "        vertical-align: top;\n",
       "    }\n",
       "\n",
       "    .dataframe thead th {\n",
       "        text-align: right;\n",
       "    }\n",
       "</style>\n",
       "<table border=\"1\" class=\"dataframe\">\n",
       "  <thead>\n",
       "    <tr style=\"text-align: right;\">\n",
       "      <th></th>\n",
       "      <th>0</th>\n",
       "      <th>1</th>\n",
       "      <th>2</th>\n",
       "      <th>3</th>\n",
       "      <th>4</th>\n",
       "      <th>5</th>\n",
       "      <th>6</th>\n",
       "      <th>7</th>\n",
       "      <th>8</th>\n",
       "      <th>9</th>\n",
       "      <th>...</th>\n",
       "      <th>290</th>\n",
       "      <th>291</th>\n",
       "      <th>292</th>\n",
       "      <th>293</th>\n",
       "      <th>294</th>\n",
       "      <th>295</th>\n",
       "      <th>296</th>\n",
       "      <th>297</th>\n",
       "      <th>298</th>\n",
       "      <th>299</th>\n",
       "    </tr>\n",
       "  </thead>\n",
       "  <tbody>\n",
       "    <tr>\n",
       "      <th>0</th>\n",
       "      <td>0.286376</td>\n",
       "      <td>-0.860225</td>\n",
       "      <td>-1.101927</td>\n",
       "      <td>0.141082</td>\n",
       "      <td>0.715762</td>\n",
       "      <td>0.278982</td>\n",
       "      <td>-1.340203</td>\n",
       "      <td>1.400034</td>\n",
       "      <td>1.318056</td>\n",
       "      <td>-0.752581</td>\n",
       "      <td>...</td>\n",
       "      <td>0.170780</td>\n",
       "      <td>1.121303</td>\n",
       "      <td>1.585252</td>\n",
       "      <td>-1.380819</td>\n",
       "      <td>1.953920</td>\n",
       "      <td>0.947327</td>\n",
       "      <td>-0.034106</td>\n",
       "      <td>-1.278680</td>\n",
       "      <td>1.440599</td>\n",
       "      <td>0.894594</td>\n",
       "    </tr>\n",
       "    <tr>\n",
       "      <th>1</th>\n",
       "      <td>0.256991</td>\n",
       "      <td>-0.996117</td>\n",
       "      <td>0.297932</td>\n",
       "      <td>-0.495988</td>\n",
       "      <td>-0.057367</td>\n",
       "      <td>-1.014300</td>\n",
       "      <td>1.221035</td>\n",
       "      <td>-1.430578</td>\n",
       "      <td>1.039782</td>\n",
       "      <td>-0.635137</td>\n",
       "      <td>...</td>\n",
       "      <td>0.417970</td>\n",
       "      <td>-0.898443</td>\n",
       "      <td>-1.560543</td>\n",
       "      <td>0.683146</td>\n",
       "      <td>1.080389</td>\n",
       "      <td>-0.042956</td>\n",
       "      <td>0.541847</td>\n",
       "      <td>-0.784760</td>\n",
       "      <td>-0.720447</td>\n",
       "      <td>0.858163</td>\n",
       "    </tr>\n",
       "    <tr>\n",
       "      <th>2</th>\n",
       "      <td>-0.239699</td>\n",
       "      <td>0.638553</td>\n",
       "      <td>0.092467</td>\n",
       "      <td>0.424895</td>\n",
       "      <td>1.478745</td>\n",
       "      <td>-1.309053</td>\n",
       "      <td>-1.874004</td>\n",
       "      <td>1.029346</td>\n",
       "      <td>-2.413534</td>\n",
       "      <td>-1.290041</td>\n",
       "      <td>...</td>\n",
       "      <td>-1.461297</td>\n",
       "      <td>0.089339</td>\n",
       "      <td>1.043565</td>\n",
       "      <td>0.183637</td>\n",
       "      <td>0.621399</td>\n",
       "      <td>0.126117</td>\n",
       "      <td>-0.072639</td>\n",
       "      <td>-0.732929</td>\n",
       "      <td>-0.012468</td>\n",
       "      <td>0.045221</td>\n",
       "    </tr>\n",
       "    <tr>\n",
       "      <th>3</th>\n",
       "      <td>-0.156285</td>\n",
       "      <td>0.574079</td>\n",
       "      <td>0.504434</td>\n",
       "      <td>1.197834</td>\n",
       "      <td>-1.509267</td>\n",
       "      <td>0.568395</td>\n",
       "      <td>0.358896</td>\n",
       "      <td>0.646974</td>\n",
       "      <td>-1.485605</td>\n",
       "      <td>-1.790674</td>\n",
       "      <td>...</td>\n",
       "      <td>-0.183974</td>\n",
       "      <td>0.095651</td>\n",
       "      <td>-0.163192</td>\n",
       "      <td>-0.210829</td>\n",
       "      <td>-2.479444</td>\n",
       "      <td>0.752168</td>\n",
       "      <td>0.040930</td>\n",
       "      <td>1.555769</td>\n",
       "      <td>-0.311284</td>\n",
       "      <td>-1.394341</td>\n",
       "    </tr>\n",
       "    <tr>\n",
       "      <th>4</th>\n",
       "      <td>-1.479530</td>\n",
       "      <td>0.315190</td>\n",
       "      <td>-0.515626</td>\n",
       "      <td>-0.120590</td>\n",
       "      <td>-0.389143</td>\n",
       "      <td>0.128402</td>\n",
       "      <td>1.972385</td>\n",
       "      <td>-0.517135</td>\n",
       "      <td>-0.291957</td>\n",
       "      <td>-0.061847</td>\n",
       "      <td>...</td>\n",
       "      <td>-1.951540</td>\n",
       "      <td>1.353784</td>\n",
       "      <td>-1.769192</td>\n",
       "      <td>-0.428736</td>\n",
       "      <td>0.932546</td>\n",
       "      <td>1.368559</td>\n",
       "      <td>-1.160664</td>\n",
       "      <td>0.196981</td>\n",
       "      <td>-0.052505</td>\n",
       "      <td>0.829018</td>\n",
       "    </tr>\n",
       "  </tbody>\n",
       "</table>\n",
       "<p>5 rows × 300 columns</p>\n",
       "</div>"
      ],
      "text/plain": [
       "        0         1         2         3         4         5         6    \\\n",
       "0  0.286376 -0.860225 -1.101927  0.141082  0.715762  0.278982 -1.340203   \n",
       "1  0.256991 -0.996117  0.297932 -0.495988 -0.057367 -1.014300  1.221035   \n",
       "2 -0.239699  0.638553  0.092467  0.424895  1.478745 -1.309053 -1.874004   \n",
       "3 -0.156285  0.574079  0.504434  1.197834 -1.509267  0.568395  0.358896   \n",
       "4 -1.479530  0.315190 -0.515626 -0.120590 -0.389143  0.128402  1.972385   \n",
       "\n",
       "        7         8         9    ...       290       291       292       293  \\\n",
       "0  1.400034  1.318056 -0.752581  ...  0.170780  1.121303  1.585252 -1.380819   \n",
       "1 -1.430578  1.039782 -0.635137  ...  0.417970 -0.898443 -1.560543  0.683146   \n",
       "2  1.029346 -2.413534 -1.290041  ... -1.461297  0.089339  1.043565  0.183637   \n",
       "3  0.646974 -1.485605 -1.790674  ... -0.183974  0.095651 -0.163192 -0.210829   \n",
       "4 -0.517135 -0.291957 -0.061847  ... -1.951540  1.353784 -1.769192 -0.428736   \n",
       "\n",
       "        294       295       296       297       298       299  \n",
       "0  1.953920  0.947327 -0.034106 -1.278680  1.440599  0.894594  \n",
       "1  1.080389 -0.042956  0.541847 -0.784760 -0.720447  0.858163  \n",
       "2  0.621399  0.126117 -0.072639 -0.732929 -0.012468  0.045221  \n",
       "3 -2.479444  0.752168  0.040930  1.555769 -0.311284 -1.394341  \n",
       "4  0.932546  1.368559 -1.160664  0.196981 -0.052505  0.829018  \n",
       "\n",
       "[5 rows x 300 columns]"
      ]
     },
     "execution_count": 8,
     "metadata": {},
     "output_type": "execute_result"
    }
   ],
   "source": [
    "# Reference: https://scikit-learn.org/stable/modules/generated/sklearn.preprocessing.StandardScaler.html\n",
    "# Standardize train features by removing the mean and scaling to unit variance.\n",
    "scaler = StandardScaler()\n",
    "X_train = scaler.fit_transform(X_train)\n",
    "X_train = pd.DataFrame(X_train)\n",
    "# print the first 5 rows\n",
    "X_train.head()"
   ]
  },
  {
   "cell_type": "code",
   "execution_count": 9,
   "id": "176647ce",
   "metadata": {},
   "outputs": [
    {
     "data": {
      "text/html": [
       "<div>\n",
       "<style scoped>\n",
       "    .dataframe tbody tr th:only-of-type {\n",
       "        vertical-align: middle;\n",
       "    }\n",
       "\n",
       "    .dataframe tbody tr th {\n",
       "        vertical-align: top;\n",
       "    }\n",
       "\n",
       "    .dataframe thead th {\n",
       "        text-align: right;\n",
       "    }\n",
       "</style>\n",
       "<table border=\"1\" class=\"dataframe\">\n",
       "  <thead>\n",
       "    <tr style=\"text-align: right;\">\n",
       "      <th></th>\n",
       "      <th>0</th>\n",
       "      <th>1</th>\n",
       "      <th>2</th>\n",
       "      <th>3</th>\n",
       "      <th>4</th>\n",
       "      <th>5</th>\n",
       "      <th>6</th>\n",
       "      <th>7</th>\n",
       "      <th>8</th>\n",
       "      <th>9</th>\n",
       "      <th>...</th>\n",
       "      <th>290</th>\n",
       "      <th>291</th>\n",
       "      <th>292</th>\n",
       "      <th>293</th>\n",
       "      <th>294</th>\n",
       "      <th>295</th>\n",
       "      <th>296</th>\n",
       "      <th>297</th>\n",
       "      <th>298</th>\n",
       "      <th>299</th>\n",
       "    </tr>\n",
       "  </thead>\n",
       "  <tbody>\n",
       "    <tr>\n",
       "      <th>0</th>\n",
       "      <td>-0.803689</td>\n",
       "      <td>-1.818411</td>\n",
       "      <td>-0.267615</td>\n",
       "      <td>-0.727467</td>\n",
       "      <td>0.080619</td>\n",
       "      <td>-0.848768</td>\n",
       "      <td>0.542201</td>\n",
       "      <td>-0.158130</td>\n",
       "      <td>0.185084</td>\n",
       "      <td>-0.599306</td>\n",
       "      <td>...</td>\n",
       "      <td>1.024052</td>\n",
       "      <td>-0.345117</td>\n",
       "      <td>0.434669</td>\n",
       "      <td>-0.330398</td>\n",
       "      <td>-1.618475</td>\n",
       "      <td>-0.407187</td>\n",
       "      <td>-1.054194</td>\n",
       "      <td>0.908389</td>\n",
       "      <td>-0.564203</td>\n",
       "      <td>-0.218126</td>\n",
       "    </tr>\n",
       "    <tr>\n",
       "      <th>1</th>\n",
       "      <td>1.600141</td>\n",
       "      <td>0.870660</td>\n",
       "      <td>-1.633230</td>\n",
       "      <td>-0.882458</td>\n",
       "      <td>0.635608</td>\n",
       "      <td>-0.215477</td>\n",
       "      <td>0.764786</td>\n",
       "      <td>-0.050854</td>\n",
       "      <td>-1.519082</td>\n",
       "      <td>0.759272</td>\n",
       "      <td>...</td>\n",
       "      <td>1.974546</td>\n",
       "      <td>-0.789040</td>\n",
       "      <td>-0.321686</td>\n",
       "      <td>1.326808</td>\n",
       "      <td>0.140183</td>\n",
       "      <td>-0.040057</td>\n",
       "      <td>1.394624</td>\n",
       "      <td>-1.371163</td>\n",
       "      <td>-0.370852</td>\n",
       "      <td>-0.084891</td>\n",
       "    </tr>\n",
       "    <tr>\n",
       "      <th>2</th>\n",
       "      <td>-1.303224</td>\n",
       "      <td>-0.075623</td>\n",
       "      <td>-0.502136</td>\n",
       "      <td>0.369542</td>\n",
       "      <td>0.991734</td>\n",
       "      <td>-1.586719</td>\n",
       "      <td>1.642033</td>\n",
       "      <td>0.182818</td>\n",
       "      <td>2.655025</td>\n",
       "      <td>0.900604</td>\n",
       "      <td>...</td>\n",
       "      <td>-1.037246</td>\n",
       "      <td>1.410590</td>\n",
       "      <td>0.432663</td>\n",
       "      <td>-0.472317</td>\n",
       "      <td>-1.614609</td>\n",
       "      <td>1.776265</td>\n",
       "      <td>0.379607</td>\n",
       "      <td>-0.285759</td>\n",
       "      <td>-1.227263</td>\n",
       "      <td>0.448049</td>\n",
       "    </tr>\n",
       "    <tr>\n",
       "      <th>3</th>\n",
       "      <td>-2.093758</td>\n",
       "      <td>-2.401655</td>\n",
       "      <td>0.469153</td>\n",
       "      <td>-0.661043</td>\n",
       "      <td>-1.112557</td>\n",
       "      <td>1.088485</td>\n",
       "      <td>0.240050</td>\n",
       "      <td>-0.254785</td>\n",
       "      <td>-0.199897</td>\n",
       "      <td>0.755291</td>\n",
       "      <td>...</td>\n",
       "      <td>0.927865</td>\n",
       "      <td>-0.301987</td>\n",
       "      <td>1.930326</td>\n",
       "      <td>-0.523721</td>\n",
       "      <td>0.796298</td>\n",
       "      <td>0.359920</td>\n",
       "      <td>-0.607018</td>\n",
       "      <td>-0.909765</td>\n",
       "      <td>0.275607</td>\n",
       "      <td>1.775194</td>\n",
       "    </tr>\n",
       "    <tr>\n",
       "      <th>4</th>\n",
       "      <td>-0.061497</td>\n",
       "      <td>0.362802</td>\n",
       "      <td>2.014290</td>\n",
       "      <td>-0.692242</td>\n",
       "      <td>1.223064</td>\n",
       "      <td>-2.647189</td>\n",
       "      <td>-0.429720</td>\n",
       "      <td>-0.522445</td>\n",
       "      <td>-0.260573</td>\n",
       "      <td>-1.551804</td>\n",
       "      <td>...</td>\n",
       "      <td>-0.629744</td>\n",
       "      <td>2.638217</td>\n",
       "      <td>-0.769079</td>\n",
       "      <td>0.261860</td>\n",
       "      <td>0.935445</td>\n",
       "      <td>0.137710</td>\n",
       "      <td>0.171736</td>\n",
       "      <td>-0.243075</td>\n",
       "      <td>0.707230</td>\n",
       "      <td>-1.455754</td>\n",
       "    </tr>\n",
       "  </tbody>\n",
       "</table>\n",
       "<p>5 rows × 300 columns</p>\n",
       "</div>"
      ],
      "text/plain": [
       "        0         1         2         3         4         5         6    \\\n",
       "0 -0.803689 -1.818411 -0.267615 -0.727467  0.080619 -0.848768  0.542201   \n",
       "1  1.600141  0.870660 -1.633230 -0.882458  0.635608 -0.215477  0.764786   \n",
       "2 -1.303224 -0.075623 -0.502136  0.369542  0.991734 -1.586719  1.642033   \n",
       "3 -2.093758 -2.401655  0.469153 -0.661043 -1.112557  1.088485  0.240050   \n",
       "4 -0.061497  0.362802  2.014290 -0.692242  1.223064 -2.647189 -0.429720   \n",
       "\n",
       "        7         8         9    ...       290       291       292       293  \\\n",
       "0 -0.158130  0.185084 -0.599306  ...  1.024052 -0.345117  0.434669 -0.330398   \n",
       "1 -0.050854 -1.519082  0.759272  ...  1.974546 -0.789040 -0.321686  1.326808   \n",
       "2  0.182818  2.655025  0.900604  ... -1.037246  1.410590  0.432663 -0.472317   \n",
       "3 -0.254785 -0.199897  0.755291  ...  0.927865 -0.301987  1.930326 -0.523721   \n",
       "4 -0.522445 -0.260573 -1.551804  ... -0.629744  2.638217 -0.769079  0.261860   \n",
       "\n",
       "        294       295       296       297       298       299  \n",
       "0 -1.618475 -0.407187 -1.054194  0.908389 -0.564203 -0.218126  \n",
       "1  0.140183 -0.040057  1.394624 -1.371163 -0.370852 -0.084891  \n",
       "2 -1.614609  1.776265  0.379607 -0.285759 -1.227263  0.448049  \n",
       "3  0.796298  0.359920 -0.607018 -0.909765  0.275607  1.775194  \n",
       "4  0.935445  0.137710  0.171736 -0.243075  0.707230 -1.455754  \n",
       "\n",
       "[5 rows x 300 columns]"
      ]
     },
     "execution_count": 9,
     "metadata": {},
     "output_type": "execute_result"
    }
   ],
   "source": [
    "# Reference: https://scikit-learn.org/stable/modules/generated/sklearn.preprocessing.StandardScaler.html\n",
    "# Standardize test features by removing the mean and scaling to unit variance.\n",
    "X_test = scaler.transform(X_test)\n",
    "X_test = pd.DataFrame(X_test)\n",
    "# print the first 5 rows\n",
    "X_test.head()"
   ]
  },
  {
   "cell_type": "code",
   "execution_count": 10,
   "id": "ad394429",
   "metadata": {},
   "outputs": [
    {
     "data": {
      "text/html": [
       "<div>\n",
       "<style scoped>\n",
       "    .dataframe tbody tr th:only-of-type {\n",
       "        vertical-align: middle;\n",
       "    }\n",
       "\n",
       "    .dataframe tbody tr th {\n",
       "        vertical-align: top;\n",
       "    }\n",
       "\n",
       "    .dataframe thead th {\n",
       "        text-align: right;\n",
       "    }\n",
       "</style>\n",
       "<table border=\"1\" class=\"dataframe\">\n",
       "  <thead>\n",
       "    <tr style=\"text-align: right;\">\n",
       "      <th></th>\n",
       "      <th>0</th>\n",
       "      <th>1</th>\n",
       "      <th>2</th>\n",
       "      <th>3</th>\n",
       "      <th>4</th>\n",
       "      <th>5</th>\n",
       "      <th>6</th>\n",
       "      <th>7</th>\n",
       "      <th>8</th>\n",
       "      <th>9</th>\n",
       "      <th>...</th>\n",
       "      <th>290</th>\n",
       "      <th>291</th>\n",
       "      <th>292</th>\n",
       "      <th>293</th>\n",
       "      <th>294</th>\n",
       "      <th>295</th>\n",
       "      <th>296</th>\n",
       "      <th>297</th>\n",
       "      <th>298</th>\n",
       "      <th>299</th>\n",
       "    </tr>\n",
       "  </thead>\n",
       "  <tbody>\n",
       "    <tr>\n",
       "      <th>0</th>\n",
       "      <td>0.442776</td>\n",
       "      <td>-1.025874</td>\n",
       "      <td>-1.753603</td>\n",
       "      <td>0.315194</td>\n",
       "      <td>-0.697583</td>\n",
       "      <td>0.551308</td>\n",
       "      <td>0.476735</td>\n",
       "      <td>-0.193181</td>\n",
       "      <td>-0.691584</td>\n",
       "      <td>1.258910</td>\n",
       "      <td>...</td>\n",
       "      <td>-0.149843</td>\n",
       "      <td>-2.904514</td>\n",
       "      <td>-0.842307</td>\n",
       "      <td>2.325826</td>\n",
       "      <td>-0.236672</td>\n",
       "      <td>2.138564</td>\n",
       "      <td>0.539819</td>\n",
       "      <td>-0.120103</td>\n",
       "      <td>0.268771</td>\n",
       "      <td>1.065302</td>\n",
       "    </tr>\n",
       "    <tr>\n",
       "      <th>1</th>\n",
       "      <td>0.704392</td>\n",
       "      <td>0.905377</td>\n",
       "      <td>-0.611094</td>\n",
       "      <td>1.359869</td>\n",
       "      <td>-0.852818</td>\n",
       "      <td>0.527814</td>\n",
       "      <td>0.520043</td>\n",
       "      <td>-0.388615</td>\n",
       "      <td>0.239483</td>\n",
       "      <td>1.323604</td>\n",
       "      <td>...</td>\n",
       "      <td>-0.765233</td>\n",
       "      <td>-0.209415</td>\n",
       "      <td>0.030411</td>\n",
       "      <td>0.680911</td>\n",
       "      <td>-0.310110</td>\n",
       "      <td>-1.015848</td>\n",
       "      <td>-3.259651</td>\n",
       "      <td>0.271171</td>\n",
       "      <td>-0.646231</td>\n",
       "      <td>-0.745861</td>\n",
       "    </tr>\n",
       "    <tr>\n",
       "      <th>2</th>\n",
       "      <td>1.627630</td>\n",
       "      <td>0.503653</td>\n",
       "      <td>-0.157619</td>\n",
       "      <td>0.844577</td>\n",
       "      <td>-0.456107</td>\n",
       "      <td>1.540226</td>\n",
       "      <td>-0.768129</td>\n",
       "      <td>-2.190011</td>\n",
       "      <td>-1.414468</td>\n",
       "      <td>0.140198</td>\n",
       "      <td>...</td>\n",
       "      <td>-0.156049</td>\n",
       "      <td>0.229249</td>\n",
       "      <td>-0.603563</td>\n",
       "      <td>-0.819850</td>\n",
       "      <td>0.001037</td>\n",
       "      <td>0.756033</td>\n",
       "      <td>0.911959</td>\n",
       "      <td>0.122792</td>\n",
       "      <td>-1.331751</td>\n",
       "      <td>2.609995</td>\n",
       "    </tr>\n",
       "    <tr>\n",
       "      <th>3</th>\n",
       "      <td>-0.558188</td>\n",
       "      <td>-1.841225</td>\n",
       "      <td>-0.806182</td>\n",
       "      <td>0.585924</td>\n",
       "      <td>1.642096</td>\n",
       "      <td>0.561988</td>\n",
       "      <td>-1.491279</td>\n",
       "      <td>0.710703</td>\n",
       "      <td>0.561695</td>\n",
       "      <td>0.538317</td>\n",
       "      <td>...</td>\n",
       "      <td>-0.406342</td>\n",
       "      <td>-0.967872</td>\n",
       "      <td>0.261129</td>\n",
       "      <td>-0.030917</td>\n",
       "      <td>-0.776831</td>\n",
       "      <td>0.963751</td>\n",
       "      <td>2.367053</td>\n",
       "      <td>1.055752</td>\n",
       "      <td>-1.599318</td>\n",
       "      <td>-1.545271</td>\n",
       "    </tr>\n",
       "    <tr>\n",
       "      <th>4</th>\n",
       "      <td>0.683539</td>\n",
       "      <td>-0.244248</td>\n",
       "      <td>1.118753</td>\n",
       "      <td>-1.629229</td>\n",
       "      <td>0.035976</td>\n",
       "      <td>0.410340</td>\n",
       "      <td>0.724499</td>\n",
       "      <td>-1.928723</td>\n",
       "      <td>-1.470959</td>\n",
       "      <td>-0.951641</td>\n",
       "      <td>...</td>\n",
       "      <td>2.200016</td>\n",
       "      <td>-1.286613</td>\n",
       "      <td>0.222007</td>\n",
       "      <td>1.329043</td>\n",
       "      <td>-0.107188</td>\n",
       "      <td>0.389870</td>\n",
       "      <td>-0.146661</td>\n",
       "      <td>-0.172950</td>\n",
       "      <td>-1.161836</td>\n",
       "      <td>0.905003</td>\n",
       "    </tr>\n",
       "  </tbody>\n",
       "</table>\n",
       "<p>5 rows × 300 columns</p>\n",
       "</div>"
      ],
      "text/plain": [
       "        0         1         2         3         4         5         6    \\\n",
       "0  0.442776 -1.025874 -1.753603  0.315194 -0.697583  0.551308  0.476735   \n",
       "1  0.704392  0.905377 -0.611094  1.359869 -0.852818  0.527814  0.520043   \n",
       "2  1.627630  0.503653 -0.157619  0.844577 -0.456107  1.540226 -0.768129   \n",
       "3 -0.558188 -1.841225 -0.806182  0.585924  1.642096  0.561988 -1.491279   \n",
       "4  0.683539 -0.244248  1.118753 -1.629229  0.035976  0.410340  0.724499   \n",
       "\n",
       "        7         8         9    ...       290       291       292       293  \\\n",
       "0 -0.193181 -0.691584  1.258910  ... -0.149843 -2.904514 -0.842307  2.325826   \n",
       "1 -0.388615  0.239483  1.323604  ... -0.765233 -0.209415  0.030411  0.680911   \n",
       "2 -2.190011 -1.414468  0.140198  ... -0.156049  0.229249 -0.603563 -0.819850   \n",
       "3  0.710703  0.561695  0.538317  ... -0.406342 -0.967872  0.261129 -0.030917   \n",
       "4 -1.928723 -1.470959 -0.951641  ...  2.200016 -1.286613  0.222007  1.329043   \n",
       "\n",
       "        294       295       296       297       298       299  \n",
       "0 -0.236672  2.138564  0.539819 -0.120103  0.268771  1.065302  \n",
       "1 -0.310110 -1.015848 -3.259651  0.271171 -0.646231 -0.745861  \n",
       "2  0.001037  0.756033  0.911959  0.122792 -1.331751  2.609995  \n",
       "3 -0.776831  0.963751  2.367053  1.055752 -1.599318 -1.545271  \n",
       "4 -0.107188  0.389870 -0.146661 -0.172950 -1.161836  0.905003  \n",
       "\n",
       "[5 rows x 300 columns]"
      ]
     },
     "execution_count": 10,
     "metadata": {},
     "output_type": "execute_result"
    }
   ],
   "source": [
    "# Reference: https://scikit-learn.org/stable/modules/generated/sklearn.preprocessing.StandardScaler.html\n",
    "# Standardize test features by removing the mean and scaling to unit variance.\n",
    "test = test_df.drop(\"id\",axis=1) \n",
    "test = scaler.transform(test)\n",
    "test = pd.DataFrame(test)\n",
    "# print the first 5 rows\n",
    "test.head()"
   ]
  },
  {
   "cell_type": "markdown",
   "id": "c376b526",
   "metadata": {},
   "source": [
    "## 5. Cross Validation and Hyper parameter Tuning"
   ]
  },
  {
   "cell_type": "code",
   "execution_count": 11,
   "id": "de4d6996",
   "metadata": {},
   "outputs": [],
   "source": [
    "# Reference: https://towardsdatascience.com/how-to-train-test-split-kfold-vs-stratifiedkfold-281767b93869\n",
    "# Reference: https://scikit-learn.org/stable/modules/generated/sklearn.model_selection.StratifiedKFold.html\n",
    "# Reference: https://scikit-learn.org/stable/modules/generated/sklearn.model_selection.GridSearchCV.html\n",
    "# perform StratifiedKFold Cross Validation and Hyperparameter Tuning using GridSearchCV\n",
    "def CrossValidationandHyperparameterTuning(model,hyperparameters):\n",
    "    \"\"\"\n",
    "    This function performs StratifiedKFold Cross Validation and Hyperparameter Tuning using GridSearchCV.\n",
    "    Parameters     \n",
    "    model          : instance of model\n",
    "    hyperparameters: dictionary of hyperparameters\n",
    "    Returns   \n",
    "    clf            : fitted model\n",
    "    \"\"\"\n",
    "    kfold = StratifiedKFold(n_splits=5)\n",
    "    # create GridSearchCV object\n",
    "    clf = GridSearchCV(model,hyperparameters,scoring=\"roc_auc\",n_jobs=-1,cv=kfold,verbose=0,return_train_score=True)\n",
    "    # fit model using GridSearchCV\n",
    "    clf = clf.fit(X_train,y_train)\n",
    "    return clf"
   ]
  },
  {
   "cell_type": "markdown",
   "id": "5c2f474a",
   "metadata": {},
   "source": [
    "## 6. Hyper parameter vs AUC Plot"
   ]
  },
  {
   "cell_type": "code",
   "execution_count": 12,
   "id": "a5191ea5",
   "metadata": {},
   "outputs": [],
   "source": [
    "def HyperparameterVSAucPlot(results,param):\n",
    "    \"\"\"\n",
    "    Plot of Hyper parameter vs AUC of each model\n",
    "    Parameters     \n",
    "    results   : instance of model\n",
    "    params    : list of hyper parameters\n",
    "    Returns   \n",
    "    plot of Hyper Parameter vs AUC\n",
    "    \"\"\"\n",
    "    train_auc = results[\"mean_train_score\"]\n",
    "    train_auc_std = results[\"std_train_score\"]\n",
    "    cv_auc = results[\"mean_test_score\"]\n",
    "    cv_auc_std = results[\"std_test_score\"]\n",
    "    a = results[param]\n",
    "    plt.figure(figsize=(10,5))\n",
    "    plt.plot(a,train_auc,label=\"Train AUC\")\n",
    "    plt.plot(a,cv_auc,label=\"Validation AUC\")\n",
    "    plt.title(\"Hyper Parameter vs AUC\")\n",
    "    plt.xlabel(\"Hyper Parameter\")\n",
    "    plt.ylabel(\"Area under ROC curve\")\n",
    "    plt.legend()\n",
    "    plt.grid()\n",
    "    plt.show()"
   ]
  },
  {
   "cell_type": "markdown",
   "id": "83e4e994",
   "metadata": {},
   "source": [
    "## 7. Compute best threshold for Confusion Matrix"
   ]
  },
  {
   "cell_type": "code",
   "execution_count": 13,
   "id": "310ae908",
   "metadata": {},
   "outputs": [],
   "source": [
    "def find_best_threshold(fpr,tpr,threshold):\n",
    "    \"\"\"\n",
    "    This function find the best threshold for confusion matrix\n",
    "    Parameters     \n",
    "    fpr       : False Positive Rate\n",
    "    tpr       : True Positive Rate\n",
    "    threshold : Train Thresholds\n",
    "    Returns   \n",
    "    t         : best threshold\n",
    "    \"\"\"\n",
    "    t = threshold[np.argmax(tpr*(1-fpr))]\n",
    "    print(\"Best threshold value: \",t)\n",
    "    return t\n",
    "\n",
    "def compute_with_best_threshold(proba,threshold):\n",
    "    \"\"\"\n",
    "    This function compute predictions for confusion Matrix\n",
    "    Parameters     \n",
    "    proba       : train predictions\n",
    "    threshold   : best threshold\n",
    "    Returns   \n",
    "    predictions : list of predicted values\n",
    "    \"\"\"\n",
    "    predictions = []\n",
    "    for i in proba:\n",
    "        if i>=threshold:\n",
    "            predictions.append(1)\n",
    "        else:\n",
    "            predictions.append(0)\n",
    "    return predictions"
   ]
  },
  {
   "cell_type": "markdown",
   "id": "e5bed460",
   "metadata": {},
   "source": [
    "## 8. Apply ML Models"
   ]
  },
  {
   "cell_type": "markdown",
   "id": "d36470a2",
   "metadata": {},
   "source": [
    "### 8.1 kNN (k Nearest Neighbors)"
   ]
  },
  {
   "cell_type": "code",
   "execution_count": 14,
   "id": "c5a75167",
   "metadata": {},
   "outputs": [],
   "source": [
    "# Reference: https://scikit-learn.org/stable/modules/generated/sklearn.neighbors.KNeighborsClassifier.html\n",
    "# import KNeighborsClassifier\n",
    "from sklearn.neighbors import KNeighborsClassifier\n",
    "# dictionary of hyper parameters\n",
    "parameters = {\"n_neighbors\":np.arange(3,50).tolist()}\n",
    "# insance of KNeighborsClassifier model\n",
    "neigh = KNeighborsClassifier()\n",
    "# call CrossValidationandHyperparameterTuning function\n",
    "knn_clf = CrossValidationandHyperparameterTuning(neigh,parameters)"
   ]
  },
  {
   "cell_type": "code",
   "execution_count": 15,
   "id": "40390b98",
   "metadata": {},
   "outputs": [
    {
     "name": "stdout",
     "output_type": "stream",
     "text": [
      "Shape of Resultant Dataset: (47, 21)\n"
     ]
    },
    {
     "data": {
      "text/html": [
       "<div>\n",
       "<style scoped>\n",
       "    .dataframe tbody tr th:only-of-type {\n",
       "        vertical-align: middle;\n",
       "    }\n",
       "\n",
       "    .dataframe tbody tr th {\n",
       "        vertical-align: top;\n",
       "    }\n",
       "\n",
       "    .dataframe thead th {\n",
       "        text-align: right;\n",
       "    }\n",
       "</style>\n",
       "<table border=\"1\" class=\"dataframe\">\n",
       "  <thead>\n",
       "    <tr style=\"text-align: right;\">\n",
       "      <th></th>\n",
       "      <th>mean_fit_time</th>\n",
       "      <th>std_fit_time</th>\n",
       "      <th>mean_score_time</th>\n",
       "      <th>std_score_time</th>\n",
       "      <th>param_n_neighbors</th>\n",
       "      <th>params</th>\n",
       "      <th>split0_test_score</th>\n",
       "      <th>split1_test_score</th>\n",
       "      <th>split2_test_score</th>\n",
       "      <th>split3_test_score</th>\n",
       "      <th>...</th>\n",
       "      <th>mean_test_score</th>\n",
       "      <th>std_test_score</th>\n",
       "      <th>rank_test_score</th>\n",
       "      <th>split0_train_score</th>\n",
       "      <th>split1_train_score</th>\n",
       "      <th>split2_train_score</th>\n",
       "      <th>split3_train_score</th>\n",
       "      <th>split4_train_score</th>\n",
       "      <th>mean_train_score</th>\n",
       "      <th>std_train_score</th>\n",
       "    </tr>\n",
       "  </thead>\n",
       "  <tbody>\n",
       "    <tr>\n",
       "      <th>0</th>\n",
       "      <td>0.011580</td>\n",
       "      <td>0.006059</td>\n",
       "      <td>0.006134</td>\n",
       "      <td>0.005128</td>\n",
       "      <td>3</td>\n",
       "      <td>{'n_neighbors': 3}</td>\n",
       "      <td>0.621284</td>\n",
       "      <td>0.769322</td>\n",
       "      <td>0.728300</td>\n",
       "      <td>0.695813</td>\n",
       "      <td>...</td>\n",
       "      <td>0.709865</td>\n",
       "      <td>0.050062</td>\n",
       "      <td>1</td>\n",
       "      <td>0.934594</td>\n",
       "      <td>0.886881</td>\n",
       "      <td>0.935577</td>\n",
       "      <td>0.895240</td>\n",
       "      <td>0.895502</td>\n",
       "      <td>0.909559</td>\n",
       "      <td>0.021074</td>\n",
       "    </tr>\n",
       "    <tr>\n",
       "      <th>1</th>\n",
       "      <td>0.013780</td>\n",
       "      <td>0.002259</td>\n",
       "      <td>0.002205</td>\n",
       "      <td>0.004409</td>\n",
       "      <td>4</td>\n",
       "      <td>{'n_neighbors': 4}</td>\n",
       "      <td>0.594530</td>\n",
       "      <td>0.718787</td>\n",
       "      <td>0.700951</td>\n",
       "      <td>0.725985</td>\n",
       "      <td>...</td>\n",
       "      <td>0.681425</td>\n",
       "      <td>0.048011</td>\n",
       "      <td>9</td>\n",
       "      <td>0.869112</td>\n",
       "      <td>0.850170</td>\n",
       "      <td>0.897240</td>\n",
       "      <td>0.862069</td>\n",
       "      <td>0.847114</td>\n",
       "      <td>0.865141</td>\n",
       "      <td>0.017915</td>\n",
       "    </tr>\n",
       "    <tr>\n",
       "      <th>2</th>\n",
       "      <td>0.011663</td>\n",
       "      <td>0.006116</td>\n",
       "      <td>0.006334</td>\n",
       "      <td>0.006170</td>\n",
       "      <td>5</td>\n",
       "      <td>{'n_neighbors': 5}</td>\n",
       "      <td>0.626040</td>\n",
       "      <td>0.699762</td>\n",
       "      <td>0.637337</td>\n",
       "      <td>0.760468</td>\n",
       "      <td>...</td>\n",
       "      <td>0.678835</td>\n",
       "      <td>0.048331</td>\n",
       "      <td>11</td>\n",
       "      <td>0.843327</td>\n",
       "      <td>0.837618</td>\n",
       "      <td>0.851796</td>\n",
       "      <td>0.819565</td>\n",
       "      <td>0.824025</td>\n",
       "      <td>0.835266</td>\n",
       "      <td>0.011972</td>\n",
       "    </tr>\n",
       "    <tr>\n",
       "      <th>3</th>\n",
       "      <td>0.007257</td>\n",
       "      <td>0.007081</td>\n",
       "      <td>0.009373</td>\n",
       "      <td>0.007653</td>\n",
       "      <td>6</td>\n",
       "      <td>{'n_neighbors': 6}</td>\n",
       "      <td>0.674197</td>\n",
       "      <td>0.681926</td>\n",
       "      <td>0.668252</td>\n",
       "      <td>0.747537</td>\n",
       "      <td>...</td>\n",
       "      <td>0.683816</td>\n",
       "      <td>0.033887</td>\n",
       "      <td>7</td>\n",
       "      <td>0.842344</td>\n",
       "      <td>0.826805</td>\n",
       "      <td>0.838526</td>\n",
       "      <td>0.803336</td>\n",
       "      <td>0.820540</td>\n",
       "      <td>0.826310</td>\n",
       "      <td>0.013912</td>\n",
       "    </tr>\n",
       "    <tr>\n",
       "      <th>4</th>\n",
       "      <td>0.009375</td>\n",
       "      <td>0.007655</td>\n",
       "      <td>0.009376</td>\n",
       "      <td>0.007656</td>\n",
       "      <td>7</td>\n",
       "      <td>{'n_neighbors': 7}</td>\n",
       "      <td>0.667658</td>\n",
       "      <td>0.702140</td>\n",
       "      <td>0.639120</td>\n",
       "      <td>0.785099</td>\n",
       "      <td>...</td>\n",
       "      <td>0.685035</td>\n",
       "      <td>0.055890</td>\n",
       "      <td>6</td>\n",
       "      <td>0.842798</td>\n",
       "      <td>0.813913</td>\n",
       "      <td>0.830208</td>\n",
       "      <td>0.787706</td>\n",
       "      <td>0.825825</td>\n",
       "      <td>0.820090</td>\n",
       "      <td>0.018643</td>\n",
       "    </tr>\n",
       "  </tbody>\n",
       "</table>\n",
       "<p>5 rows × 21 columns</p>\n",
       "</div>"
      ],
      "text/plain": [
       "   mean_fit_time  std_fit_time  mean_score_time  std_score_time  \\\n",
       "0       0.011580      0.006059         0.006134        0.005128   \n",
       "1       0.013780      0.002259         0.002205        0.004409   \n",
       "2       0.011663      0.006116         0.006334        0.006170   \n",
       "3       0.007257      0.007081         0.009373        0.007653   \n",
       "4       0.009375      0.007655         0.009376        0.007656   \n",
       "\n",
       "  param_n_neighbors              params  split0_test_score  split1_test_score  \\\n",
       "0                 3  {'n_neighbors': 3}           0.621284           0.769322   \n",
       "1                 4  {'n_neighbors': 4}           0.594530           0.718787   \n",
       "2                 5  {'n_neighbors': 5}           0.626040           0.699762   \n",
       "3                 6  {'n_neighbors': 6}           0.674197           0.681926   \n",
       "4                 7  {'n_neighbors': 7}           0.667658           0.702140   \n",
       "\n",
       "   split2_test_score  split3_test_score  ...  mean_test_score  std_test_score  \\\n",
       "0           0.728300           0.695813  ...         0.709865        0.050062   \n",
       "1           0.700951           0.725985  ...         0.681425        0.048011   \n",
       "2           0.637337           0.760468  ...         0.678835        0.048331   \n",
       "3           0.668252           0.747537  ...         0.683816        0.033887   \n",
       "4           0.639120           0.785099  ...         0.685035        0.055890   \n",
       "\n",
       "   rank_test_score  split0_train_score  split1_train_score  \\\n",
       "0                1            0.934594            0.886881   \n",
       "1                9            0.869112            0.850170   \n",
       "2               11            0.843327            0.837618   \n",
       "3                7            0.842344            0.826805   \n",
       "4                6            0.842798            0.813913   \n",
       "\n",
       "   split2_train_score  split3_train_score  split4_train_score  \\\n",
       "0            0.935577            0.895240            0.895502   \n",
       "1            0.897240            0.862069            0.847114   \n",
       "2            0.851796            0.819565            0.824025   \n",
       "3            0.838526            0.803336            0.820540   \n",
       "4            0.830208            0.787706            0.825825   \n",
       "\n",
       "   mean_train_score  std_train_score  \n",
       "0          0.909559         0.021074  \n",
       "1          0.865141         0.017915  \n",
       "2          0.835266         0.011972  \n",
       "3          0.826310         0.013912  \n",
       "4          0.820090         0.018643  \n",
       "\n",
       "[5 rows x 21 columns]"
      ]
     },
     "execution_count": 15,
     "metadata": {},
     "output_type": "execute_result"
    }
   ],
   "source": [
    "# dictionary of all the evaluation metrics from the gridsearch\n",
    "knn_results = pd.DataFrame.from_dict(knn_clf.cv_results_)\n",
    "# sort knn_results based on param_n_neighbors\n",
    "knn_results = knn_results.sort_values([\"param_n_neighbors\"])\n",
    "print(\"Shape of Resultant Dataset:\",knn_results.shape)\n",
    "knn_results.head()"
   ]
  },
  {
   "cell_type": "code",
   "execution_count": 16,
   "id": "0eeca71f",
   "metadata": {},
   "outputs": [
    {
     "data": {
      "image/png": "[encoded data removed]",
      "text/plain": [
       "<Figure size 720x360 with 1 Axes>"
      ]
     },
     "metadata": {
      "needs_background": "light"
     },
     "output_type": "display_data"
    }
   ],
   "source": [
    "# plot Hyper parameter vs AUC\n",
    "HyperparameterVSAucPlot(knn_results,\"param_n_neighbors\")"
   ]
  },
  {
   "cell_type": "code",
   "execution_count": 17,
   "id": "7b2ad918",
   "metadata": {},
   "outputs": [
    {
     "name": "stdout",
     "output_type": "stream",
     "text": [
      "For kNN Model\n",
      "Best parameters: {'n_neighbors': 3}\n",
      "Test Score     : 0.6111111111111112\n"
     ]
    }
   ],
   "source": [
    "# print best parameters\n",
    "# here we are choosing the best n_neighbors\n",
    "n_neighbors = knn_clf.best_params_\n",
    "print(\"For kNN Model\")\n",
    "print(\"Best parameters:\",n_neighbors)\n",
    "print(\"Test Score     :\",knn_clf.score(X_test,y_test))"
   ]
  },
  {
   "cell_type": "code",
   "execution_count": 19,
   "id": "7554e315",
   "metadata": {},
   "outputs": [
    {
     "data": {
      "image/png": "[encoded data removed]",
      "text/plain": [
       "<Figure size 432x288 with 1 Axes>"
      ]
     },
     "metadata": {
      "needs_background": "light"
     },
     "output_type": "display_data"
    }
   ],
   "source": [
    "# Reference: https://scikit-learn.org/stable/modules/generated/sklearn.calibration.CalibratedClassifierCV.html\n",
    "# fit model on training data\n",
    "knn_clf = KNeighborsClassifier(n_neighbors=3)\n",
    "knn_clf.fit(X_train,y_train)\n",
    "# fit and calibrate model on training data\n",
    "knn = CalibratedClassifierCV(knn_clf,cv=3)\n",
    "knn.fit(X_train,y_train)\n",
    "# evaluate the mode\n",
    "ytrain_pred = knn.predict(X_train)\n",
    "ytest_pred = knn.predict(X_test)\n",
    "# Plot ROC Curve\n",
    "train_fpr,train_tpr,train_thresholds = roc_curve(y_train,ytrain_pred)\n",
    "test_fpr,test_tpr,test_thresholds = roc_curve(y_test,ytest_pred)\n",
    "plt.plot(train_fpr,train_tpr,label=\"Train AUC:\"+str(auc(train_fpr,train_tpr)))\n",
    "plt.plot(test_fpr,test_tpr,label=\"Test AUC:\"+str(auc(test_fpr,test_tpr)))\n",
    "plt.title(\"ROC Curve\")\n",
    "plt.xlabel(\"fpr\")\n",
    "plt.ylabel(\"tpr\")\n",
    "plt.grid()\n",
    "plt.legend()\n",
    "plt.show()"
   ]
  },
  {
   "cell_type": "code",
   "execution_count": 20,
   "id": "9ec09e6e",
   "metadata": {},
   "outputs": [
    {
     "name": "stdout",
     "output_type": "stream",
     "text": [
      "Best threshold value:  1.0\n",
      "Heat Map for Training Data:\n"
     ]
    },
    {
     "data": {
      "image/png": "[encoded data removed]",
      "text/plain": [
       "<Figure size 432x288 with 2 Axes>"
      ]
     },
     "metadata": {
      "needs_background": "light"
     },
     "output_type": "display_data"
    }
   ],
   "source": [
    "best_t = find_best_threshold(train_fpr,train_tpr,train_thresholds)\n",
    "print(\"Heat Map for Training Data:\")\n",
    "sns.heatmap(confusion_matrix(y_train,compute_with_best_threshold(ytrain_pred,best_t)),annot=True,cmap=\"Blues\")\n",
    "plt.show()"
   ]
  },
  {
   "cell_type": "code",
   "execution_count": 21,
   "id": "319780d6",
   "metadata": {},
   "outputs": [
    {
     "name": "stdout",
     "output_type": "stream",
     "text": [
      "Heat Map for Test Data:\n"
     ]
    },
    {
     "data": {
      "image/png": "[encoded data removed]",
      "text/plain": [
       "<Figure size 432x288 with 2 Axes>"
      ]
     },
     "metadata": {
      "needs_background": "light"
     },
     "output_type": "display_data"
    }
   ],
   "source": [
    "print(\"Heat Map for Test Data:\")\n",
    "sns.heatmap(confusion_matrix(y_test,compute_with_best_threshold(ytest_pred,best_t)),annot=True,cmap=\"Blues\")\n",
    "plt.show()"
   ]
  },
  {
   "cell_type": "code",
   "execution_count": 22,
   "id": "4f97eb6e",
   "metadata": {},
   "outputs": [],
   "source": [
    "# Kaggle Submission Score \n",
    "knn_id = test_df['id']\n",
    "knn_target = knn.predict_proba(test)[:,1]\n",
    "knn_df = pd.DataFrame(np.column_stack((knn_id,knn_target)), columns=['id','target'])\n",
    "knn_df['id'] = knn_df['id'].astype('int32')\n",
    "knn_df.to_csv('knn.csv', index=False)"
   ]
  },
  {
   "cell_type": "code",
   "execution_count": 23,
   "id": "90f3189a",
   "metadata": {},
   "outputs": [
    {
     "name": "stdout",
     "output_type": "stream",
     "text": [
      "Kaggle Score For kNN Submission\n"
     ]
    },
    {
     "data": {
      "image/png": "[encoded data removed]",
      "text/plain": [
       "<IPython.core.display.Image object>"
      ]
     },
     "execution_count": 23,
     "metadata": {
      "image/png": {
       "height": 100,
       "width": 800
      }
     },
     "output_type": "execute_result"
    }
   ],
   "source": [
    "print(\"Kaggle Score For kNN Submission\")\n",
    "Image('./knn.png',width=800,height=100)"
   ]
  },
  {
   "cell_type": "markdown",
   "id": "5d1ff936",
   "metadata": {},
   "source": [
    "### 8.2 SVC (Support Vector Classification)"
   ]
  },
  {
   "cell_type": "code",
   "execution_count": 24,
   "id": "62c12fb6",
   "metadata": {},
   "outputs": [],
   "source": [
    "# Reference: https://scikit-learn.org/stable/modules/generated/sklearn.svm.SVC.html\n",
    "# import Support Vector Classification\n",
    "from sklearn.svm import SVC\n",
    "# dictionary of hyper parameters\n",
    "parameters = {\"C\":[0.0001,0.001,0.01,0.1,1,10,100,1000,10000]}\n",
    "# insance of SVC model\n",
    "clf = SVC()\n",
    "# call CrossValidationandHyperparameterTuning function\n",
    "svc_clf = CrossValidationandHyperparameterTuning(clf,parameters)"
   ]
  },
  {
   "cell_type": "code",
   "execution_count": 25,
   "id": "9b425297",
   "metadata": {},
   "outputs": [
    {
     "name": "stdout",
     "output_type": "stream",
     "text": [
      "Shape of Resultant Dataset: (9, 21)\n"
     ]
    },
    {
     "data": {
      "text/html": [
       "<div>\n",
       "<style scoped>\n",
       "    .dataframe tbody tr th:only-of-type {\n",
       "        vertical-align: middle;\n",
       "    }\n",
       "\n",
       "    .dataframe tbody tr th {\n",
       "        vertical-align: top;\n",
       "    }\n",
       "\n",
       "    .dataframe thead th {\n",
       "        text-align: right;\n",
       "    }\n",
       "</style>\n",
       "<table border=\"1\" class=\"dataframe\">\n",
       "  <thead>\n",
       "    <tr style=\"text-align: right;\">\n",
       "      <th></th>\n",
       "      <th>mean_fit_time</th>\n",
       "      <th>std_fit_time</th>\n",
       "      <th>mean_score_time</th>\n",
       "      <th>std_score_time</th>\n",
       "      <th>param_C</th>\n",
       "      <th>params</th>\n",
       "      <th>split0_test_score</th>\n",
       "      <th>split1_test_score</th>\n",
       "      <th>split2_test_score</th>\n",
       "      <th>split3_test_score</th>\n",
       "      <th>...</th>\n",
       "      <th>mean_test_score</th>\n",
       "      <th>std_test_score</th>\n",
       "      <th>rank_test_score</th>\n",
       "      <th>split0_train_score</th>\n",
       "      <th>split1_train_score</th>\n",
       "      <th>split2_train_score</th>\n",
       "      <th>split3_train_score</th>\n",
       "      <th>split4_train_score</th>\n",
       "      <th>mean_train_score</th>\n",
       "      <th>std_train_score</th>\n",
       "    </tr>\n",
       "  </thead>\n",
       "  <tbody>\n",
       "    <tr>\n",
       "      <th>0</th>\n",
       "      <td>0.027401</td>\n",
       "      <td>0.001624</td>\n",
       "      <td>0.012801</td>\n",
       "      <td>0.001720</td>\n",
       "      <td>0.0001</td>\n",
       "      <td>{'C': 0.0001}</td>\n",
       "      <td>0.808561</td>\n",
       "      <td>0.906064</td>\n",
       "      <td>0.831153</td>\n",
       "      <td>1.0</td>\n",
       "      <td>...</td>\n",
       "      <td>0.908663</td>\n",
       "      <td>0.080344</td>\n",
       "      <td>6</td>\n",
       "      <td>0.999773</td>\n",
       "      <td>1.0</td>\n",
       "      <td>1.0</td>\n",
       "      <td>1.0</td>\n",
       "      <td>1.0</td>\n",
       "      <td>0.999955</td>\n",
       "      <td>0.000091</td>\n",
       "    </tr>\n",
       "    <tr>\n",
       "      <th>1</th>\n",
       "      <td>0.031605</td>\n",
       "      <td>0.004801</td>\n",
       "      <td>0.012603</td>\n",
       "      <td>0.000488</td>\n",
       "      <td>0.001</td>\n",
       "      <td>{'C': 0.001}</td>\n",
       "      <td>0.808561</td>\n",
       "      <td>0.906064</td>\n",
       "      <td>0.831153</td>\n",
       "      <td>1.0</td>\n",
       "      <td>...</td>\n",
       "      <td>0.908663</td>\n",
       "      <td>0.080344</td>\n",
       "      <td>6</td>\n",
       "      <td>0.999773</td>\n",
       "      <td>1.0</td>\n",
       "      <td>1.0</td>\n",
       "      <td>1.0</td>\n",
       "      <td>1.0</td>\n",
       "      <td>0.999955</td>\n",
       "      <td>0.000091</td>\n",
       "    </tr>\n",
       "    <tr>\n",
       "      <th>2</th>\n",
       "      <td>0.023205</td>\n",
       "      <td>0.005382</td>\n",
       "      <td>0.014204</td>\n",
       "      <td>0.002993</td>\n",
       "      <td>0.01</td>\n",
       "      <td>{'C': 0.01}</td>\n",
       "      <td>0.808561</td>\n",
       "      <td>0.906064</td>\n",
       "      <td>0.831153</td>\n",
       "      <td>1.0</td>\n",
       "      <td>...</td>\n",
       "      <td>0.908663</td>\n",
       "      <td>0.080344</td>\n",
       "      <td>6</td>\n",
       "      <td>0.999773</td>\n",
       "      <td>1.0</td>\n",
       "      <td>1.0</td>\n",
       "      <td>1.0</td>\n",
       "      <td>1.0</td>\n",
       "      <td>0.999955</td>\n",
       "      <td>0.000091</td>\n",
       "    </tr>\n",
       "    <tr>\n",
       "      <th>3</th>\n",
       "      <td>0.020408</td>\n",
       "      <td>0.002417</td>\n",
       "      <td>0.014801</td>\n",
       "      <td>0.002315</td>\n",
       "      <td>0.1</td>\n",
       "      <td>{'C': 0.1}</td>\n",
       "      <td>0.808561</td>\n",
       "      <td>0.906064</td>\n",
       "      <td>0.831153</td>\n",
       "      <td>1.0</td>\n",
       "      <td>...</td>\n",
       "      <td>0.908663</td>\n",
       "      <td>0.080344</td>\n",
       "      <td>9</td>\n",
       "      <td>0.999773</td>\n",
       "      <td>1.0</td>\n",
       "      <td>1.0</td>\n",
       "      <td>1.0</td>\n",
       "      <td>1.0</td>\n",
       "      <td>0.999955</td>\n",
       "      <td>0.000091</td>\n",
       "    </tr>\n",
       "    <tr>\n",
       "      <th>4</th>\n",
       "      <td>0.020406</td>\n",
       "      <td>0.002244</td>\n",
       "      <td>0.014998</td>\n",
       "      <td>0.003577</td>\n",
       "      <td>1</td>\n",
       "      <td>{'C': 1}</td>\n",
       "      <td>0.828775</td>\n",
       "      <td>0.916766</td>\n",
       "      <td>0.843044</td>\n",
       "      <td>1.0</td>\n",
       "      <td>...</td>\n",
       "      <td>0.917717</td>\n",
       "      <td>0.073524</td>\n",
       "      <td>5</td>\n",
       "      <td>1.000000</td>\n",
       "      <td>1.0</td>\n",
       "      <td>1.0</td>\n",
       "      <td>1.0</td>\n",
       "      <td>1.0</td>\n",
       "      <td>1.000000</td>\n",
       "      <td>0.000000</td>\n",
       "    </tr>\n",
       "  </tbody>\n",
       "</table>\n",
       "<p>5 rows × 21 columns</p>\n",
       "</div>"
      ],
      "text/plain": [
       "   mean_fit_time  std_fit_time  mean_score_time  std_score_time param_C  \\\n",
       "0       0.027401      0.001624         0.012801        0.001720  0.0001   \n",
       "1       0.031605      0.004801         0.012603        0.000488   0.001   \n",
       "2       0.023205      0.005382         0.014204        0.002993    0.01   \n",
       "3       0.020408      0.002417         0.014801        0.002315     0.1   \n",
       "4       0.020406      0.002244         0.014998        0.003577       1   \n",
       "\n",
       "          params  split0_test_score  split1_test_score  split2_test_score  \\\n",
       "0  {'C': 0.0001}           0.808561           0.906064           0.831153   \n",
       "1   {'C': 0.001}           0.808561           0.906064           0.831153   \n",
       "2    {'C': 0.01}           0.808561           0.906064           0.831153   \n",
       "3     {'C': 0.1}           0.808561           0.906064           0.831153   \n",
       "4       {'C': 1}           0.828775           0.916766           0.843044   \n",
       "\n",
       "   split3_test_score  ...  mean_test_score  std_test_score  rank_test_score  \\\n",
       "0                1.0  ...         0.908663        0.080344                6   \n",
       "1                1.0  ...         0.908663        0.080344                6   \n",
       "2                1.0  ...         0.908663        0.080344                6   \n",
       "3                1.0  ...         0.908663        0.080344                9   \n",
       "4                1.0  ...         0.917717        0.073524                5   \n",
       "\n",
       "   split0_train_score  split1_train_score  split2_train_score  \\\n",
       "0            0.999773                 1.0                 1.0   \n",
       "1            0.999773                 1.0                 1.0   \n",
       "2            0.999773                 1.0                 1.0   \n",
       "3            0.999773                 1.0                 1.0   \n",
       "4            1.000000                 1.0                 1.0   \n",
       "\n",
       "   split3_train_score  split4_train_score  mean_train_score  std_train_score  \n",
       "0                 1.0                 1.0          0.999955         0.000091  \n",
       "1                 1.0                 1.0          0.999955         0.000091  \n",
       "2                 1.0                 1.0          0.999955         0.000091  \n",
       "3                 1.0                 1.0          0.999955         0.000091  \n",
       "4                 1.0                 1.0          1.000000         0.000000  \n",
       "\n",
       "[5 rows x 21 columns]"
      ]
     },
     "execution_count": 25,
     "metadata": {},
     "output_type": "execute_result"
    }
   ],
   "source": [
    "# dictionary of all the evaluation metrics from the gridsearch\n",
    "svc_results = pd.DataFrame.from_dict(svc_clf.cv_results_)\n",
    "# sort svc_results based on param_C\n",
    "svc_results = svc_results.sort_values([\"param_C\"])\n",
    "print(\"Shape of Resultant Dataset:\",svc_results.shape)\n",
    "svc_results.head()"
   ]
  },
  {
   "cell_type": "code",
   "execution_count": 26,
   "id": "848d9304",
   "metadata": {},
   "outputs": [
    {
     "data": {
      "image/png": "[encoded data removed]",
      "text/plain": [
       "<Figure size 720x360 with 1 Axes>"
      ]
     },
     "metadata": {
      "needs_background": "light"
     },
     "output_type": "display_data"
    }
   ],
   "source": [
    "# plot Hyper parameter vs AUC\n",
    "HyperparameterVSAucPlot(svc_results,\"param_C\")"
   ]
  },
  {
   "cell_type": "code",
   "execution_count": 27,
   "id": "51694591",
   "metadata": {},
   "outputs": [
    {
     "name": "stdout",
     "output_type": "stream",
     "text": [
      "For SVC Model\n",
      "Best parameters: {'C': 10}\n",
      "Test Score     : 0.6875\n"
     ]
    }
   ],
   "source": [
    "# print best parameters\n",
    "# here we are choosing the best C\n",
    "C = svc_clf.best_params_\n",
    "print(\"For SVC Model\")\n",
    "print(\"Best parameters:\",C)\n",
    "print(\"Test Score     :\",svc_clf.score(X_test,y_test))"
   ]
  },
  {
   "cell_type": "code",
   "execution_count": 28,
   "id": "a804a4ac",
   "metadata": {},
   "outputs": [
    {
     "data": {
      "image/png": "[encoded data removed]",
      "text/plain": [
       "<Figure size 432x288 with 1 Axes>"
      ]
     },
     "metadata": {
      "needs_background": "light"
     },
     "output_type": "display_data"
    }
   ],
   "source": [
    "# Reference: https://scikit-learn.org/stable/modules/generated/sklearn.calibration.CalibratedClassifierCV.html\n",
    "# fit model on training data\n",
    "svc_clf = SVC(C=10)\n",
    "svc_clf.fit(X_train,y_train)\n",
    "# fit and calibrate model on training data\n",
    "svc = CalibratedClassifierCV(svc_clf,cv=3)\n",
    "svc.fit(X_train,y_train)\n",
    "# evaluate the mode\n",
    "ytrain_pred = svc.predict(X_train)\n",
    "ytest_pred = svc.predict(X_test)\n",
    "# Plot ROC Curve\n",
    "train_fpr,train_tpr,train_thresholds = roc_curve(y_train,ytrain_pred)\n",
    "test_fpr,test_tpr,test_thresholds = roc_curve(y_test,ytest_pred)\n",
    "plt.plot(train_fpr,train_tpr,label=\"Train AUC:\"+str(auc(train_fpr,train_tpr)))\n",
    "plt.plot(test_fpr,test_tpr,label=\"Test AUC:\"+str(auc(test_fpr,test_tpr)))\n",
    "plt.title(\"ROC Curve\")\n",
    "plt.xlabel(\"fpr\")\n",
    "plt.ylabel(\"tpr\")\n",
    "plt.grid()\n",
    "plt.legend()\n",
    "plt.show()"
   ]
  },
  {
   "cell_type": "code",
   "execution_count": 29,
   "id": "c14c8c97",
   "metadata": {},
   "outputs": [
    {
     "name": "stdout",
     "output_type": "stream",
     "text": [
      "Best threshold value:  1.0\n",
      "Heat Map for Training Data:\n"
     ]
    },
    {
     "data": {
      "image/png": "[encoded data removed]",
      "text/plain": [
       "<Figure size 432x288 with 2 Axes>"
      ]
     },
     "metadata": {
      "needs_background": "light"
     },
     "output_type": "display_data"
    }
   ],
   "source": [
    "best_t = find_best_threshold(train_fpr,train_tpr,train_thresholds)\n",
    "print(\"Heat Map for Training Data:\")\n",
    "sns.heatmap(confusion_matrix(y_train,compute_with_best_threshold(ytrain_pred,best_t)),annot=True,cmap=\"Blues\")\n",
    "plt.show()"
   ]
  },
  {
   "cell_type": "code",
   "execution_count": 30,
   "id": "063a1672",
   "metadata": {},
   "outputs": [
    {
     "name": "stdout",
     "output_type": "stream",
     "text": [
      "Heat Map for Test Data:\n"
     ]
    },
    {
     "data": {
      "image/png": "[encoded data removed]",
      "text/plain": [
       "<Figure size 432x288 with 2 Axes>"
      ]
     },
     "metadata": {
      "needs_background": "light"
     },
     "output_type": "display_data"
    }
   ],
   "source": [
    "print(\"Heat Map for Test Data:\")\n",
    "sns.heatmap(confusion_matrix(y_test,compute_with_best_threshold(ytest_pred,best_t)),annot=True,cmap=\"Blues\")\n",
    "plt.show()"
   ]
  },
  {
   "cell_type": "code",
   "execution_count": 31,
   "id": "0ba59e0d",
   "metadata": {},
   "outputs": [],
   "source": [
    "# Kaggle Submission Score \n",
    "svc_id = test_df['id']\n",
    "svc_target = svc.predict_proba(test)[:,1]\n",
    "svc_df = pd.DataFrame(np.column_stack((svc_id,svc_target)), columns=['id','target'])\n",
    "svc_df['id'] = svc_df['id'].astype('int32')\n",
    "svc_df.to_csv('svc.csv', index=False)"
   ]
  },
  {
   "cell_type": "code",
   "execution_count": 32,
   "id": "13fe7462",
   "metadata": {},
   "outputs": [
    {
     "name": "stdout",
     "output_type": "stream",
     "text": [
      "Kaggle Score For SVC Submission\n"
     ]
    },
    {
     "data": {
      "image/png": "[encoded data removed]",
      "text/plain": [
       "<IPython.core.display.Image object>"
      ]
     },
     "execution_count": 32,
     "metadata": {
      "image/png": {
       "height": 100,
       "width": 800
      }
     },
     "output_type": "execute_result"
    }
   ],
   "source": [
    "print(\"Kaggle Score For SVC Submission\")\n",
    "Image('./svc.png',width=800,height=100)"
   ]
  },
  {
   "cell_type": "markdown",
   "id": "0f7dfe0d",
   "metadata": {},
   "source": [
    "### 8.3 Logistic Regression"
   ]
  },
  {
   "cell_type": "code",
   "execution_count": 33,
   "id": "dada0c70",
   "metadata": {},
   "outputs": [],
   "source": [
    "# Reference: https://scikit-learn.org/stable/modules/generated/sklearn.linear_model.LogisticRegression.html\n",
    "# import LogisticRegression\n",
    "from sklearn.linear_model import LogisticRegression\n",
    "# dictionary of hyper parameters\n",
    "parameters = {\"C\":[0.0001,0.001,0.01,0.1,1,10,100,1000,10000]}\n",
    "# insance of LogisticRegression model\n",
    "clf = LogisticRegression()\n",
    "# call CrossValidationandHyperparameterTuning function\n",
    "logreg_clf = CrossValidationandHyperparameterTuning(clf,parameters)"
   ]
  },
  {
   "cell_type": "code",
   "execution_count": 34,
   "id": "ada3a35d",
   "metadata": {},
   "outputs": [
    {
     "name": "stdout",
     "output_type": "stream",
     "text": [
      "Shape of Resultant Dataset: (9, 21)\n"
     ]
    },
    {
     "data": {
      "text/html": [
       "<div>\n",
       "<style scoped>\n",
       "    .dataframe tbody tr th:only-of-type {\n",
       "        vertical-align: middle;\n",
       "    }\n",
       "\n",
       "    .dataframe tbody tr th {\n",
       "        vertical-align: top;\n",
       "    }\n",
       "\n",
       "    .dataframe thead th {\n",
       "        text-align: right;\n",
       "    }\n",
       "</style>\n",
       "<table border=\"1\" class=\"dataframe\">\n",
       "  <thead>\n",
       "    <tr style=\"text-align: right;\">\n",
       "      <th></th>\n",
       "      <th>mean_fit_time</th>\n",
       "      <th>std_fit_time</th>\n",
       "      <th>mean_score_time</th>\n",
       "      <th>std_score_time</th>\n",
       "      <th>param_C</th>\n",
       "      <th>params</th>\n",
       "      <th>split0_test_score</th>\n",
       "      <th>split1_test_score</th>\n",
       "      <th>split2_test_score</th>\n",
       "      <th>split3_test_score</th>\n",
       "      <th>...</th>\n",
       "      <th>mean_test_score</th>\n",
       "      <th>std_test_score</th>\n",
       "      <th>rank_test_score</th>\n",
       "      <th>split0_train_score</th>\n",
       "      <th>split1_train_score</th>\n",
       "      <th>split2_train_score</th>\n",
       "      <th>split3_train_score</th>\n",
       "      <th>split4_train_score</th>\n",
       "      <th>mean_train_score</th>\n",
       "      <th>std_train_score</th>\n",
       "    </tr>\n",
       "  </thead>\n",
       "  <tbody>\n",
       "    <tr>\n",
       "      <th>0</th>\n",
       "      <td>0.011406</td>\n",
       "      <td>0.002418</td>\n",
       "      <td>0.006000</td>\n",
       "      <td>0.000636</td>\n",
       "      <td>0.0001</td>\n",
       "      <td>{'C': 0.0001}</td>\n",
       "      <td>0.783591</td>\n",
       "      <td>0.882283</td>\n",
       "      <td>0.783591</td>\n",
       "      <td>0.976601</td>\n",
       "      <td>...</td>\n",
       "      <td>0.872652</td>\n",
       "      <td>0.078648</td>\n",
       "      <td>9</td>\n",
       "      <td>0.984877</td>\n",
       "      <td>0.982533</td>\n",
       "      <td>0.993800</td>\n",
       "      <td>0.988831</td>\n",
       "      <td>0.985232</td>\n",
       "      <td>0.987055</td>\n",
       "      <td>3.928242e-03</td>\n",
       "    </tr>\n",
       "    <tr>\n",
       "      <th>1</th>\n",
       "      <td>0.015002</td>\n",
       "      <td>0.001093</td>\n",
       "      <td>0.006464</td>\n",
       "      <td>0.000697</td>\n",
       "      <td>0.001</td>\n",
       "      <td>{'C': 0.001}</td>\n",
       "      <td>0.797860</td>\n",
       "      <td>0.890606</td>\n",
       "      <td>0.789536</td>\n",
       "      <td>0.976601</td>\n",
       "      <td>...</td>\n",
       "      <td>0.880822</td>\n",
       "      <td>0.076424</td>\n",
       "      <td>8</td>\n",
       "      <td>0.990624</td>\n",
       "      <td>0.989338</td>\n",
       "      <td>0.996446</td>\n",
       "      <td>0.993253</td>\n",
       "      <td>0.991604</td>\n",
       "      <td>0.992253</td>\n",
       "      <td>2.455739e-03</td>\n",
       "    </tr>\n",
       "    <tr>\n",
       "      <th>2</th>\n",
       "      <td>0.017692</td>\n",
       "      <td>0.003323</td>\n",
       "      <td>0.006405</td>\n",
       "      <td>0.000490</td>\n",
       "      <td>0.01</td>\n",
       "      <td>{'C': 0.01}</td>\n",
       "      <td>0.828775</td>\n",
       "      <td>0.903686</td>\n",
       "      <td>0.815696</td>\n",
       "      <td>0.979064</td>\n",
       "      <td>...</td>\n",
       "      <td>0.900272</td>\n",
       "      <td>0.069197</td>\n",
       "      <td>7</td>\n",
       "      <td>0.999168</td>\n",
       "      <td>0.999849</td>\n",
       "      <td>0.999924</td>\n",
       "      <td>1.000000</td>\n",
       "      <td>0.999925</td>\n",
       "      <td>0.999773</td>\n",
       "      <td>3.062793e-04</td>\n",
       "    </tr>\n",
       "    <tr>\n",
       "      <th>3</th>\n",
       "      <td>0.019210</td>\n",
       "      <td>0.002134</td>\n",
       "      <td>0.007198</td>\n",
       "      <td>0.001172</td>\n",
       "      <td>0.1</td>\n",
       "      <td>{'C': 0.1}</td>\n",
       "      <td>0.838288</td>\n",
       "      <td>0.908442</td>\n",
       "      <td>0.838288</td>\n",
       "      <td>0.980296</td>\n",
       "      <td>...</td>\n",
       "      <td>0.908137</td>\n",
       "      <td>0.062426</td>\n",
       "      <td>1</td>\n",
       "      <td>1.000000</td>\n",
       "      <td>1.000000</td>\n",
       "      <td>1.000000</td>\n",
       "      <td>1.000000</td>\n",
       "      <td>1.000000</td>\n",
       "      <td>1.000000</td>\n",
       "      <td>4.965068e-17</td>\n",
       "    </tr>\n",
       "    <tr>\n",
       "      <th>4</th>\n",
       "      <td>0.027410</td>\n",
       "      <td>0.009771</td>\n",
       "      <td>0.007401</td>\n",
       "      <td>0.000487</td>\n",
       "      <td>1</td>\n",
       "      <td>{'C': 1}</td>\n",
       "      <td>0.843044</td>\n",
       "      <td>0.898930</td>\n",
       "      <td>0.837099</td>\n",
       "      <td>0.971675</td>\n",
       "      <td>...</td>\n",
       "      <td>0.904731</td>\n",
       "      <td>0.059232</td>\n",
       "      <td>2</td>\n",
       "      <td>1.000000</td>\n",
       "      <td>1.000000</td>\n",
       "      <td>1.000000</td>\n",
       "      <td>1.000000</td>\n",
       "      <td>1.000000</td>\n",
       "      <td>1.000000</td>\n",
       "      <td>0.000000e+00</td>\n",
       "    </tr>\n",
       "  </tbody>\n",
       "</table>\n",
       "<p>5 rows × 21 columns</p>\n",
       "</div>"
      ],
      "text/plain": [
       "   mean_fit_time  std_fit_time  mean_score_time  std_score_time param_C  \\\n",
       "0       0.011406      0.002418         0.006000        0.000636  0.0001   \n",
       "1       0.015002      0.001093         0.006464        0.000697   0.001   \n",
       "2       0.017692      0.003323         0.006405        0.000490    0.01   \n",
       "3       0.019210      0.002134         0.007198        0.001172     0.1   \n",
       "4       0.027410      0.009771         0.007401        0.000487       1   \n",
       "\n",
       "          params  split0_test_score  split1_test_score  split2_test_score  \\\n",
       "0  {'C': 0.0001}           0.783591           0.882283           0.783591   \n",
       "1   {'C': 0.001}           0.797860           0.890606           0.789536   \n",
       "2    {'C': 0.01}           0.828775           0.903686           0.815696   \n",
       "3     {'C': 0.1}           0.838288           0.908442           0.838288   \n",
       "4       {'C': 1}           0.843044           0.898930           0.837099   \n",
       "\n",
       "   split3_test_score  ...  mean_test_score  std_test_score  rank_test_score  \\\n",
       "0           0.976601  ...         0.872652        0.078648                9   \n",
       "1           0.976601  ...         0.880822        0.076424                8   \n",
       "2           0.979064  ...         0.900272        0.069197                7   \n",
       "3           0.980296  ...         0.908137        0.062426                1   \n",
       "4           0.971675  ...         0.904731        0.059232                2   \n",
       "\n",
       "   split0_train_score  split1_train_score  split2_train_score  \\\n",
       "0            0.984877            0.982533            0.993800   \n",
       "1            0.990624            0.989338            0.996446   \n",
       "2            0.999168            0.999849            0.999924   \n",
       "3            1.000000            1.000000            1.000000   \n",
       "4            1.000000            1.000000            1.000000   \n",
       "\n",
       "   split3_train_score  split4_train_score  mean_train_score  std_train_score  \n",
       "0            0.988831            0.985232          0.987055     3.928242e-03  \n",
       "1            0.993253            0.991604          0.992253     2.455739e-03  \n",
       "2            1.000000            0.999925          0.999773     3.062793e-04  \n",
       "3            1.000000            1.000000          1.000000     4.965068e-17  \n",
       "4            1.000000            1.000000          1.000000     0.000000e+00  \n",
       "\n",
       "[5 rows x 21 columns]"
      ]
     },
     "execution_count": 34,
     "metadata": {},
     "output_type": "execute_result"
    }
   ],
   "source": [
    "# dictionary of all the evaluation metrics from the gridsearch\n",
    "logreg_results = pd.DataFrame.from_dict(logreg_clf.cv_results_)\n",
    "# sort logreg_results based on param_C\n",
    "logreg_results = logreg_results.sort_values([\"param_C\"])\n",
    "print(\"Shape of Resultant Dataset:\",logreg_results.shape)\n",
    "logreg_results.head()"
   ]
  },
  {
   "cell_type": "code",
   "execution_count": 35,
   "id": "df462604",
   "metadata": {},
   "outputs": [
    {
     "data": {
      "image/png": "[encoded data removed]",
      "text/plain": [
       "<Figure size 720x360 with 1 Axes>"
      ]
     },
     "metadata": {
      "needs_background": "light"
     },
     "output_type": "display_data"
    }
   ],
   "source": [
    "# plot Hyper parameter vs AUC\n",
    "HyperparameterVSAucPlot(logreg_results,\"param_C\")"
   ]
  },
  {
   "cell_type": "code",
   "execution_count": 36,
   "id": "d7302132",
   "metadata": {},
   "outputs": [
    {
     "name": "stdout",
     "output_type": "stream",
     "text": [
      "For LogisticRegression Model\n",
      "Best parameters: {'C': 0.1}\n",
      "Test Score     : 0.6736111111111112\n"
     ]
    }
   ],
   "source": [
    "# print best parameters\n",
    "# here we are choosing the best C\n",
    "C = logreg_clf.best_params_\n",
    "print(\"For LogisticRegression Model\")\n",
    "print(\"Best parameters:\",C)\n",
    "print(\"Test Score     :\",logreg_clf.score(X_test,y_test))"
   ]
  },
  {
   "cell_type": "code",
   "execution_count": 37,
   "id": "4592b5b7",
   "metadata": {},
   "outputs": [
    {
     "data": {
      "image/png": "[encoded data removed]",
      "text/plain": [
       "<Figure size 432x288 with 1 Axes>"
      ]
     },
     "metadata": {
      "needs_background": "light"
     },
     "output_type": "display_data"
    }
   ],
   "source": [
    "# Reference: https://scikit-learn.org/stable/modules/generated/sklearn.calibration.CalibratedClassifierCV.html\n",
    "# fit model on training data\n",
    "logreg_clf = LogisticRegression(C=0.1)\n",
    "logreg_clf.fit(X_train,y_train)\n",
    "# fit and calibrate model on training data\n",
    "logreg = CalibratedClassifierCV(logreg_clf,cv=3)\n",
    "logreg.fit(X_train,y_train)\n",
    "# evaluate the mode\n",
    "ytrain_pred = logreg.predict(X_train)\n",
    "ytest_pred = logreg.predict(X_test)\n",
    "# Plot ROC Curve\n",
    "train_fpr,train_tpr,train_thresholds = roc_curve(y_train,ytrain_pred)\n",
    "test_fpr,test_tpr,test_thresholds = roc_curve(y_test,ytest_pred)\n",
    "plt.plot(train_fpr,train_tpr,label=\"Train AUC:\"+str(auc(train_fpr,train_tpr)))\n",
    "plt.plot(test_fpr,test_tpr,label=\"Test AUC:\"+str(auc(test_fpr,test_tpr)))\n",
    "plt.title(\"ROC Curve\")\n",
    "plt.xlabel(\"fpr\")\n",
    "plt.ylabel(\"tpr\")\n",
    "plt.grid()\n",
    "plt.legend()\n",
    "plt.show()"
   ]
  },
  {
   "cell_type": "code",
   "execution_count": 38,
   "id": "24d452c5",
   "metadata": {},
   "outputs": [
    {
     "name": "stdout",
     "output_type": "stream",
     "text": [
      "Best threshold value:  1.0\n",
      "Heat Map for Training Data:\n"
     ]
    },
    {
     "data": {
      "image/png": "[encoded data removed]",
      "text/plain": [
       "<Figure size 432x288 with 2 Axes>"
      ]
     },
     "metadata": {
      "needs_background": "light"
     },
     "output_type": "display_data"
    }
   ],
   "source": [
    "best_t = find_best_threshold(train_fpr,train_tpr,train_thresholds)\n",
    "print(\"Heat Map for Training Data:\")\n",
    "sns.heatmap(confusion_matrix(y_train,compute_with_best_threshold(ytrain_pred,best_t)),annot=True,cmap=\"Blues\")\n",
    "plt.show()"
   ]
  },
  {
   "cell_type": "code",
   "execution_count": 39,
   "id": "267fc5db",
   "metadata": {},
   "outputs": [
    {
     "name": "stdout",
     "output_type": "stream",
     "text": [
      "Heat Map for Test Data:\n"
     ]
    },
    {
     "data": {
      "image/png": "[encoded data removed]",
      "text/plain": [
       "<Figure size 432x288 with 2 Axes>"
      ]
     },
     "metadata": {
      "needs_background": "light"
     },
     "output_type": "display_data"
    }
   ],
   "source": [
    "print(\"Heat Map for Test Data:\")\n",
    "sns.heatmap(confusion_matrix(y_test,compute_with_best_threshold(ytest_pred,best_t)),annot=True,cmap=\"Blues\")\n",
    "plt.show()"
   ]
  },
  {
   "cell_type": "code",
   "execution_count": 40,
   "id": "83c0fe91",
   "metadata": {},
   "outputs": [],
   "source": [
    "# Kaggle Submission Score \n",
    "logreg_id = test_df['id']\n",
    "logreg_target = logreg.predict_proba(test)[:,1]\n",
    "logreg_df = pd.DataFrame(np.column_stack((logreg_id,logreg_target)), columns=['id','target'])\n",
    "logreg_df['id'] = logreg_df['id'].astype('int32')\n",
    "logreg_df.to_csv('logisticregression.csv', index=False)"
   ]
  },
  {
   "cell_type": "code",
   "execution_count": 41,
   "id": "55b3acf0",
   "metadata": {},
   "outputs": [
    {
     "name": "stdout",
     "output_type": "stream",
     "text": [
      "Kaggle Score For Logistic Regression Submission\n"
     ]
    },
    {
     "data": {
      "image/png": "[encoded data removed]",
      "text/plain": [
       "<IPython.core.display.Image object>"
      ]
     },
     "execution_count": 41,
     "metadata": {
      "image/png": {
       "height": 100,
       "width": 800
      }
     },
     "output_type": "execute_result"
    }
   ],
   "source": [
    "print(\"Kaggle Score For Logistic Regression Submission\")\n",
    "Image('./logisticregression.png',width=800,height=100)"
   ]
  },
  {
   "cell_type": "markdown",
   "id": "95c52db1",
   "metadata": {},
   "source": [
    "### 8.4 GaussianNB (Gaussian Naive Bayes)"
   ]
  },
  {
   "cell_type": "code",
   "execution_count": 42,
   "id": "d2bee62b",
   "metadata": {},
   "outputs": [],
   "source": [
    "# Reference: https://scikit-learn.org/stable/modules/generated/sklearn.naive_bayes.GaussianNB.html\n",
    "# import Gaussian Naive Bayes\n",
    "from sklearn.naive_bayes import GaussianNB\n",
    "# dictionary of hyper parameters\n",
    "parameters = {'var_smoothing': np.logspace(0,-9, num=100)}\n",
    "# insance of GaussianNB model\n",
    "clf = GaussianNB()\n",
    "# call CrossValidationandHyperparameterTuning function\n",
    "gnb_clf = CrossValidationandHyperparameterTuning(clf,parameters)"
   ]
  },
  {
   "cell_type": "code",
   "execution_count": 43,
   "id": "c25358f0",
   "metadata": {},
   "outputs": [
    {
     "name": "stdout",
     "output_type": "stream",
     "text": [
      "Shape of Resultant Dataset: (100, 21)\n"
     ]
    },
    {
     "data": {
      "text/html": [
       "<div>\n",
       "<style scoped>\n",
       "    .dataframe tbody tr th:only-of-type {\n",
       "        vertical-align: middle;\n",
       "    }\n",
       "\n",
       "    .dataframe tbody tr th {\n",
       "        vertical-align: top;\n",
       "    }\n",
       "\n",
       "    .dataframe thead th {\n",
       "        text-align: right;\n",
       "    }\n",
       "</style>\n",
       "<table border=\"1\" class=\"dataframe\">\n",
       "  <thead>\n",
       "    <tr style=\"text-align: right;\">\n",
       "      <th></th>\n",
       "      <th>mean_fit_time</th>\n",
       "      <th>std_fit_time</th>\n",
       "      <th>mean_score_time</th>\n",
       "      <th>std_score_time</th>\n",
       "      <th>param_var_smoothing</th>\n",
       "      <th>params</th>\n",
       "      <th>split0_test_score</th>\n",
       "      <th>split1_test_score</th>\n",
       "      <th>split2_test_score</th>\n",
       "      <th>split3_test_score</th>\n",
       "      <th>...</th>\n",
       "      <th>mean_test_score</th>\n",
       "      <th>std_test_score</th>\n",
       "      <th>rank_test_score</th>\n",
       "      <th>split0_train_score</th>\n",
       "      <th>split1_train_score</th>\n",
       "      <th>split2_train_score</th>\n",
       "      <th>split3_train_score</th>\n",
       "      <th>split4_train_score</th>\n",
       "      <th>mean_train_score</th>\n",
       "      <th>std_train_score</th>\n",
       "    </tr>\n",
       "  </thead>\n",
       "  <tbody>\n",
       "    <tr>\n",
       "      <th>99</th>\n",
       "      <td>0.014817</td>\n",
       "      <td>0.007874</td>\n",
       "      <td>0.005789</td>\n",
       "      <td>0.001469</td>\n",
       "      <td>0.0</td>\n",
       "      <td>{'var_smoothing': 1e-09}</td>\n",
       "      <td>0.828775</td>\n",
       "      <td>0.87396</td>\n",
       "      <td>0.829964</td>\n",
       "      <td>0.95936</td>\n",
       "      <td>...</td>\n",
       "      <td>0.889545</td>\n",
       "      <td>0.057847</td>\n",
       "      <td>20</td>\n",
       "      <td>0.997278</td>\n",
       "      <td>0.99569</td>\n",
       "      <td>1.0</td>\n",
       "      <td>0.998876</td>\n",
       "      <td>0.997976</td>\n",
       "      <td>0.997964</td>\n",
       "      <td>0.001457</td>\n",
       "    </tr>\n",
       "    <tr>\n",
       "      <th>98</th>\n",
       "      <td>0.010833</td>\n",
       "      <td>0.008973</td>\n",
       "      <td>0.014058</td>\n",
       "      <td>0.005567</td>\n",
       "      <td>0.0</td>\n",
       "      <td>{'var_smoothing': 1.2328467394420635e-09}</td>\n",
       "      <td>0.828775</td>\n",
       "      <td>0.87396</td>\n",
       "      <td>0.829964</td>\n",
       "      <td>0.95936</td>\n",
       "      <td>...</td>\n",
       "      <td>0.889545</td>\n",
       "      <td>0.057847</td>\n",
       "      <td>20</td>\n",
       "      <td>0.997278</td>\n",
       "      <td>0.99569</td>\n",
       "      <td>1.0</td>\n",
       "      <td>0.998876</td>\n",
       "      <td>0.997976</td>\n",
       "      <td>0.997964</td>\n",
       "      <td>0.001457</td>\n",
       "    </tr>\n",
       "    <tr>\n",
       "      <th>97</th>\n",
       "      <td>0.015626</td>\n",
       "      <td>0.000002</td>\n",
       "      <td>0.000000</td>\n",
       "      <td>0.000000</td>\n",
       "      <td>0.0</td>\n",
       "      <td>{'var_smoothing': 1.519911082952933e-09}</td>\n",
       "      <td>0.828775</td>\n",
       "      <td>0.87396</td>\n",
       "      <td>0.829964</td>\n",
       "      <td>0.95936</td>\n",
       "      <td>...</td>\n",
       "      <td>0.889545</td>\n",
       "      <td>0.057847</td>\n",
       "      <td>20</td>\n",
       "      <td>0.997278</td>\n",
       "      <td>0.99569</td>\n",
       "      <td>1.0</td>\n",
       "      <td>0.998876</td>\n",
       "      <td>0.997976</td>\n",
       "      <td>0.997964</td>\n",
       "      <td>0.001457</td>\n",
       "    </tr>\n",
       "    <tr>\n",
       "      <th>96</th>\n",
       "      <td>0.012498</td>\n",
       "      <td>0.006249</td>\n",
       "      <td>0.006249</td>\n",
       "      <td>0.007653</td>\n",
       "      <td>0.0</td>\n",
       "      <td>{'var_smoothing': 1.873817422860387e-09}</td>\n",
       "      <td>0.828775</td>\n",
       "      <td>0.87396</td>\n",
       "      <td>0.829964</td>\n",
       "      <td>0.95936</td>\n",
       "      <td>...</td>\n",
       "      <td>0.889545</td>\n",
       "      <td>0.057847</td>\n",
       "      <td>20</td>\n",
       "      <td>0.997278</td>\n",
       "      <td>0.99569</td>\n",
       "      <td>1.0</td>\n",
       "      <td>0.998876</td>\n",
       "      <td>0.997976</td>\n",
       "      <td>0.997964</td>\n",
       "      <td>0.001457</td>\n",
       "    </tr>\n",
       "    <tr>\n",
       "      <th>95</th>\n",
       "      <td>0.009376</td>\n",
       "      <td>0.007656</td>\n",
       "      <td>0.006249</td>\n",
       "      <td>0.007653</td>\n",
       "      <td>0.0</td>\n",
       "      <td>{'var_smoothing': 2.310129700083158e-09}</td>\n",
       "      <td>0.828775</td>\n",
       "      <td>0.87396</td>\n",
       "      <td>0.829964</td>\n",
       "      <td>0.95936</td>\n",
       "      <td>...</td>\n",
       "      <td>0.889545</td>\n",
       "      <td>0.057847</td>\n",
       "      <td>20</td>\n",
       "      <td>0.997278</td>\n",
       "      <td>0.99569</td>\n",
       "      <td>1.0</td>\n",
       "      <td>0.998876</td>\n",
       "      <td>0.997976</td>\n",
       "      <td>0.997964</td>\n",
       "      <td>0.001457</td>\n",
       "    </tr>\n",
       "  </tbody>\n",
       "</table>\n",
       "<p>5 rows × 21 columns</p>\n",
       "</div>"
      ],
      "text/plain": [
       "    mean_fit_time  std_fit_time  mean_score_time  std_score_time  \\\n",
       "99       0.014817      0.007874         0.005789        0.001469   \n",
       "98       0.010833      0.008973         0.014058        0.005567   \n",
       "97       0.015626      0.000002         0.000000        0.000000   \n",
       "96       0.012498      0.006249         0.006249        0.007653   \n",
       "95       0.009376      0.007656         0.006249        0.007653   \n",
       "\n",
       "   param_var_smoothing                                     params  \\\n",
       "99                 0.0                   {'var_smoothing': 1e-09}   \n",
       "98                 0.0  {'var_smoothing': 1.2328467394420635e-09}   \n",
       "97                 0.0   {'var_smoothing': 1.519911082952933e-09}   \n",
       "96                 0.0   {'var_smoothing': 1.873817422860387e-09}   \n",
       "95                 0.0   {'var_smoothing': 2.310129700083158e-09}   \n",
       "\n",
       "    split0_test_score  split1_test_score  split2_test_score  \\\n",
       "99           0.828775            0.87396           0.829964   \n",
       "98           0.828775            0.87396           0.829964   \n",
       "97           0.828775            0.87396           0.829964   \n",
       "96           0.828775            0.87396           0.829964   \n",
       "95           0.828775            0.87396           0.829964   \n",
       "\n",
       "    split3_test_score  ...  mean_test_score  std_test_score  rank_test_score  \\\n",
       "99            0.95936  ...         0.889545        0.057847               20   \n",
       "98            0.95936  ...         0.889545        0.057847               20   \n",
       "97            0.95936  ...         0.889545        0.057847               20   \n",
       "96            0.95936  ...         0.889545        0.057847               20   \n",
       "95            0.95936  ...         0.889545        0.057847               20   \n",
       "\n",
       "    split0_train_score  split1_train_score  split2_train_score  \\\n",
       "99            0.997278             0.99569                 1.0   \n",
       "98            0.997278             0.99569                 1.0   \n",
       "97            0.997278             0.99569                 1.0   \n",
       "96            0.997278             0.99569                 1.0   \n",
       "95            0.997278             0.99569                 1.0   \n",
       "\n",
       "    split3_train_score  split4_train_score  mean_train_score  std_train_score  \n",
       "99            0.998876            0.997976          0.997964         0.001457  \n",
       "98            0.998876            0.997976          0.997964         0.001457  \n",
       "97            0.998876            0.997976          0.997964         0.001457  \n",
       "96            0.998876            0.997976          0.997964         0.001457  \n",
       "95            0.998876            0.997976          0.997964         0.001457  \n",
       "\n",
       "[5 rows x 21 columns]"
      ]
     },
     "execution_count": 43,
     "metadata": {},
     "output_type": "execute_result"
    }
   ],
   "source": [
    "# dictionary of all the evaluation metrics from the gridsearch\n",
    "gnb_results = pd.DataFrame.from_dict(gnb_clf.cv_results_)\n",
    "# sort logreg_results based on param_var_smoothing\n",
    "gnb_results = gnb_results.sort_values([\"param_var_smoothing\"])\n",
    "print(\"Shape of Resultant Dataset:\",gnb_results.shape)\n",
    "gnb_results.head()"
   ]
  },
  {
   "cell_type": "code",
   "execution_count": 44,
   "id": "881cbdc7",
   "metadata": {},
   "outputs": [
    {
     "data": {
      "image/png": "[encoded data removed]",
      "text/plain": [
       "<Figure size 720x360 with 1 Axes>"
      ]
     },
     "metadata": {
      "needs_background": "light"
     },
     "output_type": "display_data"
    }
   ],
   "source": [
    "# plot Hyper parameter vs AUC\n",
    "HyperparameterVSAucPlot(gnb_results,\"param_var_smoothing\")"
   ]
  },
  {
   "cell_type": "code",
   "execution_count": 45,
   "id": "bad742c9",
   "metadata": {},
   "outputs": [
    {
     "name": "stdout",
     "output_type": "stream",
     "text": [
      "For Gaussian Naive Bayes Model\n",
      "Best parameters: {'var_smoothing': 1.0}\n",
      "Test Score     : 0.625\n"
     ]
    }
   ],
   "source": [
    "# print best parameters\n",
    "# here we are choosing the best var_smoothing\n",
    "var_smoothing = gnb_clf.best_params_\n",
    "print(\"For Gaussian Naive Bayes Model\")\n",
    "print(\"Best parameters:\",var_smoothing)\n",
    "print(\"Test Score     :\",gnb_clf.score(X_test,y_test))"
   ]
  },
  {
   "cell_type": "code",
   "execution_count": 46,
   "id": "42999888",
   "metadata": {},
   "outputs": [
    {
     "data": {
      "image/png": "[encoded data removed]",
      "text/plain": [
       "<Figure size 432x288 with 1 Axes>"
      ]
     },
     "metadata": {
      "needs_background": "light"
     },
     "output_type": "display_data"
    }
   ],
   "source": [
    "# Reference: https://scikit-learn.org/stable/modules/generated/sklearn.calibration.CalibratedClassifierCV.html\n",
    "# fit model on training data\n",
    "gnb_clf = GaussianNB(var_smoothing=1.0)\n",
    "gnb_clf.fit(X_train,y_train)\n",
    "# fit and calibrate model on training data\n",
    "gnb = CalibratedClassifierCV(gnb_clf,cv=3)\n",
    "gnb.fit(X_train,y_train)\n",
    "# evaluate the mode\n",
    "ytrain_pred = gnb.predict(X_train)\n",
    "ytest_pred = gnb.predict(X_test)\n",
    "# Plot ROC Curve\n",
    "train_fpr,train_tpr,train_thresholds = roc_curve(y_train,ytrain_pred)\n",
    "test_fpr,test_tpr,test_thresholds = roc_curve(y_test,ytest_pred)\n",
    "plt.plot(train_fpr,train_tpr,label=\"Train AUC:\"+str(auc(train_fpr,train_tpr)))\n",
    "plt.plot(test_fpr,test_tpr,label=\"Test AUC:\"+str(auc(test_fpr,test_tpr)))\n",
    "plt.title(\"ROC Curve\")\n",
    "plt.xlabel(\"fpr\")\n",
    "plt.ylabel(\"tpr\")\n",
    "plt.grid()\n",
    "plt.legend()\n",
    "plt.show()"
   ]
  },
  {
   "cell_type": "code",
   "execution_count": 47,
   "id": "e6bfdcaa",
   "metadata": {},
   "outputs": [
    {
     "name": "stdout",
     "output_type": "stream",
     "text": [
      "Best threshold value:  1.0\n",
      "Heat Map for Training Data:\n"
     ]
    },
    {
     "data": {
      "image/png": "[encoded data removed]",
      "text/plain": [
       "<Figure size 432x288 with 2 Axes>"
      ]
     },
     "metadata": {
      "needs_background": "light"
     },
     "output_type": "display_data"
    }
   ],
   "source": [
    "best_t = find_best_threshold(train_fpr,train_tpr,train_thresholds)\n",
    "print(\"Heat Map for Training Data:\")\n",
    "sns.heatmap(confusion_matrix(y_train,compute_with_best_threshold(ytrain_pred,best_t)),annot=True,cmap=\"Blues\")\n",
    "plt.show()"
   ]
  },
  {
   "cell_type": "code",
   "execution_count": 48,
   "id": "894358aa",
   "metadata": {},
   "outputs": [
    {
     "name": "stdout",
     "output_type": "stream",
     "text": [
      "Heat Map for Test Data:\n"
     ]
    },
    {
     "data": {
      "image/png": "[encoded data removed]",
      "text/plain": [
       "<Figure size 432x288 with 2 Axes>"
      ]
     },
     "metadata": {
      "needs_background": "light"
     },
     "output_type": "display_data"
    }
   ],
   "source": [
    "print(\"Heat Map for Test Data:\")\n",
    "sns.heatmap(confusion_matrix(y_test,compute_with_best_threshold(ytest_pred,best_t)),annot=True,cmap=\"Blues\")\n",
    "plt.show()"
   ]
  },
  {
   "cell_type": "code",
   "execution_count": 49,
   "id": "abb4f4d1",
   "metadata": {},
   "outputs": [],
   "source": [
    "# Kaggle Submission Score \n",
    "gnb_id = test_df['id']\n",
    "gnb_target = gnb.predict_proba(test)[:,1]\n",
    "gnb_df = pd.DataFrame(np.column_stack((gnb_id,gnb_target)), columns=['id','target'])\n",
    "gnb_df['id'] = gnb_df['id'].astype('int32')\n",
    "gnb_df.to_csv('gaussiannaivebayes.csv', index=False)"
   ]
  },
  {
   "cell_type": "code",
   "execution_count": 50,
   "id": "1842f958",
   "metadata": {},
   "outputs": [
    {
     "name": "stdout",
     "output_type": "stream",
     "text": [
      "Kaggle Score For Gaussian Naive Bayes Submission\n"
     ]
    },
    {
     "data": {
      "image/png": "[encoded data removed]",
      "text/plain": [
       "<IPython.core.display.Image object>"
      ]
     },
     "execution_count": 50,
     "metadata": {
      "image/png": {
       "height": 100,
       "width": 800
      }
     },
     "output_type": "execute_result"
    }
   ],
   "source": [
    "print(\"Kaggle Score For Gaussian Naive Bayes Submission\")\n",
    "Image('./gaussiannaivebayes.png',width=800,height=100)"
   ]
  },
  {
   "cell_type": "markdown",
   "id": "9ff0eba1",
   "metadata": {},
   "source": [
    "### 8.5 Random Forest"
   ]
  },
  {
   "cell_type": "code",
   "execution_count": 63,
   "id": "345437a1",
   "metadata": {},
   "outputs": [],
   "source": [
    "# Reference: https://scikit-learn.org/stable/modules/generated/sklearn.ensemble.RandomForestClassifier.html#\n",
    "# import Random Forest Classifier\n",
    "from sklearn.ensemble import RandomForestClassifier\n",
    "# dictionary of hyper parameters\n",
    "parameters = {'n_estimators': [50,100,150,200,250,300,350,400,450,500],'max_depth': [2,3,5,7]}\n",
    "# insance of RandomForestClassifier model\n",
    "clf = RandomForestClassifier()\n",
    "# call CrossValidationandHyperparameterTuning function\n",
    "rfc_clf = CrossValidationandHyperparameterTuning(clf,parameters)"
   ]
  },
  {
   "cell_type": "code",
   "execution_count": 64,
   "id": "d559f421",
   "metadata": {},
   "outputs": [
    {
     "name": "stdout",
     "output_type": "stream",
     "text": [
      "Shape of Resultant Dataset: (40, 22)\n"
     ]
    },
    {
     "data": {
      "text/html": [
       "<div>\n",
       "<style scoped>\n",
       "    .dataframe tbody tr th:only-of-type {\n",
       "        vertical-align: middle;\n",
       "    }\n",
       "\n",
       "    .dataframe tbody tr th {\n",
       "        vertical-align: top;\n",
       "    }\n",
       "\n",
       "    .dataframe thead th {\n",
       "        text-align: right;\n",
       "    }\n",
       "</style>\n",
       "<table border=\"1\" class=\"dataframe\">\n",
       "  <thead>\n",
       "    <tr style=\"text-align: right;\">\n",
       "      <th></th>\n",
       "      <th>mean_fit_time</th>\n",
       "      <th>std_fit_time</th>\n",
       "      <th>mean_score_time</th>\n",
       "      <th>std_score_time</th>\n",
       "      <th>param_max_depth</th>\n",
       "      <th>param_n_estimators</th>\n",
       "      <th>params</th>\n",
       "      <th>split0_test_score</th>\n",
       "      <th>split1_test_score</th>\n",
       "      <th>split2_test_score</th>\n",
       "      <th>...</th>\n",
       "      <th>mean_test_score</th>\n",
       "      <th>std_test_score</th>\n",
       "      <th>rank_test_score</th>\n",
       "      <th>split0_train_score</th>\n",
       "      <th>split1_train_score</th>\n",
       "      <th>split2_train_score</th>\n",
       "      <th>split3_train_score</th>\n",
       "      <th>split4_train_score</th>\n",
       "      <th>mean_train_score</th>\n",
       "      <th>std_train_score</th>\n",
       "    </tr>\n",
       "  </thead>\n",
       "  <tbody>\n",
       "    <tr>\n",
       "      <th>0</th>\n",
       "      <td>0.127465</td>\n",
       "      <td>0.003891</td>\n",
       "      <td>0.009309</td>\n",
       "      <td>5.496441e-03</td>\n",
       "      <td>2</td>\n",
       "      <td>50</td>\n",
       "      <td>{'max_depth': 2, 'n_estimators': 50}</td>\n",
       "      <td>0.749108</td>\n",
       "      <td>0.753864</td>\n",
       "      <td>0.702735</td>\n",
       "      <td>...</td>\n",
       "      <td>0.798531</td>\n",
       "      <td>0.083482</td>\n",
       "      <td>40</td>\n",
       "      <td>0.994253</td>\n",
       "      <td>0.993422</td>\n",
       "      <td>0.992136</td>\n",
       "      <td>0.991154</td>\n",
       "      <td>0.993928</td>\n",
       "      <td>0.992979</td>\n",
       "      <td>0.001163</td>\n",
       "    </tr>\n",
       "    <tr>\n",
       "      <th>1</th>\n",
       "      <td>0.256861</td>\n",
       "      <td>0.009546</td>\n",
       "      <td>0.015627</td>\n",
       "      <td>1.907349e-07</td>\n",
       "      <td>2</td>\n",
       "      <td>100</td>\n",
       "      <td>{'max_depth': 2, 'n_estimators': 100}</td>\n",
       "      <td>0.799049</td>\n",
       "      <td>0.819263</td>\n",
       "      <td>0.801427</td>\n",
       "      <td>...</td>\n",
       "      <td>0.865967</td>\n",
       "      <td>0.073369</td>\n",
       "      <td>38</td>\n",
       "      <td>0.999395</td>\n",
       "      <td>0.999622</td>\n",
       "      <td>0.995236</td>\n",
       "      <td>0.999475</td>\n",
       "      <td>0.998876</td>\n",
       "      <td>0.998521</td>\n",
       "      <td>0.001661</td>\n",
       "    </tr>\n",
       "    <tr>\n",
       "      <th>2</th>\n",
       "      <td>0.396887</td>\n",
       "      <td>0.041914</td>\n",
       "      <td>0.028378</td>\n",
       "      <td>1.164864e-02</td>\n",
       "      <td>2</td>\n",
       "      <td>150</td>\n",
       "      <td>{'max_depth': 2, 'n_estimators': 150}</td>\n",
       "      <td>0.763377</td>\n",
       "      <td>0.835910</td>\n",
       "      <td>0.776457</td>\n",
       "      <td>...</td>\n",
       "      <td>0.864311</td>\n",
       "      <td>0.092059</td>\n",
       "      <td>39</td>\n",
       "      <td>0.999849</td>\n",
       "      <td>0.999849</td>\n",
       "      <td>0.999924</td>\n",
       "      <td>0.999475</td>\n",
       "      <td>0.999325</td>\n",
       "      <td>0.999685</td>\n",
       "      <td>0.000238</td>\n",
       "    </tr>\n",
       "    <tr>\n",
       "      <th>3</th>\n",
       "      <td>0.590686</td>\n",
       "      <td>0.060888</td>\n",
       "      <td>0.033941</td>\n",
       "      <td>1.540907e-02</td>\n",
       "      <td>2</td>\n",
       "      <td>200</td>\n",
       "      <td>{'max_depth': 2, 'n_estimators': 200}</td>\n",
       "      <td>0.778835</td>\n",
       "      <td>0.845422</td>\n",
       "      <td>0.818074</td>\n",
       "      <td>...</td>\n",
       "      <td>0.883540</td>\n",
       "      <td>0.087850</td>\n",
       "      <td>31</td>\n",
       "      <td>1.000000</td>\n",
       "      <td>0.999849</td>\n",
       "      <td>0.999546</td>\n",
       "      <td>0.999925</td>\n",
       "      <td>1.000000</td>\n",
       "      <td>0.999864</td>\n",
       "      <td>0.000168</td>\n",
       "    </tr>\n",
       "    <tr>\n",
       "      <th>4</th>\n",
       "      <td>0.691595</td>\n",
       "      <td>0.039515</td>\n",
       "      <td>0.034641</td>\n",
       "      <td>7.358088e-03</td>\n",
       "      <td>2</td>\n",
       "      <td>250</td>\n",
       "      <td>{'max_depth': 2, 'n_estimators': 250}</td>\n",
       "      <td>0.826397</td>\n",
       "      <td>0.876338</td>\n",
       "      <td>0.796671</td>\n",
       "      <td>...</td>\n",
       "      <td>0.878945</td>\n",
       "      <td>0.065230</td>\n",
       "      <td>34</td>\n",
       "      <td>0.999849</td>\n",
       "      <td>0.999849</td>\n",
       "      <td>0.999546</td>\n",
       "      <td>0.998726</td>\n",
       "      <td>1.000000</td>\n",
       "      <td>0.999594</td>\n",
       "      <td>0.000458</td>\n",
       "    </tr>\n",
       "  </tbody>\n",
       "</table>\n",
       "<p>5 rows × 22 columns</p>\n",
       "</div>"
      ],
      "text/plain": [
       "   mean_fit_time  std_fit_time  mean_score_time  std_score_time  \\\n",
       "0       0.127465      0.003891         0.009309    5.496441e-03   \n",
       "1       0.256861      0.009546         0.015627    1.907349e-07   \n",
       "2       0.396887      0.041914         0.028378    1.164864e-02   \n",
       "3       0.590686      0.060888         0.033941    1.540907e-02   \n",
       "4       0.691595      0.039515         0.034641    7.358088e-03   \n",
       "\n",
       "  param_max_depth param_n_estimators                                 params  \\\n",
       "0               2                 50   {'max_depth': 2, 'n_estimators': 50}   \n",
       "1               2                100  {'max_depth': 2, 'n_estimators': 100}   \n",
       "2               2                150  {'max_depth': 2, 'n_estimators': 150}   \n",
       "3               2                200  {'max_depth': 2, 'n_estimators': 200}   \n",
       "4               2                250  {'max_depth': 2, 'n_estimators': 250}   \n",
       "\n",
       "   split0_test_score  split1_test_score  split2_test_score  ...  \\\n",
       "0           0.749108           0.753864           0.702735  ...   \n",
       "1           0.799049           0.819263           0.801427  ...   \n",
       "2           0.763377           0.835910           0.776457  ...   \n",
       "3           0.778835           0.845422           0.818074  ...   \n",
       "4           0.826397           0.876338           0.796671  ...   \n",
       "\n",
       "   mean_test_score  std_test_score  rank_test_score  split0_train_score  \\\n",
       "0         0.798531        0.083482               40            0.994253   \n",
       "1         0.865967        0.073369               38            0.999395   \n",
       "2         0.864311        0.092059               39            0.999849   \n",
       "3         0.883540        0.087850               31            1.000000   \n",
       "4         0.878945        0.065230               34            0.999849   \n",
       "\n",
       "   split1_train_score  split2_train_score  split3_train_score  \\\n",
       "0            0.993422            0.992136            0.991154   \n",
       "1            0.999622            0.995236            0.999475   \n",
       "2            0.999849            0.999924            0.999475   \n",
       "3            0.999849            0.999546            0.999925   \n",
       "4            0.999849            0.999546            0.998726   \n",
       "\n",
       "   split4_train_score  mean_train_score  std_train_score  \n",
       "0            0.993928          0.992979         0.001163  \n",
       "1            0.998876          0.998521         0.001661  \n",
       "2            0.999325          0.999685         0.000238  \n",
       "3            1.000000          0.999864         0.000168  \n",
       "4            1.000000          0.999594         0.000458  \n",
       "\n",
       "[5 rows x 22 columns]"
      ]
     },
     "execution_count": 64,
     "metadata": {},
     "output_type": "execute_result"
    }
   ],
   "source": [
    "# dictionary of all the evaluation metrics from the gridsearch\n",
    "rfc_results = pd.DataFrame.from_dict(rfc_clf.cv_results_)\n",
    "print(\"Shape of Resultant Dataset:\",rfc_results.shape)\n",
    "rfc_results.head()"
   ]
  },
  {
   "cell_type": "code",
   "execution_count": 65,
   "id": "e8f504c6",
   "metadata": {},
   "outputs": [
    {
     "data": {
      "image/png": "[encoded data removed]",
      "text/plain": [
       "<Figure size 720x360 with 1 Axes>"
      ]
     },
     "metadata": {
      "needs_background": "light"
     },
     "output_type": "display_data"
    }
   ],
   "source": [
    "# plot Hyper parameter vs AUC\n",
    "HyperparameterVSAucPlot(rfc_results,\"param_n_estimators\")"
   ]
  },
  {
   "cell_type": "code",
   "execution_count": 66,
   "id": "7fbd3d1b",
   "metadata": {},
   "outputs": [
    {
     "name": "stdout",
     "output_type": "stream",
     "text": [
      "For Random Forest Classifier Model\n",
      "Best parameters: {'max_depth': 7, 'n_estimators': 350}\n",
      "Test Score     : 0.6666666666666666\n"
     ]
    }
   ],
   "source": [
    "# print best parameters\n",
    "# here we are choosing the best var_smoothing\n",
    "rfc_param = rfc_clf.best_params_\n",
    "print(\"For Random Forest Classifier Model\")\n",
    "print(\"Best parameters:\",rfc_param)\n",
    "print(\"Test Score     :\",rfc_clf.score(X_test,y_test))"
   ]
  },
  {
   "cell_type": "code",
   "execution_count": 70,
   "id": "a2fd8b52",
   "metadata": {},
   "outputs": [
    {
     "data": {
      "image/png": "[encoded data removed]",
      "text/plain": [
       "<Figure size 432x288 with 1 Axes>"
      ]
     },
     "metadata": {
      "needs_background": "light"
     },
     "output_type": "display_data"
    }
   ],
   "source": [
    "# Reference: https://scikit-learn.org/stable/modules/generated/sklearn.calibration.CalibratedClassifierCV.html\n",
    "# fit and calibrate model on training data\n",
    "rfc_clf = RandomForestClassifier(max_depth=7,n_estimators=350)\n",
    "rfc_clf.fit(X_train,y_train)\n",
    "# fit and calibrate model on training data\n",
    "rfc = CalibratedClassifierCV(rfc_clf,cv=3)\n",
    "rfc.fit(X_train,y_train)\n",
    "# evaluate the mode\n",
    "ytrain_pred = rfc.predict(X_train)\n",
    "ytest_pred = rfc.predict(X_test)\n",
    "# Plot ROC Curve\n",
    "train_fpr,train_tpr,train_thresholds = roc_curve(y_train,ytrain_pred)\n",
    "test_fpr,test_tpr,test_thresholds = roc_curve(y_test,ytest_pred)\n",
    "plt.plot(train_fpr,train_tpr,label=\"Train AUC:\"+str(auc(train_fpr,train_tpr)))\n",
    "plt.plot(test_fpr,test_tpr,label=\"Test AUC:\"+str(auc(test_fpr,test_tpr)))\n",
    "plt.title(\"ROC Curve\")\n",
    "plt.xlabel(\"fpr\")\n",
    "plt.ylabel(\"tpr\")\n",
    "plt.grid()\n",
    "plt.legend()\n",
    "plt.show()"
   ]
  },
  {
   "cell_type": "code",
   "execution_count": 71,
   "id": "335a8bc6",
   "metadata": {},
   "outputs": [
    {
     "name": "stdout",
     "output_type": "stream",
     "text": [
      "Best threshold value:  1.0\n",
      "Heat Map for Training Data:\n"
     ]
    },
    {
     "data": {
      "image/png": "[encoded data removed]",
      "text/plain": [
       "<Figure size 432x288 with 2 Axes>"
      ]
     },
     "metadata": {
      "needs_background": "light"
     },
     "output_type": "display_data"
    }
   ],
   "source": [
    "best_t = find_best_threshold(train_fpr,train_tpr,train_thresholds)\n",
    "print(\"Heat Map for Training Data:\")\n",
    "sns.heatmap(confusion_matrix(y_train,compute_with_best_threshold(ytrain_pred,best_t)),annot=True,cmap=\"Blues\")\n",
    "plt.show()"
   ]
  },
  {
   "cell_type": "code",
   "execution_count": 72,
   "id": "b7cfe0ba",
   "metadata": {},
   "outputs": [
    {
     "name": "stdout",
     "output_type": "stream",
     "text": [
      "Heat Map for Test Data:\n"
     ]
    },
    {
     "data": {
      "image/png": "[encoded data removed]",
      "text/plain": [
       "<Figure size 432x288 with 2 Axes>"
      ]
     },
     "metadata": {
      "needs_background": "light"
     },
     "output_type": "display_data"
    }
   ],
   "source": [
    "print(\"Heat Map for Test Data:\")\n",
    "sns.heatmap(confusion_matrix(y_test,compute_with_best_threshold(ytest_pred,best_t)),annot=True,cmap=\"Blues\")\n",
    "plt.show()"
   ]
  },
  {
   "cell_type": "code",
   "execution_count": 73,
   "id": "6551e8ab",
   "metadata": {},
   "outputs": [],
   "source": [
    "# Kaggle Submission Score \n",
    "rfc_id = test_df['id']\n",
    "rfc_target = rfc.predict_proba(test)[:,1]\n",
    "rfc_df = pd.DataFrame(np.column_stack((rfc_id,rfc_target)), columns=['id','target'])\n",
    "rfc_df['id'] = rfc_df['id'].astype('int32')\n",
    "rfc_df.to_csv('randomforestclassifier.csv', index=False)"
   ]
  },
  {
   "cell_type": "code",
   "execution_count": 74,
   "id": "cbdbbb88",
   "metadata": {},
   "outputs": [
    {
     "name": "stdout",
     "output_type": "stream",
     "text": [
      "Kaggle Score For Gaussian Naive Bayes Submission\n"
     ]
    },
    {
     "data": {
      "image/png": "[encoded data removed]",
      "text/plain": [
       "<IPython.core.display.Image object>"
      ]
     },
     "execution_count": 74,
     "metadata": {
      "image/png": {
       "height": 100,
       "width": 800
      }
     },
     "output_type": "execute_result"
    }
   ],
   "source": [
    "print(\"Kaggle Score For Gaussian Naive Bayes Submission\")\n",
    "Image('./randomforestclassifier.png',width=800,height=100)"
   ]
  },
  {
   "cell_type": "markdown",
   "id": "28c8bac4",
   "metadata": {},
   "source": [
    "### 8.6 xgboost"
   ]
  },
  {
   "cell_type": "code",
   "execution_count": 79,
   "id": "e8b06934",
   "metadata": {},
   "outputs": [
    {
     "name": "stdout",
     "output_type": "stream",
     "text": [
      "[19:59:35] WARNING: C:/Users/Administrator/workspace/xgboost-win64_release_1.5.1/src/learner.cc:1115: Starting in XGBoost 1.3.0, the default evaluation metric used with the objective 'binary:logistic' was changed from 'error' to 'logloss'. Explicitly set eval_metric if you'd like to restore the old behavior.\n"
     ]
    }
   ],
   "source": [
    "# Reference: https://xgboost.readthedocs.io/en/latest/python/python_api.html\n",
    "# import xgboost\n",
    "from xgboost import XGBClassifier \n",
    "# dictionary of hyper parameters\n",
    "parameters = {'n_estimators': [50,100,150,200,250,300,350,400,450,500],'max_depth': [2,3,5,7]}\n",
    "# insance of XGBClassifier model\n",
    "clf = XGBClassifier()\n",
    "# call CrossValidationandHyperparameterTuning function\n",
    "xgb_clf = CrossValidationandHyperparameterTuning(clf,parameters)"
   ]
  },
  {
   "cell_type": "code",
   "execution_count": 80,
   "id": "0b1e2bb5",
   "metadata": {},
   "outputs": [
    {
     "name": "stdout",
     "output_type": "stream",
     "text": [
      "Shape of Resultant Dataset: (40, 22)\n"
     ]
    },
    {
     "data": {
      "text/html": [
       "<div>\n",
       "<style scoped>\n",
       "    .dataframe tbody tr th:only-of-type {\n",
       "        vertical-align: middle;\n",
       "    }\n",
       "\n",
       "    .dataframe tbody tr th {\n",
       "        vertical-align: top;\n",
       "    }\n",
       "\n",
       "    .dataframe thead th {\n",
       "        text-align: right;\n",
       "    }\n",
       "</style>\n",
       "<table border=\"1\" class=\"dataframe\">\n",
       "  <thead>\n",
       "    <tr style=\"text-align: right;\">\n",
       "      <th></th>\n",
       "      <th>mean_fit_time</th>\n",
       "      <th>std_fit_time</th>\n",
       "      <th>mean_score_time</th>\n",
       "      <th>std_score_time</th>\n",
       "      <th>param_max_depth</th>\n",
       "      <th>param_n_estimators</th>\n",
       "      <th>params</th>\n",
       "      <th>split0_test_score</th>\n",
       "      <th>split1_test_score</th>\n",
       "      <th>split2_test_score</th>\n",
       "      <th>...</th>\n",
       "      <th>mean_test_score</th>\n",
       "      <th>std_test_score</th>\n",
       "      <th>rank_test_score</th>\n",
       "      <th>split0_train_score</th>\n",
       "      <th>split1_train_score</th>\n",
       "      <th>split2_train_score</th>\n",
       "      <th>split3_train_score</th>\n",
       "      <th>split4_train_score</th>\n",
       "      <th>mean_train_score</th>\n",
       "      <th>std_train_score</th>\n",
       "    </tr>\n",
       "  </thead>\n",
       "  <tbody>\n",
       "    <tr>\n",
       "      <th>0</th>\n",
       "      <td>0.551570</td>\n",
       "      <td>0.016202</td>\n",
       "      <td>0.006309</td>\n",
       "      <td>0.005266</td>\n",
       "      <td>2</td>\n",
       "      <td>50</td>\n",
       "      <td>{'max_depth': 2, 'n_estimators': 50}</td>\n",
       "      <td>0.790725</td>\n",
       "      <td>0.850178</td>\n",
       "      <td>0.841855</td>\n",
       "      <td>...</td>\n",
       "      <td>0.893596</td>\n",
       "      <td>0.083501</td>\n",
       "      <td>39</td>\n",
       "      <td>1.0</td>\n",
       "      <td>1.0</td>\n",
       "      <td>1.0</td>\n",
       "      <td>1.0</td>\n",
       "      <td>1.0</td>\n",
       "      <td>1.0</td>\n",
       "      <td>0.000000e+00</td>\n",
       "    </tr>\n",
       "    <tr>\n",
       "      <th>1</th>\n",
       "      <td>0.989688</td>\n",
       "      <td>0.033582</td>\n",
       "      <td>0.006331</td>\n",
       "      <td>0.006078</td>\n",
       "      <td>2</td>\n",
       "      <td>100</td>\n",
       "      <td>{'max_depth': 2, 'n_estimators': 100}</td>\n",
       "      <td>0.802616</td>\n",
       "      <td>0.868014</td>\n",
       "      <td>0.868014</td>\n",
       "      <td>...</td>\n",
       "      <td>0.907729</td>\n",
       "      <td>0.079033</td>\n",
       "      <td>17</td>\n",
       "      <td>1.0</td>\n",
       "      <td>1.0</td>\n",
       "      <td>1.0</td>\n",
       "      <td>1.0</td>\n",
       "      <td>1.0</td>\n",
       "      <td>1.0</td>\n",
       "      <td>4.965068e-17</td>\n",
       "    </tr>\n",
       "    <tr>\n",
       "      <th>2</th>\n",
       "      <td>1.218152</td>\n",
       "      <td>0.094783</td>\n",
       "      <td>0.009376</td>\n",
       "      <td>0.007655</td>\n",
       "      <td>2</td>\n",
       "      <td>150</td>\n",
       "      <td>{'max_depth': 2, 'n_estimators': 150}</td>\n",
       "      <td>0.812128</td>\n",
       "      <td>0.881094</td>\n",
       "      <td>0.864447</td>\n",
       "      <td>...</td>\n",
       "      <td>0.911534</td>\n",
       "      <td>0.075733</td>\n",
       "      <td>1</td>\n",
       "      <td>1.0</td>\n",
       "      <td>1.0</td>\n",
       "      <td>1.0</td>\n",
       "      <td>1.0</td>\n",
       "      <td>1.0</td>\n",
       "      <td>1.0</td>\n",
       "      <td>0.000000e+00</td>\n",
       "    </tr>\n",
       "    <tr>\n",
       "      <th>3</th>\n",
       "      <td>1.362480</td>\n",
       "      <td>0.030431</td>\n",
       "      <td>0.015625</td>\n",
       "      <td>0.000002</td>\n",
       "      <td>2</td>\n",
       "      <td>200</td>\n",
       "      <td>{'max_depth': 2, 'n_estimators': 200}</td>\n",
       "      <td>0.808561</td>\n",
       "      <td>0.879905</td>\n",
       "      <td>0.865636</td>\n",
       "      <td>...</td>\n",
       "      <td>0.910820</td>\n",
       "      <td>0.076629</td>\n",
       "      <td>2</td>\n",
       "      <td>1.0</td>\n",
       "      <td>1.0</td>\n",
       "      <td>1.0</td>\n",
       "      <td>1.0</td>\n",
       "      <td>1.0</td>\n",
       "      <td>1.0</td>\n",
       "      <td>0.000000e+00</td>\n",
       "    </tr>\n",
       "    <tr>\n",
       "      <th>4</th>\n",
       "      <td>1.481117</td>\n",
       "      <td>0.019302</td>\n",
       "      <td>0.012503</td>\n",
       "      <td>0.006252</td>\n",
       "      <td>2</td>\n",
       "      <td>250</td>\n",
       "      <td>{'max_depth': 2, 'n_estimators': 250}</td>\n",
       "      <td>0.808561</td>\n",
       "      <td>0.879905</td>\n",
       "      <td>0.865636</td>\n",
       "      <td>...</td>\n",
       "      <td>0.910820</td>\n",
       "      <td>0.076629</td>\n",
       "      <td>2</td>\n",
       "      <td>1.0</td>\n",
       "      <td>1.0</td>\n",
       "      <td>1.0</td>\n",
       "      <td>1.0</td>\n",
       "      <td>1.0</td>\n",
       "      <td>1.0</td>\n",
       "      <td>0.000000e+00</td>\n",
       "    </tr>\n",
       "  </tbody>\n",
       "</table>\n",
       "<p>5 rows × 22 columns</p>\n",
       "</div>"
      ],
      "text/plain": [
       "   mean_fit_time  std_fit_time  mean_score_time  std_score_time  \\\n",
       "0       0.551570      0.016202         0.006309        0.005266   \n",
       "1       0.989688      0.033582         0.006331        0.006078   \n",
       "2       1.218152      0.094783         0.009376        0.007655   \n",
       "3       1.362480      0.030431         0.015625        0.000002   \n",
       "4       1.481117      0.019302         0.012503        0.006252   \n",
       "\n",
       "  param_max_depth param_n_estimators                                 params  \\\n",
       "0               2                 50   {'max_depth': 2, 'n_estimators': 50}   \n",
       "1               2                100  {'max_depth': 2, 'n_estimators': 100}   \n",
       "2               2                150  {'max_depth': 2, 'n_estimators': 150}   \n",
       "3               2                200  {'max_depth': 2, 'n_estimators': 200}   \n",
       "4               2                250  {'max_depth': 2, 'n_estimators': 250}   \n",
       "\n",
       "   split0_test_score  split1_test_score  split2_test_score  ...  \\\n",
       "0           0.790725           0.850178           0.841855  ...   \n",
       "1           0.802616           0.868014           0.868014  ...   \n",
       "2           0.812128           0.881094           0.864447  ...   \n",
       "3           0.808561           0.879905           0.865636  ...   \n",
       "4           0.808561           0.879905           0.865636  ...   \n",
       "\n",
       "   mean_test_score  std_test_score  rank_test_score  split0_train_score  \\\n",
       "0         0.893596        0.083501               39                 1.0   \n",
       "1         0.907729        0.079033               17                 1.0   \n",
       "2         0.911534        0.075733                1                 1.0   \n",
       "3         0.910820        0.076629                2                 1.0   \n",
       "4         0.910820        0.076629                2                 1.0   \n",
       "\n",
       "   split1_train_score  split2_train_score  split3_train_score  \\\n",
       "0                 1.0                 1.0                 1.0   \n",
       "1                 1.0                 1.0                 1.0   \n",
       "2                 1.0                 1.0                 1.0   \n",
       "3                 1.0                 1.0                 1.0   \n",
       "4                 1.0                 1.0                 1.0   \n",
       "\n",
       "   split4_train_score  mean_train_score  std_train_score  \n",
       "0                 1.0               1.0     0.000000e+00  \n",
       "1                 1.0               1.0     4.965068e-17  \n",
       "2                 1.0               1.0     0.000000e+00  \n",
       "3                 1.0               1.0     0.000000e+00  \n",
       "4                 1.0               1.0     0.000000e+00  \n",
       "\n",
       "[5 rows x 22 columns]"
      ]
     },
     "execution_count": 80,
     "metadata": {},
     "output_type": "execute_result"
    }
   ],
   "source": [
    "# dictionary of all the evaluation metrics from the gridsearch\n",
    "xgb_results = pd.DataFrame.from_dict(xgb_clf.cv_results_)\n",
    "print(\"Shape of Resultant Dataset:\",xgb_results.shape)\n",
    "xgb_results.head()"
   ]
  },
  {
   "cell_type": "code",
   "execution_count": 81,
   "id": "161d9033",
   "metadata": {},
   "outputs": [
    {
     "data": {
      "image/png": "[encoded data removed]",
      "text/plain": [
       "<Figure size 720x360 with 1 Axes>"
      ]
     },
     "metadata": {
      "needs_background": "light"
     },
     "output_type": "display_data"
    }
   ],
   "source": [
    "# plot Hyper parameter vs AUC\n",
    "HyperparameterVSAucPlot(xgb_results,\"param_n_estimators\")"
   ]
  },
  {
   "cell_type": "code",
   "execution_count": 82,
   "id": "d7b1ddbb",
   "metadata": {},
   "outputs": [
    {
     "name": "stdout",
     "output_type": "stream",
     "text": [
      "For Random Forest Classifier Model\n",
      "Best parameters: {'max_depth': 2, 'n_estimators': 150}\n",
      "Test Score     : 0.8402777777777778\n"
     ]
    }
   ],
   "source": [
    "# print best parameters\n",
    "# here we are choosing the best n_estimators and max_depth\n",
    "xgb_param = xgb_clf.best_params_\n",
    "print(\"For Random Forest Classifier Model\")\n",
    "print(\"Best parameters:\",xgb_param)\n",
    "print(\"Test Score     :\",xgb_clf.score(X_test,y_test))"
   ]
  },
  {
   "cell_type": "code",
   "execution_count": 83,
   "id": "c562e1ec",
   "metadata": {},
   "outputs": [
    {
     "name": "stdout",
     "output_type": "stream",
     "text": [
      "[20:03:04] WARNING: C:/Users/Administrator/workspace/xgboost-win64_release_1.5.1/src/learner.cc:1115: Starting in XGBoost 1.3.0, the default evaluation metric used with the objective 'binary:logistic' was changed from 'error' to 'logloss'. Explicitly set eval_metric if you'd like to restore the old behavior.\n",
      "[20:03:04] WARNING: C:/Users/Administrator/workspace/xgboost-win64_release_1.5.1/src/learner.cc:1115: Starting in XGBoost 1.3.0, the default evaluation metric used with the objective 'binary:logistic' was changed from 'error' to 'logloss'. Explicitly set eval_metric if you'd like to restore the old behavior.\n",
      "[20:03:04] WARNING: C:/Users/Administrator/workspace/xgboost-win64_release_1.5.1/src/learner.cc:1115: Starting in XGBoost 1.3.0, the default evaluation metric used with the objective 'binary:logistic' was changed from 'error' to 'logloss'. Explicitly set eval_metric if you'd like to restore the old behavior.\n",
      "[20:03:04] WARNING: C:/Users/Administrator/workspace/xgboost-win64_release_1.5.1/src/learner.cc:1115: Starting in XGBoost 1.3.0, the default evaluation metric used with the objective 'binary:logistic' was changed from 'error' to 'logloss'. Explicitly set eval_metric if you'd like to restore the old behavior.\n"
     ]
    },
    {
     "data": {
      "image/png": "[encoded data removed]",
      "text/plain": [
       "<Figure size 432x288 with 1 Axes>"
      ]
     },
     "metadata": {
      "needs_background": "light"
     },
     "output_type": "display_data"
    }
   ],
   "source": [
    "# Reference: https://scikit-learn.org/stable/modules/generated/sklearn.calibration.CalibratedClassifierCV.html\n",
    "# fit and calibrate model on training data\n",
    "xgb_clf = XGBClassifier(max_depth=2,n_estimators=150)\n",
    "xgb_clf.fit(X_train,y_train)\n",
    "# fit and calibrate model on training data\n",
    "xgb = CalibratedClassifierCV(xgb_clf,cv=3)\n",
    "xgb.fit(X_train,y_train)\n",
    "# evaluate the mode\n",
    "ytrain_pred = xgb.predict(X_train)\n",
    "ytest_pred = xgb.predict(X_test)\n",
    "# Plot ROC Curve\n",
    "train_fpr,train_tpr,train_thresholds = roc_curve(y_train,ytrain_pred)\n",
    "test_fpr,test_tpr,test_thresholds = roc_curve(y_test,ytest_pred)\n",
    "plt.plot(train_fpr,train_tpr,label=\"Train AUC:\"+str(auc(train_fpr,train_tpr)))\n",
    "plt.plot(test_fpr,test_tpr,label=\"Test AUC:\"+str(auc(test_fpr,test_tpr)))\n",
    "plt.title(\"ROC Curve\")\n",
    "plt.xlabel(\"fpr\")\n",
    "plt.ylabel(\"tpr\")\n",
    "plt.grid()\n",
    "plt.legend()\n",
    "plt.show()"
   ]
  },
  {
   "cell_type": "code",
   "execution_count": 84,
   "id": "6ab8da6c",
   "metadata": {},
   "outputs": [
    {
     "name": "stdout",
     "output_type": "stream",
     "text": [
      "Best threshold value:  1.0\n",
      "Heat Map for Training Data:\n"
     ]
    },
    {
     "data": {
      "image/png": "[encoded data removed]",
      "text/plain": [
       "<Figure size 432x288 with 2 Axes>"
      ]
     },
     "metadata": {
      "needs_background": "light"
     },
     "output_type": "display_data"
    }
   ],
   "source": [
    "best_t = find_best_threshold(train_fpr,train_tpr,train_thresholds)\n",
    "print(\"Heat Map for Training Data:\")\n",
    "sns.heatmap(confusion_matrix(y_train,compute_with_best_threshold(ytrain_pred,best_t)),annot=True,cmap=\"Blues\")\n",
    "plt.show()"
   ]
  },
  {
   "cell_type": "code",
   "execution_count": 85,
   "id": "57601a9d",
   "metadata": {},
   "outputs": [
    {
     "name": "stdout",
     "output_type": "stream",
     "text": [
      "Heat Map for Test Data:\n"
     ]
    },
    {
     "data": {
      "image/png": "[encoded data removed]",
      "text/plain": [
       "<Figure size 432x288 with 2 Axes>"
      ]
     },
     "metadata": {
      "needs_background": "light"
     },
     "output_type": "display_data"
    }
   ],
   "source": [
    "print(\"Heat Map for Test Data:\")\n",
    "sns.heatmap(confusion_matrix(y_test,compute_with_best_threshold(ytest_pred,best_t)),annot=True,cmap=\"Blues\")\n",
    "plt.show()"
   ]
  },
  {
   "cell_type": "code",
   "execution_count": 86,
   "id": "0a605836",
   "metadata": {},
   "outputs": [],
   "source": [
    "# Kaggle Submission Score \n",
    "xgb_id = test_df['id']\n",
    "xgb_target = xgb.predict_proba(test)[:,1]\n",
    "xgb_df = pd.DataFrame(np.column_stack((xgb_id,xgb_target)), columns=['id','target'])\n",
    "xgb_df['id'] = xgb_df['id'].astype('int32')\n",
    "xgb_df.to_csv('xgbclassifier.csv', index=False)"
   ]
  },
  {
   "cell_type": "code",
   "execution_count": 87,
   "id": "00a19686",
   "metadata": {},
   "outputs": [
    {
     "name": "stdout",
     "output_type": "stream",
     "text": [
      "Kaggle Score For Gaussian Naive Bayes Submission\n"
     ]
    },
    {
     "data": {
      "image/png": "[encoded data removed]",
      "text/plain": [
       "<IPython.core.display.Image object>"
      ]
     },
     "execution_count": 87,
     "metadata": {
      "image/png": {
       "height": 100,
       "width": 800
      }
     },
     "output_type": "execute_result"
    }
   ],
   "source": [
    "print(\"Kaggle Score For Gaussian Naive Bayes Submission\")\n",
    "Image('./xgbclassifier.png',width=800,height=100)"
   ]
  },
  {
   "cell_type": "markdown",
   "id": "463d5d0b",
   "metadata": {},
   "source": [
    "## 9. Ranking Models based on Kaggle Score"
   ]
  },
  {
   "cell_type": "code",
   "execution_count": 54,
   "id": "031c3339",
   "metadata": {},
   "outputs": [
    {
     "name": "stdout",
     "output_type": "stream",
     "text": [
      "+------+---------------------------+----------------------+---------------------+\n",
      "| Rank |         Model Name        | Kaggle Private Ccore | Kaggle Public Score |\n",
      "+------+---------------------------+----------------------+---------------------+\n",
      "|  1   |          XGBoost          |        0.736         |        0.764        |\n",
      "|  2   |       Random Forest       |        0.689         |        0.728        |\n",
      "|  3   |    Logistic Regression    |        0.687         |        0.727        |\n",
      "|  4   | Support Vector Classifier |        0.683         |        0.725        |\n",
      "|  5   |    Gaussian Naive Bayes   |        0.657         |        0.689        |\n",
      "|  6   |    k Nearest Neighbors    |        0.545         |        0.551        |\n",
      "+------+---------------------------+----------------------+---------------------+\n"
     ]
    }
   ],
   "source": [
    "x = PrettyTable()\n",
    "x.field_names = ['Rank','Model Name', 'Kaggle Private Ccore', 'Kaggle Public Score']\n",
    "x.add_row([1,'XGBoost','0.736','0.764'])\n",
    "x.add_row([2,'Random Forest','0.689','0.728'])\n",
    "x.add_row([3,'Logistic Regression','0.687','0.727'])\n",
    "x.add_row([4,'Support Vector Classifier', '0.683', '0.725'])\n",
    "x.add_row([5,'Gaussian Naive Bayes','0.657','0.689'])\n",
    "x.add_row([6,'k Nearest Neighbors','0.545','0.551'])\n",
    "print(x)"
   ]
  },
  {
   "cell_type": "markdown",
   "id": "321c7732",
   "metadata": {},
   "source": [
    "<b>Observations:</b>\n",
    "<ol>\n",
    "    1. We have taken the orignal dataset without adding any new features. <br>\n",
    "    2. We are using oversampling technique to balance the dataset. <br>\n",
    "    3. We are standardizing train and test features by removing the mean and scaling to unit variance. <br>\n",
    "    4. We are applying 6 basic ML Models (kNN, Gaussian Naive Bayes, SVC, Logistic Regression, Random Forest XGBoost) on the train dataset. <br>\n",
    "    5. XGBoost is giving us the best Kaggle score and kNN is giving us the worst Kagggle score.\n",
    "</ol>"
   ]
  },
  {
   "cell_type": "markdown",
   "id": "13ef6c63",
   "metadata": {},
   "source": [
    "<b>Takeaways:</b>\n",
    "<ol>\n",
    "    1. Feature engineering is one of the most critical aspects of this Kaggle problem. So we will look to come up with various new statistics features. <br>\n",
    "    2. Since a large number of unnecessary features could lead to overfitting, we will choose only the most essential features by applying PCA and Truncated SVD. <br>\n",
    "    3. We’ll also try to build even more powerful models using ensembling, keeping Logistic Regression as the base model.\n",
    "</ol>"
   ]
  },
  {
   "cell_type": "code",
   "execution_count": null,
   "id": "2d82f5cd",
   "metadata": {},
   "outputs": [],
   "source": []
  }
 ],
 "metadata": {
  "kernelspec": {
   "display_name": "Python 3",
   "language": "python",
   "name": "python3"
  },
  "language_info": {
   "codemirror_mode": {
    "name": "ipython",
    "version": 3
   },
   "file_extension": ".py",
   "mimetype": "text/x-python",
   "name": "python",
   "nbconvert_exporter": "python",
   "pygments_lexer": "ipython3",
   "version": "3.8.8"
  }
 },
 "nbformat": 4,
 "nbformat_minor": 5
}
