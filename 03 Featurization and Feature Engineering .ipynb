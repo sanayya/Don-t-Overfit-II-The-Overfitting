{
 "cells": [
  {
   "cell_type": "markdown",
   "id": "ba21e498",
   "metadata": {},
   "source": [
    "## Import relevant libraries and load dataset."
   ]
  },
  {
   "cell_type": "code",
   "execution_count": 1,
   "id": "66090d75",
   "metadata": {},
   "outputs": [],
   "source": [
    "# import libraries\n",
    "import warnings\n",
    "warnings.filterwarnings(\"ignore\")\n",
    "import numpy as np\n",
    "import pandas as pd\n",
    "import matplotlib.pyplot as plt\n",
    "import seaborn as sns"
   ]
  },
  {
   "cell_type": "code",
   "execution_count": 2,
   "id": "8ef75058",
   "metadata": {},
   "outputs": [
    {
     "data": {
      "text/html": [
       "<div>\n",
       "<style scoped>\n",
       "    .dataframe tbody tr th:only-of-type {\n",
       "        vertical-align: middle;\n",
       "    }\n",
       "\n",
       "    .dataframe tbody tr th {\n",
       "        vertical-align: top;\n",
       "    }\n",
       "\n",
       "    .dataframe thead th {\n",
       "        text-align: right;\n",
       "    }\n",
       "</style>\n",
       "<table border=\"1\" class=\"dataframe\">\n",
       "  <thead>\n",
       "    <tr style=\"text-align: right;\">\n",
       "      <th></th>\n",
       "      <th>id</th>\n",
       "      <th>target</th>\n",
       "      <th>0</th>\n",
       "      <th>1</th>\n",
       "      <th>2</th>\n",
       "      <th>3</th>\n",
       "      <th>4</th>\n",
       "      <th>5</th>\n",
       "      <th>6</th>\n",
       "      <th>7</th>\n",
       "      <th>...</th>\n",
       "      <th>290</th>\n",
       "      <th>291</th>\n",
       "      <th>292</th>\n",
       "      <th>293</th>\n",
       "      <th>294</th>\n",
       "      <th>295</th>\n",
       "      <th>296</th>\n",
       "      <th>297</th>\n",
       "      <th>298</th>\n",
       "      <th>299</th>\n",
       "    </tr>\n",
       "  </thead>\n",
       "  <tbody>\n",
       "    <tr>\n",
       "      <th>0</th>\n",
       "      <td>0</td>\n",
       "      <td>1.0</td>\n",
       "      <td>-0.098</td>\n",
       "      <td>2.165</td>\n",
       "      <td>0.681</td>\n",
       "      <td>-0.614</td>\n",
       "      <td>1.309</td>\n",
       "      <td>-0.455</td>\n",
       "      <td>-0.236</td>\n",
       "      <td>0.276</td>\n",
       "      <td>...</td>\n",
       "      <td>0.867</td>\n",
       "      <td>1.347</td>\n",
       "      <td>0.504</td>\n",
       "      <td>-0.649</td>\n",
       "      <td>0.672</td>\n",
       "      <td>-2.097</td>\n",
       "      <td>1.051</td>\n",
       "      <td>-0.414</td>\n",
       "      <td>1.038</td>\n",
       "      <td>-1.065</td>\n",
       "    </tr>\n",
       "    <tr>\n",
       "      <th>1</th>\n",
       "      <td>1</td>\n",
       "      <td>0.0</td>\n",
       "      <td>1.081</td>\n",
       "      <td>-0.973</td>\n",
       "      <td>-0.383</td>\n",
       "      <td>0.326</td>\n",
       "      <td>-0.428</td>\n",
       "      <td>0.317</td>\n",
       "      <td>1.172</td>\n",
       "      <td>0.352</td>\n",
       "      <td>...</td>\n",
       "      <td>-0.165</td>\n",
       "      <td>-1.695</td>\n",
       "      <td>-1.257</td>\n",
       "      <td>1.359</td>\n",
       "      <td>-0.808</td>\n",
       "      <td>-1.624</td>\n",
       "      <td>-0.458</td>\n",
       "      <td>-1.099</td>\n",
       "      <td>-0.936</td>\n",
       "      <td>0.973</td>\n",
       "    </tr>\n",
       "    <tr>\n",
       "      <th>2</th>\n",
       "      <td>2</td>\n",
       "      <td>1.0</td>\n",
       "      <td>-0.523</td>\n",
       "      <td>-0.089</td>\n",
       "      <td>-0.348</td>\n",
       "      <td>0.148</td>\n",
       "      <td>-0.022</td>\n",
       "      <td>0.404</td>\n",
       "      <td>-0.023</td>\n",
       "      <td>-0.172</td>\n",
       "      <td>...</td>\n",
       "      <td>0.013</td>\n",
       "      <td>0.263</td>\n",
       "      <td>-1.222</td>\n",
       "      <td>0.726</td>\n",
       "      <td>1.444</td>\n",
       "      <td>-1.165</td>\n",
       "      <td>-1.544</td>\n",
       "      <td>0.004</td>\n",
       "      <td>0.800</td>\n",
       "      <td>-1.211</td>\n",
       "    </tr>\n",
       "    <tr>\n",
       "      <th>3</th>\n",
       "      <td>3</td>\n",
       "      <td>1.0</td>\n",
       "      <td>0.067</td>\n",
       "      <td>-0.021</td>\n",
       "      <td>0.392</td>\n",
       "      <td>-1.637</td>\n",
       "      <td>-0.446</td>\n",
       "      <td>-0.725</td>\n",
       "      <td>-1.035</td>\n",
       "      <td>0.834</td>\n",
       "      <td>...</td>\n",
       "      <td>-0.404</td>\n",
       "      <td>0.640</td>\n",
       "      <td>-0.595</td>\n",
       "      <td>-0.966</td>\n",
       "      <td>0.900</td>\n",
       "      <td>0.467</td>\n",
       "      <td>-0.562</td>\n",
       "      <td>-0.254</td>\n",
       "      <td>-0.533</td>\n",
       "      <td>0.238</td>\n",
       "    </tr>\n",
       "    <tr>\n",
       "      <th>4</th>\n",
       "      <td>4</td>\n",
       "      <td>1.0</td>\n",
       "      <td>2.347</td>\n",
       "      <td>-0.831</td>\n",
       "      <td>0.511</td>\n",
       "      <td>-0.021</td>\n",
       "      <td>1.225</td>\n",
       "      <td>1.594</td>\n",
       "      <td>0.585</td>\n",
       "      <td>1.509</td>\n",
       "      <td>...</td>\n",
       "      <td>0.898</td>\n",
       "      <td>0.134</td>\n",
       "      <td>2.415</td>\n",
       "      <td>-0.996</td>\n",
       "      <td>-1.006</td>\n",
       "      <td>1.378</td>\n",
       "      <td>1.246</td>\n",
       "      <td>1.478</td>\n",
       "      <td>0.428</td>\n",
       "      <td>0.253</td>\n",
       "    </tr>\n",
       "  </tbody>\n",
       "</table>\n",
       "<p>5 rows × 302 columns</p>\n",
       "</div>"
      ],
      "text/plain": [
       "   id  target      0      1      2      3      4      5      6      7  ...  \\\n",
       "0   0     1.0 -0.098  2.165  0.681 -0.614  1.309 -0.455 -0.236  0.276  ...   \n",
       "1   1     0.0  1.081 -0.973 -0.383  0.326 -0.428  0.317  1.172  0.352  ...   \n",
       "2   2     1.0 -0.523 -0.089 -0.348  0.148 -0.022  0.404 -0.023 -0.172  ...   \n",
       "3   3     1.0  0.067 -0.021  0.392 -1.637 -0.446 -0.725 -1.035  0.834  ...   \n",
       "4   4     1.0  2.347 -0.831  0.511 -0.021  1.225  1.594  0.585  1.509  ...   \n",
       "\n",
       "     290    291    292    293    294    295    296    297    298    299  \n",
       "0  0.867  1.347  0.504 -0.649  0.672 -2.097  1.051 -0.414  1.038 -1.065  \n",
       "1 -0.165 -1.695 -1.257  1.359 -0.808 -1.624 -0.458 -1.099 -0.936  0.973  \n",
       "2  0.013  0.263 -1.222  0.726  1.444 -1.165 -1.544  0.004  0.800 -1.211  \n",
       "3 -0.404  0.640 -0.595 -0.966  0.900  0.467 -0.562 -0.254 -0.533  0.238  \n",
       "4  0.898  0.134  2.415 -0.996 -1.006  1.378  1.246  1.478  0.428  0.253  \n",
       "\n",
       "[5 rows x 302 columns]"
      ]
     },
     "execution_count": 2,
     "metadata": {},
     "output_type": "execute_result"
    }
   ],
   "source": [
    "# load train.csv into pandas dataframe\n",
    "train_df = pd.read_csv(\"train.csv\")\n",
    "# print the first 5 rows\n",
    "train_df.head()"
   ]
  },
  {
   "cell_type": "code",
   "execution_count": 3,
   "id": "f347f4a1",
   "metadata": {},
   "outputs": [
    {
     "data": {
      "text/html": [
       "<div>\n",
       "<style scoped>\n",
       "    .dataframe tbody tr th:only-of-type {\n",
       "        vertical-align: middle;\n",
       "    }\n",
       "\n",
       "    .dataframe tbody tr th {\n",
       "        vertical-align: top;\n",
       "    }\n",
       "\n",
       "    .dataframe thead th {\n",
       "        text-align: right;\n",
       "    }\n",
       "</style>\n",
       "<table border=\"1\" class=\"dataframe\">\n",
       "  <thead>\n",
       "    <tr style=\"text-align: right;\">\n",
       "      <th></th>\n",
       "      <th>0</th>\n",
       "      <th>1</th>\n",
       "      <th>2</th>\n",
       "      <th>3</th>\n",
       "      <th>4</th>\n",
       "      <th>5</th>\n",
       "      <th>6</th>\n",
       "      <th>7</th>\n",
       "      <th>8</th>\n",
       "      <th>9</th>\n",
       "      <th>...</th>\n",
       "      <th>290</th>\n",
       "      <th>291</th>\n",
       "      <th>292</th>\n",
       "      <th>293</th>\n",
       "      <th>294</th>\n",
       "      <th>295</th>\n",
       "      <th>296</th>\n",
       "      <th>297</th>\n",
       "      <th>298</th>\n",
       "      <th>299</th>\n",
       "    </tr>\n",
       "  </thead>\n",
       "  <tbody>\n",
       "    <tr>\n",
       "      <th>0</th>\n",
       "      <td>-0.098</td>\n",
       "      <td>2.165</td>\n",
       "      <td>0.681</td>\n",
       "      <td>-0.614</td>\n",
       "      <td>1.309</td>\n",
       "      <td>-0.455</td>\n",
       "      <td>-0.236</td>\n",
       "      <td>0.276</td>\n",
       "      <td>-2.246</td>\n",
       "      <td>1.825</td>\n",
       "      <td>...</td>\n",
       "      <td>0.867</td>\n",
       "      <td>1.347</td>\n",
       "      <td>0.504</td>\n",
       "      <td>-0.649</td>\n",
       "      <td>0.672</td>\n",
       "      <td>-2.097</td>\n",
       "      <td>1.051</td>\n",
       "      <td>-0.414</td>\n",
       "      <td>1.038</td>\n",
       "      <td>-1.065</td>\n",
       "    </tr>\n",
       "    <tr>\n",
       "      <th>1</th>\n",
       "      <td>1.081</td>\n",
       "      <td>-0.973</td>\n",
       "      <td>-0.383</td>\n",
       "      <td>0.326</td>\n",
       "      <td>-0.428</td>\n",
       "      <td>0.317</td>\n",
       "      <td>1.172</td>\n",
       "      <td>0.352</td>\n",
       "      <td>0.004</td>\n",
       "      <td>-0.291</td>\n",
       "      <td>...</td>\n",
       "      <td>-0.165</td>\n",
       "      <td>-1.695</td>\n",
       "      <td>-1.257</td>\n",
       "      <td>1.359</td>\n",
       "      <td>-0.808</td>\n",
       "      <td>-1.624</td>\n",
       "      <td>-0.458</td>\n",
       "      <td>-1.099</td>\n",
       "      <td>-0.936</td>\n",
       "      <td>0.973</td>\n",
       "    </tr>\n",
       "    <tr>\n",
       "      <th>2</th>\n",
       "      <td>-0.523</td>\n",
       "      <td>-0.089</td>\n",
       "      <td>-0.348</td>\n",
       "      <td>0.148</td>\n",
       "      <td>-0.022</td>\n",
       "      <td>0.404</td>\n",
       "      <td>-0.023</td>\n",
       "      <td>-0.172</td>\n",
       "      <td>0.137</td>\n",
       "      <td>0.183</td>\n",
       "      <td>...</td>\n",
       "      <td>0.013</td>\n",
       "      <td>0.263</td>\n",
       "      <td>-1.222</td>\n",
       "      <td>0.726</td>\n",
       "      <td>1.444</td>\n",
       "      <td>-1.165</td>\n",
       "      <td>-1.544</td>\n",
       "      <td>0.004</td>\n",
       "      <td>0.800</td>\n",
       "      <td>-1.211</td>\n",
       "    </tr>\n",
       "    <tr>\n",
       "      <th>3</th>\n",
       "      <td>0.067</td>\n",
       "      <td>-0.021</td>\n",
       "      <td>0.392</td>\n",
       "      <td>-1.637</td>\n",
       "      <td>-0.446</td>\n",
       "      <td>-0.725</td>\n",
       "      <td>-1.035</td>\n",
       "      <td>0.834</td>\n",
       "      <td>0.503</td>\n",
       "      <td>0.274</td>\n",
       "      <td>...</td>\n",
       "      <td>-0.404</td>\n",
       "      <td>0.640</td>\n",
       "      <td>-0.595</td>\n",
       "      <td>-0.966</td>\n",
       "      <td>0.900</td>\n",
       "      <td>0.467</td>\n",
       "      <td>-0.562</td>\n",
       "      <td>-0.254</td>\n",
       "      <td>-0.533</td>\n",
       "      <td>0.238</td>\n",
       "    </tr>\n",
       "    <tr>\n",
       "      <th>4</th>\n",
       "      <td>2.347</td>\n",
       "      <td>-0.831</td>\n",
       "      <td>0.511</td>\n",
       "      <td>-0.021</td>\n",
       "      <td>1.225</td>\n",
       "      <td>1.594</td>\n",
       "      <td>0.585</td>\n",
       "      <td>1.509</td>\n",
       "      <td>-0.012</td>\n",
       "      <td>2.198</td>\n",
       "      <td>...</td>\n",
       "      <td>0.898</td>\n",
       "      <td>0.134</td>\n",
       "      <td>2.415</td>\n",
       "      <td>-0.996</td>\n",
       "      <td>-1.006</td>\n",
       "      <td>1.378</td>\n",
       "      <td>1.246</td>\n",
       "      <td>1.478</td>\n",
       "      <td>0.428</td>\n",
       "      <td>0.253</td>\n",
       "    </tr>\n",
       "  </tbody>\n",
       "</table>\n",
       "<p>5 rows × 300 columns</p>\n",
       "</div>"
      ],
      "text/plain": [
       "       0      1      2      3      4      5      6      7      8      9  ...  \\\n",
       "0 -0.098  2.165  0.681 -0.614  1.309 -0.455 -0.236  0.276 -2.246  1.825  ...   \n",
       "1  1.081 -0.973 -0.383  0.326 -0.428  0.317  1.172  0.352  0.004 -0.291  ...   \n",
       "2 -0.523 -0.089 -0.348  0.148 -0.022  0.404 -0.023 -0.172  0.137  0.183  ...   \n",
       "3  0.067 -0.021  0.392 -1.637 -0.446 -0.725 -1.035  0.834  0.503  0.274  ...   \n",
       "4  2.347 -0.831  0.511 -0.021  1.225  1.594  0.585  1.509 -0.012  2.198  ...   \n",
       "\n",
       "     290    291    292    293    294    295    296    297    298    299  \n",
       "0  0.867  1.347  0.504 -0.649  0.672 -2.097  1.051 -0.414  1.038 -1.065  \n",
       "1 -0.165 -1.695 -1.257  1.359 -0.808 -1.624 -0.458 -1.099 -0.936  0.973  \n",
       "2  0.013  0.263 -1.222  0.726  1.444 -1.165 -1.544  0.004  0.800 -1.211  \n",
       "3 -0.404  0.640 -0.595 -0.966  0.900  0.467 -0.562 -0.254 -0.533  0.238  \n",
       "4  0.898  0.134  2.415 -0.996 -1.006  1.378  1.246  1.478  0.428  0.253  \n",
       "\n",
       "[5 rows x 300 columns]"
      ]
     },
     "execution_count": 3,
     "metadata": {},
     "output_type": "execute_result"
    }
   ],
   "source": [
    "# drop features id and target from train_df \n",
    "train = train_df.drop([\"id\",\"target\"],axis=1)\n",
    "# print the first 5 rows\n",
    "train.head()"
   ]
  },
  {
   "cell_type": "code",
   "execution_count": 4,
   "id": "bb37807b",
   "metadata": {},
   "outputs": [
    {
     "data": {
      "text/html": [
       "<div>\n",
       "<style scoped>\n",
       "    .dataframe tbody tr th:only-of-type {\n",
       "        vertical-align: middle;\n",
       "    }\n",
       "\n",
       "    .dataframe tbody tr th {\n",
       "        vertical-align: top;\n",
       "    }\n",
       "\n",
       "    .dataframe thead th {\n",
       "        text-align: right;\n",
       "    }\n",
       "</style>\n",
       "<table border=\"1\" class=\"dataframe\">\n",
       "  <thead>\n",
       "    <tr style=\"text-align: right;\">\n",
       "      <th></th>\n",
       "      <th>id</th>\n",
       "      <th>0</th>\n",
       "      <th>1</th>\n",
       "      <th>2</th>\n",
       "      <th>3</th>\n",
       "      <th>4</th>\n",
       "      <th>5</th>\n",
       "      <th>6</th>\n",
       "      <th>7</th>\n",
       "      <th>8</th>\n",
       "      <th>...</th>\n",
       "      <th>290</th>\n",
       "      <th>291</th>\n",
       "      <th>292</th>\n",
       "      <th>293</th>\n",
       "      <th>294</th>\n",
       "      <th>295</th>\n",
       "      <th>296</th>\n",
       "      <th>297</th>\n",
       "      <th>298</th>\n",
       "      <th>299</th>\n",
       "    </tr>\n",
       "  </thead>\n",
       "  <tbody>\n",
       "    <tr>\n",
       "      <th>0</th>\n",
       "      <td>250</td>\n",
       "      <td>0.500</td>\n",
       "      <td>-1.033</td>\n",
       "      <td>-1.595</td>\n",
       "      <td>0.309</td>\n",
       "      <td>-0.714</td>\n",
       "      <td>0.502</td>\n",
       "      <td>0.535</td>\n",
       "      <td>-0.129</td>\n",
       "      <td>-0.687</td>\n",
       "      <td>...</td>\n",
       "      <td>-0.088</td>\n",
       "      <td>-2.628</td>\n",
       "      <td>-0.845</td>\n",
       "      <td>2.078</td>\n",
       "      <td>-0.277</td>\n",
       "      <td>2.132</td>\n",
       "      <td>0.609</td>\n",
       "      <td>-0.104</td>\n",
       "      <td>0.312</td>\n",
       "      <td>0.979</td>\n",
       "    </tr>\n",
       "    <tr>\n",
       "      <th>1</th>\n",
       "      <td>251</td>\n",
       "      <td>0.776</td>\n",
       "      <td>0.914</td>\n",
       "      <td>-0.494</td>\n",
       "      <td>1.347</td>\n",
       "      <td>-0.867</td>\n",
       "      <td>0.480</td>\n",
       "      <td>0.578</td>\n",
       "      <td>-0.313</td>\n",
       "      <td>0.203</td>\n",
       "      <td>...</td>\n",
       "      <td>-0.683</td>\n",
       "      <td>-0.066</td>\n",
       "      <td>0.025</td>\n",
       "      <td>0.606</td>\n",
       "      <td>-0.353</td>\n",
       "      <td>-1.133</td>\n",
       "      <td>-3.138</td>\n",
       "      <td>0.281</td>\n",
       "      <td>-0.625</td>\n",
       "      <td>-0.761</td>\n",
       "    </tr>\n",
       "    <tr>\n",
       "      <th>2</th>\n",
       "      <td>252</td>\n",
       "      <td>1.750</td>\n",
       "      <td>0.509</td>\n",
       "      <td>-0.057</td>\n",
       "      <td>0.835</td>\n",
       "      <td>-0.476</td>\n",
       "      <td>1.428</td>\n",
       "      <td>-0.701</td>\n",
       "      <td>-2.009</td>\n",
       "      <td>-1.378</td>\n",
       "      <td>...</td>\n",
       "      <td>-0.094</td>\n",
       "      <td>0.351</td>\n",
       "      <td>-0.607</td>\n",
       "      <td>-0.737</td>\n",
       "      <td>-0.031</td>\n",
       "      <td>0.701</td>\n",
       "      <td>0.976</td>\n",
       "      <td>0.135</td>\n",
       "      <td>-1.327</td>\n",
       "      <td>2.463</td>\n",
       "    </tr>\n",
       "    <tr>\n",
       "      <th>3</th>\n",
       "      <td>253</td>\n",
       "      <td>-0.556</td>\n",
       "      <td>-1.855</td>\n",
       "      <td>-0.682</td>\n",
       "      <td>0.578</td>\n",
       "      <td>1.592</td>\n",
       "      <td>0.512</td>\n",
       "      <td>-1.419</td>\n",
       "      <td>0.722</td>\n",
       "      <td>0.511</td>\n",
       "      <td>...</td>\n",
       "      <td>-0.336</td>\n",
       "      <td>-0.787</td>\n",
       "      <td>0.255</td>\n",
       "      <td>-0.031</td>\n",
       "      <td>-0.836</td>\n",
       "      <td>0.916</td>\n",
       "      <td>2.411</td>\n",
       "      <td>1.053</td>\n",
       "      <td>-1.601</td>\n",
       "      <td>-1.529</td>\n",
       "    </tr>\n",
       "    <tr>\n",
       "      <th>4</th>\n",
       "      <td>254</td>\n",
       "      <td>0.754</td>\n",
       "      <td>-0.245</td>\n",
       "      <td>1.173</td>\n",
       "      <td>-1.623</td>\n",
       "      <td>0.009</td>\n",
       "      <td>0.370</td>\n",
       "      <td>0.781</td>\n",
       "      <td>-1.763</td>\n",
       "      <td>-1.432</td>\n",
       "      <td>...</td>\n",
       "      <td>2.184</td>\n",
       "      <td>-1.090</td>\n",
       "      <td>0.216</td>\n",
       "      <td>1.186</td>\n",
       "      <td>-0.143</td>\n",
       "      <td>0.322</td>\n",
       "      <td>-0.068</td>\n",
       "      <td>-0.156</td>\n",
       "      <td>-1.153</td>\n",
       "      <td>0.825</td>\n",
       "    </tr>\n",
       "  </tbody>\n",
       "</table>\n",
       "<p>5 rows × 301 columns</p>\n",
       "</div>"
      ],
      "text/plain": [
       "    id      0      1      2      3      4      5      6      7      8  ...  \\\n",
       "0  250  0.500 -1.033 -1.595  0.309 -0.714  0.502  0.535 -0.129 -0.687  ...   \n",
       "1  251  0.776  0.914 -0.494  1.347 -0.867  0.480  0.578 -0.313  0.203  ...   \n",
       "2  252  1.750  0.509 -0.057  0.835 -0.476  1.428 -0.701 -2.009 -1.378  ...   \n",
       "3  253 -0.556 -1.855 -0.682  0.578  1.592  0.512 -1.419  0.722  0.511  ...   \n",
       "4  254  0.754 -0.245  1.173 -1.623  0.009  0.370  0.781 -1.763 -1.432  ...   \n",
       "\n",
       "     290    291    292    293    294    295    296    297    298    299  \n",
       "0 -0.088 -2.628 -0.845  2.078 -0.277  2.132  0.609 -0.104  0.312  0.979  \n",
       "1 -0.683 -0.066  0.025  0.606 -0.353 -1.133 -3.138  0.281 -0.625 -0.761  \n",
       "2 -0.094  0.351 -0.607 -0.737 -0.031  0.701  0.976  0.135 -1.327  2.463  \n",
       "3 -0.336 -0.787  0.255 -0.031 -0.836  0.916  2.411  1.053 -1.601 -1.529  \n",
       "4  2.184 -1.090  0.216  1.186 -0.143  0.322 -0.068 -0.156 -1.153  0.825  \n",
       "\n",
       "[5 rows x 301 columns]"
      ]
     },
     "execution_count": 4,
     "metadata": {},
     "output_type": "execute_result"
    }
   ],
   "source": [
    "# load test.csv into pandas dataframe\n",
    "test_df = pd.read_csv(\"test.csv\")\n",
    "# print the first 5 rows\n",
    "test_df.head()"
   ]
  },
  {
   "cell_type": "code",
   "execution_count": 5,
   "id": "ec832872",
   "metadata": {},
   "outputs": [
    {
     "data": {
      "text/html": [
       "<div>\n",
       "<style scoped>\n",
       "    .dataframe tbody tr th:only-of-type {\n",
       "        vertical-align: middle;\n",
       "    }\n",
       "\n",
       "    .dataframe tbody tr th {\n",
       "        vertical-align: top;\n",
       "    }\n",
       "\n",
       "    .dataframe thead th {\n",
       "        text-align: right;\n",
       "    }\n",
       "</style>\n",
       "<table border=\"1\" class=\"dataframe\">\n",
       "  <thead>\n",
       "    <tr style=\"text-align: right;\">\n",
       "      <th></th>\n",
       "      <th>0</th>\n",
       "      <th>1</th>\n",
       "      <th>2</th>\n",
       "      <th>3</th>\n",
       "      <th>4</th>\n",
       "      <th>5</th>\n",
       "      <th>6</th>\n",
       "      <th>7</th>\n",
       "      <th>8</th>\n",
       "      <th>9</th>\n",
       "      <th>...</th>\n",
       "      <th>290</th>\n",
       "      <th>291</th>\n",
       "      <th>292</th>\n",
       "      <th>293</th>\n",
       "      <th>294</th>\n",
       "      <th>295</th>\n",
       "      <th>296</th>\n",
       "      <th>297</th>\n",
       "      <th>298</th>\n",
       "      <th>299</th>\n",
       "    </tr>\n",
       "  </thead>\n",
       "  <tbody>\n",
       "    <tr>\n",
       "      <th>0</th>\n",
       "      <td>0.500</td>\n",
       "      <td>-1.033</td>\n",
       "      <td>-1.595</td>\n",
       "      <td>0.309</td>\n",
       "      <td>-0.714</td>\n",
       "      <td>0.502</td>\n",
       "      <td>0.535</td>\n",
       "      <td>-0.129</td>\n",
       "      <td>-0.687</td>\n",
       "      <td>1.291</td>\n",
       "      <td>...</td>\n",
       "      <td>-0.088</td>\n",
       "      <td>-2.628</td>\n",
       "      <td>-0.845</td>\n",
       "      <td>2.078</td>\n",
       "      <td>-0.277</td>\n",
       "      <td>2.132</td>\n",
       "      <td>0.609</td>\n",
       "      <td>-0.104</td>\n",
       "      <td>0.312</td>\n",
       "      <td>0.979</td>\n",
       "    </tr>\n",
       "    <tr>\n",
       "      <th>1</th>\n",
       "      <td>0.776</td>\n",
       "      <td>0.914</td>\n",
       "      <td>-0.494</td>\n",
       "      <td>1.347</td>\n",
       "      <td>-0.867</td>\n",
       "      <td>0.480</td>\n",
       "      <td>0.578</td>\n",
       "      <td>-0.313</td>\n",
       "      <td>0.203</td>\n",
       "      <td>1.356</td>\n",
       "      <td>...</td>\n",
       "      <td>-0.683</td>\n",
       "      <td>-0.066</td>\n",
       "      <td>0.025</td>\n",
       "      <td>0.606</td>\n",
       "      <td>-0.353</td>\n",
       "      <td>-1.133</td>\n",
       "      <td>-3.138</td>\n",
       "      <td>0.281</td>\n",
       "      <td>-0.625</td>\n",
       "      <td>-0.761</td>\n",
       "    </tr>\n",
       "    <tr>\n",
       "      <th>2</th>\n",
       "      <td>1.750</td>\n",
       "      <td>0.509</td>\n",
       "      <td>-0.057</td>\n",
       "      <td>0.835</td>\n",
       "      <td>-0.476</td>\n",
       "      <td>1.428</td>\n",
       "      <td>-0.701</td>\n",
       "      <td>-2.009</td>\n",
       "      <td>-1.378</td>\n",
       "      <td>0.167</td>\n",
       "      <td>...</td>\n",
       "      <td>-0.094</td>\n",
       "      <td>0.351</td>\n",
       "      <td>-0.607</td>\n",
       "      <td>-0.737</td>\n",
       "      <td>-0.031</td>\n",
       "      <td>0.701</td>\n",
       "      <td>0.976</td>\n",
       "      <td>0.135</td>\n",
       "      <td>-1.327</td>\n",
       "      <td>2.463</td>\n",
       "    </tr>\n",
       "    <tr>\n",
       "      <th>3</th>\n",
       "      <td>-0.556</td>\n",
       "      <td>-1.855</td>\n",
       "      <td>-0.682</td>\n",
       "      <td>0.578</td>\n",
       "      <td>1.592</td>\n",
       "      <td>0.512</td>\n",
       "      <td>-1.419</td>\n",
       "      <td>0.722</td>\n",
       "      <td>0.511</td>\n",
       "      <td>0.567</td>\n",
       "      <td>...</td>\n",
       "      <td>-0.336</td>\n",
       "      <td>-0.787</td>\n",
       "      <td>0.255</td>\n",
       "      <td>-0.031</td>\n",
       "      <td>-0.836</td>\n",
       "      <td>0.916</td>\n",
       "      <td>2.411</td>\n",
       "      <td>1.053</td>\n",
       "      <td>-1.601</td>\n",
       "      <td>-1.529</td>\n",
       "    </tr>\n",
       "    <tr>\n",
       "      <th>4</th>\n",
       "      <td>0.754</td>\n",
       "      <td>-0.245</td>\n",
       "      <td>1.173</td>\n",
       "      <td>-1.623</td>\n",
       "      <td>0.009</td>\n",
       "      <td>0.370</td>\n",
       "      <td>0.781</td>\n",
       "      <td>-1.763</td>\n",
       "      <td>-1.432</td>\n",
       "      <td>-0.930</td>\n",
       "      <td>...</td>\n",
       "      <td>2.184</td>\n",
       "      <td>-1.090</td>\n",
       "      <td>0.216</td>\n",
       "      <td>1.186</td>\n",
       "      <td>-0.143</td>\n",
       "      <td>0.322</td>\n",
       "      <td>-0.068</td>\n",
       "      <td>-0.156</td>\n",
       "      <td>-1.153</td>\n",
       "      <td>0.825</td>\n",
       "    </tr>\n",
       "  </tbody>\n",
       "</table>\n",
       "<p>5 rows × 300 columns</p>\n",
       "</div>"
      ],
      "text/plain": [
       "       0      1      2      3      4      5      6      7      8      9  ...  \\\n",
       "0  0.500 -1.033 -1.595  0.309 -0.714  0.502  0.535 -0.129 -0.687  1.291  ...   \n",
       "1  0.776  0.914 -0.494  1.347 -0.867  0.480  0.578 -0.313  0.203  1.356  ...   \n",
       "2  1.750  0.509 -0.057  0.835 -0.476  1.428 -0.701 -2.009 -1.378  0.167  ...   \n",
       "3 -0.556 -1.855 -0.682  0.578  1.592  0.512 -1.419  0.722  0.511  0.567  ...   \n",
       "4  0.754 -0.245  1.173 -1.623  0.009  0.370  0.781 -1.763 -1.432 -0.930  ...   \n",
       "\n",
       "     290    291    292    293    294    295    296    297    298    299  \n",
       "0 -0.088 -2.628 -0.845  2.078 -0.277  2.132  0.609 -0.104  0.312  0.979  \n",
       "1 -0.683 -0.066  0.025  0.606 -0.353 -1.133 -3.138  0.281 -0.625 -0.761  \n",
       "2 -0.094  0.351 -0.607 -0.737 -0.031  0.701  0.976  0.135 -1.327  2.463  \n",
       "3 -0.336 -0.787  0.255 -0.031 -0.836  0.916  2.411  1.053 -1.601 -1.529  \n",
       "4  2.184 -1.090  0.216  1.186 -0.143  0.322 -0.068 -0.156 -1.153  0.825  \n",
       "\n",
       "[5 rows x 300 columns]"
      ]
     },
     "execution_count": 5,
     "metadata": {},
     "output_type": "execute_result"
    }
   ],
   "source": [
    "# drop feature id from test_df \n",
    "test = test_df.drop([\"id\"],axis=1)\n",
    "# print the first 5 rows\n",
    "test.head()"
   ]
  },
  {
   "cell_type": "markdown",
   "id": "e1daaa7e",
   "metadata": {},
   "source": [
    "## 4. Featurization and Feature Engineering."
   ]
  },
  {
   "cell_type": "markdown",
   "id": "a8f1c615",
   "metadata": {},
   "source": [
    "### 4.1 Basic Mathematical Operations"
   ]
  },
  {
   "cell_type": "code",
   "execution_count": 6,
   "id": "2850efc9",
   "metadata": {},
   "outputs": [
    {
     "name": "stdout",
     "output_type": "stream",
     "text": [
      "Mean of first 5 rows:\n",
      "0   -0.009223\n",
      "1    0.086130\n",
      "2    0.027657\n",
      "3    0.088357\n",
      "4    0.134413\n",
      "dtype: float64\n",
      "Size of train_mean: 250\n"
     ]
    }
   ],
   "source": [
    "# Reference: https://numpy.org/doc/stable/reference/generated/numpy.mean.html\n",
    "# compute arithmetic mean along axis 1 (row wise)\n",
    "train_mean = np.mean(train,axis=1)\n",
    "print(\"Mean of first 5 rows:\")\n",
    "print(train_mean[:5])\n",
    "print(\"Size of train_mean:\",len(train_mean))"
   ]
  },
  {
   "cell_type": "code",
   "execution_count": 7,
   "id": "ce1fcee1",
   "metadata": {},
   "outputs": [
    {
     "name": "stdout",
     "output_type": "stream",
     "text": [
      "Standard Deviation of first 5 rows:\n",
      "0    1.087355\n",
      "1    0.984194\n",
      "2    1.011068\n",
      "3    0.938176\n",
      "4    0.939707\n",
      "dtype: float64\n",
      "Size of train_std: 250\n"
     ]
    }
   ],
   "source": [
    "# Reference: https://numpy.org/doc/stable/reference/generated/numpy.std.html\n",
    "# compute standard deviation along axis 1 (row wise)\n",
    "train_std = np.std(train,axis=1)\n",
    "print(\"Standard Deviation of first 5 rows:\")\n",
    "print(train_std[:5])\n",
    "print(\"Size of train_std:\",len(train_std))"
   ]
  },
  {
   "cell_type": "markdown",
   "id": "85465af0",
   "metadata": {},
   "source": [
    "### Quantile Operations"
   ]
  },
  {
   "cell_type": "code",
   "execution_count": 8,
   "id": "cf3ad0f1",
   "metadata": {},
   "outputs": [
    {
     "name": "stdout",
     "output_type": "stream",
     "text": [
      "25th Quantile of first 5 rows:\n",
      "[-0.77575 -0.5515  -0.70875 -0.6105  -0.47425]\n",
      "Size of train_quantile25: 250\n"
     ]
    }
   ],
   "source": [
    "# Reference: https://numpy.org/doc/stable/reference/generated/numpy.quantile.html\n",
    "# compute 25th quantile along axis 1 (row wise)\n",
    "train_quantile25 = np.quantile(train,0.25,axis=1)\n",
    "print(\"25th Quantile of first 5 rows:\")\n",
    "print(train_quantile25[:5])\n",
    "print(\"Size of train_quantile25:\",len(train_quantile25))"
   ]
  },
  {
   "cell_type": "code",
   "execution_count": 9,
   "id": "98ccc56c",
   "metadata": {},
   "outputs": [
    {
     "name": "stdout",
     "output_type": "stream",
     "text": [
      "50th Quantile of first 5 rows:\n",
      "[-0.0505  0.0745  0.0285  0.1525  0.112 ]\n",
      "Size of train_quantile50: 250\n"
     ]
    }
   ],
   "source": [
    "# Reference: https://numpy.org/doc/stable/reference/generated/numpy.quantile.html\n",
    "# compute 50th quantile along axis 1 (row wise)\n",
    "train_quantile50 = np.quantile(train,0.50,axis=1)\n",
    "print(\"50th Quantile of first 5 rows:\")\n",
    "print(train_quantile50[:5])\n",
    "print(\"Size of train_quantile50:\",len(train_quantile50))"
   ]
  },
  {
   "cell_type": "code",
   "execution_count": 10,
   "id": "946e145e",
   "metadata": {},
   "outputs": [
    {
     "name": "stdout",
     "output_type": "stream",
     "text": [
      "75th Quantile of first 5 rows:\n",
      "[0.79625 0.74275 0.66075 0.74525 0.69475]\n",
      "Size of train_quantile75: 250\n"
     ]
    }
   ],
   "source": [
    "# Reference: https://numpy.org/doc/stable/reference/generated/numpy.quantile.html\n",
    "# compute 75th quantile along axis 1 (row wise)\n",
    "train_quantile75 = np.quantile(train,0.75,axis=1)\n",
    "print(\"75th Quantile of first 5 rows:\")\n",
    "print(train_quantile75[:5])\n",
    "print(\"Size of train_quantile75:\",len(train_quantile75))"
   ]
  },
  {
   "cell_type": "markdown",
   "id": "8a317b87",
   "metadata": {},
   "source": [
    "### 4.2 Trignometric Operations "
   ]
  },
  {
   "cell_type": "code",
   "execution_count": 11,
   "id": "e681b84f",
   "metadata": {},
   "outputs": [
    {
     "name": "stdout",
     "output_type": "stream",
     "text": [
      "Sine of first 5 rows:\n",
      "0   -0.010536\n",
      "1    0.075490\n",
      "2   -0.005509\n",
      "3    0.046067\n",
      "4    0.059548\n",
      "dtype: float64\n",
      "Size of train_sine: 250\n"
     ]
    }
   ],
   "source": [
    "# Reference: https://numpy.org/doc/stable/reference/generated/numpy.sin.html\n",
    "# compute trigonometric sine, element-wise then take mean of each row.\n",
    "sine = np.sin(train)\n",
    "train_sine = np.mean(sine,axis=1)\n",
    "print(\"Sine of first 5 rows:\")\n",
    "print(train_sine[:5])\n",
    "print(\"Size of train_sine:\",len(train_sine))"
   ]
  },
  {
   "cell_type": "code",
   "execution_count": 12,
   "id": "0965886f",
   "metadata": {},
   "outputs": [
    {
     "data": {
      "image/png": "[encoded data removed]",
      "text/plain": [
       "<Figure size 432x288 with 1 Axes>"
      ]
     },
     "metadata": {
      "needs_background": "light"
     },
     "output_type": "display_data"
    }
   ],
   "source": [
    "# Visualization of column 0 after applying trigonometric sine\n",
    "sns.distplot(train['0'], label=\"before\")\n",
    "sns.distplot(sine['0'], label=\"after\")\n",
    "plt.title('Plot of trigonometric sine for column 0')\n",
    "plt.legend()\n",
    "plt.show()"
   ]
  },
  {
   "cell_type": "code",
   "execution_count": 13,
   "id": "2776848b",
   "metadata": {},
   "outputs": [
    {
     "name": "stdout",
     "output_type": "stream",
     "text": [
      "Cosin of first 5 rows:\n",
      "0    0.537968\n",
      "1    0.611600\n",
      "2    0.599358\n",
      "3    0.645721\n",
      "4    0.643508\n",
      "dtype: float64\n",
      "Size of train_cosin: 250\n"
     ]
    }
   ],
   "source": [
    "# Reference: https://numpy.org/doc/stable/reference/generated/numpy.cos.html\n",
    "# compute trigonometric cosine, element-wise then take mean of each row.\n",
    "cosine = np.cos(train)\n",
    "train_cosine = np.mean(cosine,axis=1)\n",
    "print(\"Cosin of first 5 rows:\")\n",
    "print(train_cosine[:5])\n",
    "print(\"Size of train_cosin:\",len(train_cosine))"
   ]
  },
  {
   "cell_type": "code",
   "execution_count": 14,
   "id": "3073bcd9",
   "metadata": {},
   "outputs": [
    {
     "data": {
      "image/png": "[encoded data removed]",
      "text/plain": [
       "<Figure size 432x288 with 1 Axes>"
      ]
     },
     "metadata": {
      "needs_background": "light"
     },
     "output_type": "display_data"
    }
   ],
   "source": [
    "# Visualization of column 0 after applying trigonometric cosine\n",
    "sns.distplot(train['0'], label=\"before\")\n",
    "sns.distplot(cosine['0'], label=\"after\")\n",
    "plt.title('Plot of trigonometric cosine for column 0')\n",
    "plt.legend()\n",
    "plt.show()"
   ]
  },
  {
   "cell_type": "code",
   "execution_count": 15,
   "id": "288d3ebb",
   "metadata": {},
   "outputs": [
    {
     "name": "stdout",
     "output_type": "stream",
     "text": [
      "Tangent of first 5 rows:\n",
      "0   -0.315591\n",
      "1    0.607457\n",
      "2    0.104777\n",
      "3    0.891722\n",
      "4    0.274261\n",
      "dtype: float64\n",
      "Size of train_tangent: 250\n"
     ]
    }
   ],
   "source": [
    "# Reference: https://numpy.org/doc/stable/reference/generated/numpy.tan.html\n",
    "# compute trigonometric tangent, element-wise then take mean of each row.\n",
    "tangent = np.tan(train)\n",
    "train_tangent = np.mean(tangent,axis=1)\n",
    "print(\"Tangent of first 5 rows:\")\n",
    "print(train_tangent[:5])\n",
    "print(\"Size of train_tangent:\",len(train_tangent))"
   ]
  },
  {
   "cell_type": "code",
   "execution_count": 16,
   "id": "9238c42e",
   "metadata": {},
   "outputs": [
    {
     "data": {
      "image/png": "[encoded data removed]",
      "text/plain": [
       "<Figure size 432x288 with 1 Axes>"
      ]
     },
     "metadata": {
      "needs_background": "light"
     },
     "output_type": "display_data"
    }
   ],
   "source": [
    "# Visualization of column 0 after applying trigonometric tangent\n",
    "sns.distplot(train['0'], label=\"before\")\n",
    "sns.distplot(tangent['0'], label=\"after\")\n",
    "plt.title('Plot of trigonometric tangent for column 0')\n",
    "plt.legend()\n",
    "plt.show()"
   ]
  },
  {
   "cell_type": "code",
   "execution_count": 17,
   "id": "da487093",
   "metadata": {},
   "outputs": [
    {
     "name": "stdout",
     "output_type": "stream",
     "text": [
      "Inverse sine of first 5 rows:\n",
      "0   -0.037529\n",
      "1    0.058173\n",
      "2   -0.014537\n",
      "3    0.014575\n",
      "4    0.013183\n",
      "dtype: float64\n",
      "Size of train_inversesine: 250\n"
     ]
    }
   ],
   "source": [
    "# Reference: https://numpy.org/doc/stable/reference/generated/numpy.arcsin.html\n",
    "# compute trignometric inverse sine, element-wise then take mean of each row.\n",
    "inversesine = np.arcsin(train)\n",
    "train_inversesine = np.mean(inversesine,axis=1)\n",
    "print(\"Inverse sine of first 5 rows:\")\n",
    "print(train_inversesine[:5])\n",
    "print(\"Size of train_inversesine:\",len(train_inversesine))"
   ]
  },
  {
   "cell_type": "code",
   "execution_count": 18,
   "id": "800b014c",
   "metadata": {},
   "outputs": [
    {
     "data": {
      "image/png": "[encoded data removed]",
      "text/plain": [
       "<Figure size 432x288 with 1 Axes>"
      ]
     },
     "metadata": {
      "needs_background": "light"
     },
     "output_type": "display_data"
    }
   ],
   "source": [
    "# Visualization of column 0 after applying trigonometric inverse sine\n",
    "sns.distplot(train['0'], label=\"before\")\n",
    "sns.distplot(inversesine['0'], label=\"after\")\n",
    "plt.title('Plot of trigonometric inverse sine for column 0')\n",
    "plt.legend()\n",
    "plt.show()"
   ]
  },
  {
   "cell_type": "code",
   "execution_count": 19,
   "id": "3e8b08fc",
   "metadata": {},
   "outputs": [
    {
     "name": "stdout",
     "output_type": "stream",
     "text": [
      "Inverse cosine of first 5 rows:\n",
      "0    1.608326\n",
      "1    1.512623\n",
      "2    1.585333\n",
      "3    1.556221\n",
      "4    1.557613\n",
      "dtype: float64\n",
      "Size of train_inversecosine: 250\n"
     ]
    }
   ],
   "source": [
    "# Reference: https://numpy.org/doc/stable/reference/generated/numpy.arccos.html\n",
    "# compute trigonometric inverse cosine, element-wise then take mean of each row.\n",
    "inversecosine = np.arccos(train)\n",
    "train_inversecosine = np.mean(inversecosine,axis=1)\n",
    "print(\"Inverse cosine of first 5 rows:\")\n",
    "print(train_inversecosine[:5])\n",
    "print(\"Size of train_inversecosine:\",len(train_inversecosine))"
   ]
  },
  {
   "cell_type": "code",
   "execution_count": 20,
   "id": "d1f42019",
   "metadata": {},
   "outputs": [
    {
     "data": {
      "image/png": "[encoded data removed]",
      "text/plain": [
       "<Figure size 432x288 with 1 Axes>"
      ]
     },
     "metadata": {
      "needs_background": "light"
     },
     "output_type": "display_data"
    }
   ],
   "source": [
    "# Visualization of column 0 after applying trigonometric inverse cosine\n",
    "sns.distplot(train['0'], label=\"before\")\n",
    "sns.distplot(inversecosine['0'], label=\"after\")\n",
    "plt.title('Plot of trigonometric inverse cosine for column 0')\n",
    "plt.legend()\n",
    "plt.show()"
   ]
  },
  {
   "cell_type": "code",
   "execution_count": 21,
   "id": "b0d0e3d3",
   "metadata": {},
   "outputs": [
    {
     "name": "stdout",
     "output_type": "stream",
     "text": [
      "Inverse tangent of first 5 rows:\n",
      "0   -0.010571\n",
      "1    0.067941\n",
      "2    0.006444\n",
      "3    0.057935\n",
      "4    0.076936\n",
      "dtype: float64\n",
      "Size of train_inversetangent: 250\n"
     ]
    }
   ],
   "source": [
    "# Reference: https://numpy.org/doc/stable/reference/generated/numpy.arctan.html\n",
    "# compute trigonometric inverse tangent, element-wise then take mean of each row.\n",
    "inversetangent = np.arctan(train)\n",
    "train_inversetangent = np.mean(inversetangent,axis=1)\n",
    "print(\"Inverse tangent of first 5 rows:\")\n",
    "print(train_inversetangent[:5])\n",
    "print(\"Size of train_inversetangent:\",len(train_inversetangent))"
   ]
  },
  {
   "cell_type": "code",
   "execution_count": 22,
   "id": "458b9854",
   "metadata": {},
   "outputs": [
    {
     "data": {
      "image/png": "[encoded data removed]",
      "text/plain": [
       "<Figure size 432x288 with 1 Axes>"
      ]
     },
     "metadata": {
      "needs_background": "light"
     },
     "output_type": "display_data"
    }
   ],
   "source": [
    "# Visualization of column 0 after applying trigonometric inverse tangent\n",
    "sns.distplot(train['0'], label=\"before\")\n",
    "sns.distplot(inversetangent['0'], label=\"after\")\n",
    "plt.title('Plot of trigonometric inverse tangent for column 0')\n",
    "plt.legend()\n",
    "plt.show()"
   ]
  },
  {
   "cell_type": "markdown",
   "id": "0b18a6f9",
   "metadata": {},
   "source": [
    "### 4.3 Hyperbolic Operations"
   ]
  },
  {
   "cell_type": "code",
   "execution_count": 23,
   "id": "b4de52f3",
   "metadata": {},
   "outputs": [
    {
     "name": "stdout",
     "output_type": "stream",
     "text": [
      "Hyperbolic sine of first 5 rows:\n",
      "0   -0.004502\n",
      "1    0.089790\n",
      "2    0.086690\n",
      "3    0.180076\n",
      "4    0.277209\n",
      "dtype: float64\n",
      "Size of train_hyperbolicsine: 250\n"
     ]
    }
   ],
   "source": [
    "# Reference: https://numpy.org/doc/stable/reference/generated/numpy.sinh.html\n",
    "# compute hyperbolic sine, element-wise then take mean of each row.\n",
    "hyperbolicsine = np.sinh(train)\n",
    "train_hyperbolicsine = np.mean(hyperbolicsine,axis=1)\n",
    "print(\"Hyperbolic sine of first 5 rows:\")\n",
    "print(train_hyperbolicsine[:5])\n",
    "print(\"Size of train_hyperbolicsine:\",len(train_hyperbolicsine))"
   ]
  },
  {
   "cell_type": "code",
   "execution_count": 24,
   "id": "f5598c38",
   "metadata": {},
   "outputs": [
    {
     "data": {
      "image/png": "[encoded data removed]",
      "text/plain": [
       "<Figure size 432x288 with 1 Axes>"
      ]
     },
     "metadata": {
      "needs_background": "light"
     },
     "output_type": "display_data"
    }
   ],
   "source": [
    "# Visualization of column 0 after applying hyperbolic sine\n",
    "sns.distplot(train['0'], label=\"before\")\n",
    "sns.distplot(hyperbolicsine['0'], label=\"after\")\n",
    "plt.title('Plot of hyperbolic sine for column 0')\n",
    "plt.legend()\n",
    "plt.show()"
   ]
  },
  {
   "cell_type": "code",
   "execution_count": 25,
   "id": "7d356449",
   "metadata": {},
   "outputs": [
    {
     "name": "stdout",
     "output_type": "stream",
     "text": [
      "Hyperbolic cosine of first 5 rows:\n",
      "0    1.765149\n",
      "1    1.622502\n",
      "2    1.662417\n",
      "3    1.572025\n",
      "4    1.584532\n",
      "dtype: float64\n",
      "Size of train_hyperboliccosine: 250\n"
     ]
    }
   ],
   "source": [
    "# Reference: https://numpy.org/doc/stable/reference/generated/numpy.cosh.html\n",
    "# compute hyperbolic cosine, element-wise then take mean of each row.\n",
    "hyperboliccosine = np.cosh(train)\n",
    "train_hyperboliccosine = np.mean(hyperboliccosine,axis=1)\n",
    "print(\"Hyperbolic cosine of first 5 rows:\")\n",
    "print(train_hyperboliccosine[:5])\n",
    "print(\"Size of train_hyperboliccosine:\",len(train_hyperboliccosine))"
   ]
  },
  {
   "cell_type": "code",
   "execution_count": 26,
   "id": "e2702149",
   "metadata": {},
   "outputs": [
    {
     "data": {
      "image/png": "[encoded data removed]",
      "text/plain": [
       "<Figure size 432x288 with 1 Axes>"
      ]
     },
     "metadata": {
      "needs_background": "light"
     },
     "output_type": "display_data"
    }
   ],
   "source": [
    "# Visualization of column 0 after applying hyperbolic cosine\n",
    "sns.distplot(train['0'], label=\"before\")\n",
    "sns.distplot(hyperboliccosine['0'], label=\"after\")\n",
    "plt.title('Plot of hyperbolic cosine for column 0')\n",
    "plt.legend()\n",
    "plt.show()"
   ]
  },
  {
   "cell_type": "code",
   "execution_count": 27,
   "id": "40dcfb97",
   "metadata": {},
   "outputs": [
    {
     "name": "stdout",
     "output_type": "stream",
     "text": [
      "Hyperbolic tangent of first 5 rows:\n",
      "0   -0.010765\n",
      "1    0.065681\n",
      "2    0.002687\n",
      "3    0.053542\n",
      "4    0.068240\n",
      "dtype: float64\n",
      "Size of train_hyperbolictangent: 250\n"
     ]
    }
   ],
   "source": [
    "# Reference: https://numpy.org/doc/stable/reference/generated/numpy.tanh.html\n",
    "# compute hyperbolic tangent, element-wise then take mean of each row.\n",
    "hyperbolictangent = np.tanh(train)\n",
    "train_hyperbolictangent = np.mean(hyperbolictangent,axis=1)\n",
    "print(\"Hyperbolic tangent of first 5 rows:\")\n",
    "print(train_hyperbolictangent[:5])\n",
    "print(\"Size of train_hyperbolictangent:\",len(train_hyperbolictangent))"
   ]
  },
  {
   "cell_type": "code",
   "execution_count": 28,
   "id": "14dda4e9",
   "metadata": {},
   "outputs": [
    {
     "data": {
      "image/png": "[encoded data removed]",
      "text/plain": [
       "<Figure size 432x288 with 1 Axes>"
      ]
     },
     "metadata": {
      "needs_background": "light"
     },
     "output_type": "display_data"
    }
   ],
   "source": [
    "# Visualization of column 0 after applying hyperbolic tangent\n",
    "sns.distplot(train['0'], label=\"before\")\n",
    "sns.distplot(hyperbolictangent['0'], label=\"after\")\n",
    "plt.title('Plot of hyperbolic tangent for column 0')\n",
    "plt.legend()\n",
    "plt.show()"
   ]
  },
  {
   "cell_type": "markdown",
   "id": "3c163e39",
   "metadata": {},
   "source": [
    "### 4.4 Exponents Operations"
   ]
  },
  {
   "cell_type": "code",
   "execution_count": 29,
   "id": "0eec39a1",
   "metadata": {},
   "outputs": [
    {
     "name": "stdout",
     "output_type": "stream",
     "text": [
      "Exponential of first 5 rows:\n",
      "0    1.760647\n",
      "1    1.712292\n",
      "2    1.749107\n",
      "3    1.752101\n",
      "4    1.861741\n",
      "dtype: float64\n",
      "Size of train_exponential: 250\n"
     ]
    }
   ],
   "source": [
    "# Reference: https://numpy.org/doc/stable/reference/generated/numpy.exp.html\n",
    "# compute exponential, element-wise then take mean of each row.\n",
    "exponential = np.exp(train)\n",
    "train_exponential = np.mean(exponential,axis=1)\n",
    "print(\"Exponential of first 5 rows:\")\n",
    "print(train_exponential[:5])\n",
    "print(\"Size of train_exponential:\",len(train_exponential))"
   ]
  },
  {
   "cell_type": "code",
   "execution_count": 30,
   "id": "c6a36c48",
   "metadata": {},
   "outputs": [
    {
     "data": {
      "image/png": "[encoded data removed]",
      "text/plain": [
       "<Figure size 432x288 with 1 Axes>"
      ]
     },
     "metadata": {
      "needs_background": "light"
     },
     "output_type": "display_data"
    }
   ],
   "source": [
    "# Visualization of column 0 after applying exponential\n",
    "sns.distplot(train['0'], label=\"before\")\n",
    "sns.distplot(exponential['0'], label=\"after\")\n",
    "plt.title('Plot of exponential for column 0')\n",
    "plt.legend()\n",
    "plt.show()"
   ]
  },
  {
   "cell_type": "code",
   "execution_count": 31,
   "id": "5d3642ef",
   "metadata": {},
   "outputs": [
    {
     "name": "stdout",
     "output_type": "stream",
     "text": [
      "exp(x) - 1 of first 5 rows:\n",
      "0    0.760647\n",
      "1    0.712292\n",
      "2    0.749107\n",
      "3    0.752101\n",
      "4    0.861741\n",
      "dtype: float64\n",
      "Size of train_expm1: 250\n"
     ]
    }
   ],
   "source": [
    "# Reference: https://numpy.org/doc/stable/reference/generated/numpy.expm1.html\n",
    "# compute exp(x)-1, element-wise then take mean of each row.\n",
    "expm1 = np.expm1(train)\n",
    "train_expm1 = np.mean(expm1,axis=1)\n",
    "print(\"exp(x) - 1 of first 5 rows:\")\n",
    "print(train_expm1[:5])\n",
    "print(\"Size of train_expm1:\",len(train_expm1))"
   ]
  },
  {
   "cell_type": "code",
   "execution_count": 32,
   "id": "ac4fb499",
   "metadata": {},
   "outputs": [
    {
     "data": {
      "image/png": "[encoded data removed]",
      "text/plain": [
       "<Figure size 432x288 with 1 Axes>"
      ]
     },
     "metadata": {
      "needs_background": "light"
     },
     "output_type": "display_data"
    }
   ],
   "source": [
    "# Visualization of column 0 after applying exp(x)-1\n",
    "sns.distplot(train['0'], label=\"before\")\n",
    "sns.distplot(expm1['0'], label=\"after\")\n",
    "plt.title('Plot of exp(x) - 1 for column 0')\n",
    "plt.legend()\n",
    "plt.show()"
   ]
  },
  {
   "cell_type": "code",
   "execution_count": 33,
   "id": "d78cac70",
   "metadata": {},
   "outputs": [
    {
     "name": "stdout",
     "output_type": "stream",
     "text": [
      "2**p for all p in the input array of first 5 rows:\n",
      "0    1.315869\n",
      "1    1.324817\n",
      "2    1.313960\n",
      "3    1.326229\n",
      "4    1.377569\n",
      "dtype: float64\n",
      "Size of train_exp2: 250\n"
     ]
    }
   ],
   "source": [
    "# Reference: https://numpy.org/doc/stable/reference/generated/numpy.exp2.html\n",
    "# compute 2**p for all p in the input array, element-wise then take mean of each row.\n",
    "exp2 = np.exp2(train)\n",
    "train_exp2 = np.mean(exp2,axis=1)\n",
    "print(\"2**p for all p in the input array of first 5 rows:\")\n",
    "print(train_exp2[:5])\n",
    "print(\"Size of train_exp2:\",len(train_exp2))"
   ]
  },
  {
   "cell_type": "code",
   "execution_count": 34,
   "id": "2aaba577",
   "metadata": {},
   "outputs": [
    {
     "data": {
      "image/png": "[encoded data removed]",
      "text/plain": [
       "<Figure size 432x288 with 1 Axes>"
      ]
     },
     "metadata": {
      "needs_background": "light"
     },
     "output_type": "display_data"
    }
   ],
   "source": [
    "# Visualization of column 0 after applying logarithm\n",
    "sns.distplot(train['0'], label=\"before\")\n",
    "sns.distplot(exp2['0'], label=\"after\")\n",
    "plt.title('Plot of 2**p for all p in the input array for column 0')\n",
    "plt.legend()\n",
    "plt.show()"
   ]
  },
  {
   "cell_type": "markdown",
   "id": "6b06e4d8",
   "metadata": {},
   "source": [
    "### 4.5 Polynomial Operations"
   ]
  },
  {
   "cell_type": "code",
   "execution_count": 35,
   "id": "1bb3188d",
   "metadata": {},
   "outputs": [
    {
     "name": "stdout",
     "output_type": "stream",
     "text": [
      "Power of 2 of first 5 rows:\n",
      "0    1.182425\n",
      "1    0.976056\n",
      "2    1.023024\n",
      "3    0.887980\n",
      "4    0.901115\n",
      "dtype: float64\n",
      "Size of train_poweroftwo: 250\n"
     ]
    }
   ],
   "source": [
    "# Reference: https://numpy.org/doc/stable/reference/generated/numpy.power.html\n",
    "# compute array elements raise to the power of 2, element-wise then take mean of each row.\n",
    "poweroftwo = np.power(train,2)\n",
    "train_poweroftwo = np.mean(poweroftwo,axis=1)\n",
    "print(\"Power of 2 of first 5 rows:\")\n",
    "print(train_poweroftwo[:5])\n",
    "print(\"Size of train_poweroftwo:\",len(train_poweroftwo))"
   ]
  },
  {
   "cell_type": "code",
   "execution_count": 36,
   "id": "df93c5cf",
   "metadata": {},
   "outputs": [
    {
     "data": {
      "image/png": "[encoded data removed]",
      "text/plain": [
       "<Figure size 432x288 with 1 Axes>"
      ]
     },
     "metadata": {
      "needs_background": "light"
     },
     "output_type": "display_data"
    }
   ],
   "source": [
    "# Visualization of column 0 after applying power of 2\n",
    "sns.distplot(train['0'], label=\"before\")\n",
    "sns.distplot(poweroftwo['0'], label=\"after\")\n",
    "plt.title('Plot of power of 2 for column 0')\n",
    "plt.legend()\n",
    "plt.show()"
   ]
  },
  {
   "cell_type": "code",
   "execution_count": 37,
   "id": "57d0d580",
   "metadata": {},
   "outputs": [
    {
     "name": "stdout",
     "output_type": "stream",
     "text": [
      "Power of 3 of first 5 rows:\n",
      "0    0.015243\n",
      "1    0.047272\n",
      "2    0.266454\n",
      "3    0.371308\n",
      "4    0.613952\n",
      "dtype: float64\n",
      "Size of train_powerofthree: 250\n"
     ]
    }
   ],
   "source": [
    "# Reference: https://numpy.org/doc/stable/reference/generated/numpy.power.html\n",
    "# compute array elements raise to the power of 3, element-wise then take mean of each row.\n",
    "powerofthree = np.power(train,3)\n",
    "train_powerofthree = np.mean(powerofthree,axis=1)\n",
    "print(\"Power of 3 of first 5 rows:\")\n",
    "print(train_powerofthree[:5])\n",
    "print(\"Size of train_powerofthree:\",len(train_powerofthree))"
   ]
  },
  {
   "cell_type": "code",
   "execution_count": 38,
   "id": "40cb5779",
   "metadata": {},
   "outputs": [
    {
     "data": {
      "image/png": "[encoded data removed]",
      "text/plain": [
       "<Figure size 432x288 with 1 Axes>"
      ]
     },
     "metadata": {
      "needs_background": "light"
     },
     "output_type": "display_data"
    }
   ],
   "source": [
    "# Visualization of column 0 after applying power of 3\n",
    "sns.distplot(train['0'], label=\"before\")\n",
    "sns.distplot(powerofthree['0'], label=\"after\")\n",
    "plt.title('Plot of power of 3 for column 0')\n",
    "plt.legend()\n",
    "plt.show()"
   ]
  },
  {
   "cell_type": "code",
   "execution_count": 39,
   "id": "bdc71985",
   "metadata": {},
   "outputs": [
    {
     "name": "stdout",
     "output_type": "stream",
     "text": [
      "Power of 4 of first 5 rows:\n",
      "0    3.584848\n",
      "1    2.766570\n",
      "2    3.092631\n",
      "3    2.553467\n",
      "4    2.671541\n",
      "dtype: float64\n",
      "Size of train_poweroffour: 250\n"
     ]
    }
   ],
   "source": [
    "# Reference: https://numpy.org/doc/stable/reference/generated/numpy.power.html\n",
    "# compute array elements raise to the power of 4, element-wise then take mean of each row.\n",
    "poweroffour = np.power(train,4)\n",
    "train_poweroffour = np.mean(poweroffour,axis=1)\n",
    "print(\"Power of 4 of first 5 rows:\")\n",
    "print(train_poweroffour[:5])\n",
    "print(\"Size of train_poweroffour:\",len(train_poweroffour))"
   ]
  },
  {
   "cell_type": "code",
   "execution_count": 40,
   "id": "92ece04b",
   "metadata": {},
   "outputs": [
    {
     "data": {
      "image/png": "[encoded data removed]",
      "text/plain": [
       "<Figure size 432x288 with 1 Axes>"
      ]
     },
     "metadata": {
      "needs_background": "light"
     },
     "output_type": "display_data"
    }
   ],
   "source": [
    "# Visualization of column 0 after applying power of 4\n",
    "sns.distplot(train['0'], label=\"before\")\n",
    "sns.distplot(poweroffour['0'], label=\"after\")\n",
    "plt.title('Plot of power of 4 for column 0')\n",
    "plt.legend()\n",
    "plt.show()"
   ]
  },
  {
   "cell_type": "code",
   "execution_count": 41,
   "id": "df31e931",
   "metadata": {},
   "outputs": [],
   "source": [
    "# Combining all the above statements\n",
    "def preprocessing(df):\n",
    "    \"\"\"\n",
    "    This function performes feature engineering and adds new statistical features to the df dataframe\n",
    "    \"\"\"\n",
    "    if \"id\" and \"target\" in df:\n",
    "        data = df.drop([\"id\",\"target\"],axis=1)\n",
    "    else:\n",
    "        data = df.drop([\"id\"],axis=1)\n",
    "    \n",
    "    # compute arithmetic mean along axis 1 (row wise)\n",
    "    df_mean = np.mean(data,axis=1)\n",
    "    # compute standard deviation along axis 1 (row wise)\n",
    "    df_std = np.std(data,axis=1)\n",
    "    \n",
    "    # compute 25th quantile along axis 1 (row wise)\n",
    "    df_quantile25 = np.quantile(data,0.25,axis=1)\n",
    "    # compute 50th quantile along axis 1 (row wise)\n",
    "    df_quantile50 = np.quantile(data,0.50,axis=1)\n",
    "    # compute 75th quantile along axis 1 (row wise)\n",
    "    df_quantile75 = np.quantile(data,0.75,axis=1)\n",
    "    \n",
    "    # compute trigonometric sine, element-wise then take mean of each row.\n",
    "    sine = np.sin(data)\n",
    "    df_sine = np.mean(sine,axis=1)\n",
    "    # compute trigonometric cosine, element-wise then take mean of each row.\n",
    "    cosine = np.cos(data)\n",
    "    df_cosine = np.mean(cosine,axis=1)\n",
    "    # compute trigonometric tangent, element-wise then take mean of each row.\n",
    "    tangent = np.tan(data)\n",
    "    df_tangent = np.mean(tangent,axis=1)\n",
    "    # compute trignometric inverse sine, element-wise then take mean of each row.\n",
    "    inversesine = np.arcsin(data)\n",
    "    df_inversesine = np.mean(inversesine,axis=1)\n",
    "    # compute trigonometric inverse cosine, element-wise then take mean of each row.\n",
    "    inversecosine = np.arccos(data)\n",
    "    df_inversecosine = np.mean(inversecosine,axis=1)\n",
    "    # compute trigonometric inverse tangent, element-wise then take mean of each row.\n",
    "    inversetangent = np.arctan(data)\n",
    "    df_inversetangent = np.mean(inversetangent,axis=1)\n",
    "    \n",
    "    # compute hyperbolic sine, element-wise then take mean of each row.\n",
    "    hyperbolicsine = np.sinh(data)\n",
    "    df_hyperbolicsine = np.mean(hyperbolicsine,axis=1)\n",
    "    # compute hyperbolic cosine, element-wise then take mean of each row.\n",
    "    hyperboliccosine = np.cosh(data)\n",
    "    df_hyperboliccosine = np.mean(hyperboliccosine,axis=1)\n",
    "    # compute hyperbolic tangent, element-wise then take mean of each row.\n",
    "    hyperbolictangent = np.tanh(data)\n",
    "    df_hyperbolictangent = np.mean(hyperbolictangent,axis=1)\n",
    "    \n",
    "    # compute exponential, element-wise then take mean of each row.\n",
    "    exponential = np.exp(data)\n",
    "    df_exponential = np.mean(exponential,axis=1)\n",
    "    # compute natural logarithm, element-wise then take mean of each row.\n",
    "    expm1 = np.expm1(data)\n",
    "    df_expm1 = np.mean(expm1,axis=1)\n",
    "    # compute 2**p for all p in the input array, element-wise then take mean of each row.\n",
    "    exp2 = np.exp2(data)\n",
    "    df_exp2 = np.mean(exp2,axis=1)\n",
    "    \n",
    "    # compute array elements raise to the power of 2, element-wise then take mean of each row.\n",
    "    poweroftwo = np.power(data,2)\n",
    "    df_poweroftwo = np.mean(poweroftwo,axis=1)\n",
    "    # compute array elements raise to the power of 3, element-wise then take mean of each row.\n",
    "    powerofthree = np.power(data,3)\n",
    "    df_powerofthree = np.mean(powerofthree,axis=1)\n",
    "    # compute array elements raise to the power of 4, element-wise then take mean of each row.\n",
    "    poweroffour = np.power(data,4)\n",
    "    df_poweroffour = np.mean(poweroffour,axis=1)\n",
    "    \n",
    "    # add various new statistical features to df dataset\n",
    "    df['mean'] = df_mean\n",
    "    df['std'] = df_std\n",
    "    \n",
    "    df[\"quantile25\"] = df_quantile25\n",
    "    df[\"quantile50\"] = df_quantile50\n",
    "    df[\"quantile75\"] = df_quantile75\n",
    "    \n",
    "    df['sine'] = df_sine\n",
    "    df['cosine'] = df_cosine\n",
    "    df['tangent'] = df_tangent\n",
    "    df['inversesine'] = df_inversesine\n",
    "    df['inversecosine'] = df_inversecosine\n",
    "    df['inversetangent'] = df_inversetangent\n",
    "    \n",
    "    df['hyperbolicsine'] = df_hyperbolicsine\n",
    "    df['hyperboliccosine'] = df_hyperboliccosine\n",
    "    df['hyperbolictangent'] = df_hyperbolictangent\n",
    "    \n",
    "    df['exponential'] = df_exponential\n",
    "    df['exponentialm1'] = df_expm1\n",
    "    df[\"exponential2\"] = df_exp2\n",
    "    \n",
    "    df['poweroftwo'] = df_poweroftwo\n",
    "    df['powerofthree'] = df_powerofthree\n",
    "    df['poweroffour'] = df_poweroffour\n",
    "    return df"
   ]
  },
  {
   "cell_type": "code",
   "execution_count": 42,
   "id": "20a9cb6c",
   "metadata": {},
   "outputs": [
    {
     "data": {
      "text/html": [
       "<div>\n",
       "<style scoped>\n",
       "    .dataframe tbody tr th:only-of-type {\n",
       "        vertical-align: middle;\n",
       "    }\n",
       "\n",
       "    .dataframe tbody tr th {\n",
       "        vertical-align: top;\n",
       "    }\n",
       "\n",
       "    .dataframe thead th {\n",
       "        text-align: right;\n",
       "    }\n",
       "</style>\n",
       "<table border=\"1\" class=\"dataframe\">\n",
       "  <thead>\n",
       "    <tr style=\"text-align: right;\">\n",
       "      <th></th>\n",
       "      <th>id</th>\n",
       "      <th>target</th>\n",
       "      <th>0</th>\n",
       "      <th>1</th>\n",
       "      <th>2</th>\n",
       "      <th>3</th>\n",
       "      <th>4</th>\n",
       "      <th>5</th>\n",
       "      <th>6</th>\n",
       "      <th>7</th>\n",
       "      <th>...</th>\n",
       "      <th>inversetangent</th>\n",
       "      <th>hyperbolicsine</th>\n",
       "      <th>hyperboliccosine</th>\n",
       "      <th>hyperbolictangent</th>\n",
       "      <th>exponential</th>\n",
       "      <th>exponentialm1</th>\n",
       "      <th>exponential2</th>\n",
       "      <th>poweroftwo</th>\n",
       "      <th>powerofthree</th>\n",
       "      <th>poweroffour</th>\n",
       "    </tr>\n",
       "  </thead>\n",
       "  <tbody>\n",
       "    <tr>\n",
       "      <th>0</th>\n",
       "      <td>0</td>\n",
       "      <td>1.0</td>\n",
       "      <td>-0.098</td>\n",
       "      <td>2.165</td>\n",
       "      <td>0.681</td>\n",
       "      <td>-0.614</td>\n",
       "      <td>1.309</td>\n",
       "      <td>-0.455</td>\n",
       "      <td>-0.236</td>\n",
       "      <td>0.276</td>\n",
       "      <td>...</td>\n",
       "      <td>-0.010571</td>\n",
       "      <td>-0.004502</td>\n",
       "      <td>1.765149</td>\n",
       "      <td>-0.010765</td>\n",
       "      <td>1.760647</td>\n",
       "      <td>0.760647</td>\n",
       "      <td>1.315869</td>\n",
       "      <td>1.182425</td>\n",
       "      <td>0.015243</td>\n",
       "      <td>3.584848</td>\n",
       "    </tr>\n",
       "    <tr>\n",
       "      <th>1</th>\n",
       "      <td>1</td>\n",
       "      <td>0.0</td>\n",
       "      <td>1.081</td>\n",
       "      <td>-0.973</td>\n",
       "      <td>-0.383</td>\n",
       "      <td>0.326</td>\n",
       "      <td>-0.428</td>\n",
       "      <td>0.317</td>\n",
       "      <td>1.172</td>\n",
       "      <td>0.352</td>\n",
       "      <td>...</td>\n",
       "      <td>0.067941</td>\n",
       "      <td>0.089790</td>\n",
       "      <td>1.622502</td>\n",
       "      <td>0.065681</td>\n",
       "      <td>1.712292</td>\n",
       "      <td>0.712292</td>\n",
       "      <td>1.324817</td>\n",
       "      <td>0.976056</td>\n",
       "      <td>0.047272</td>\n",
       "      <td>2.766570</td>\n",
       "    </tr>\n",
       "    <tr>\n",
       "      <th>2</th>\n",
       "      <td>2</td>\n",
       "      <td>1.0</td>\n",
       "      <td>-0.523</td>\n",
       "      <td>-0.089</td>\n",
       "      <td>-0.348</td>\n",
       "      <td>0.148</td>\n",
       "      <td>-0.022</td>\n",
       "      <td>0.404</td>\n",
       "      <td>-0.023</td>\n",
       "      <td>-0.172</td>\n",
       "      <td>...</td>\n",
       "      <td>0.006444</td>\n",
       "      <td>0.086690</td>\n",
       "      <td>1.662417</td>\n",
       "      <td>0.002687</td>\n",
       "      <td>1.749107</td>\n",
       "      <td>0.749107</td>\n",
       "      <td>1.313960</td>\n",
       "      <td>1.023024</td>\n",
       "      <td>0.266454</td>\n",
       "      <td>3.092631</td>\n",
       "    </tr>\n",
       "    <tr>\n",
       "      <th>3</th>\n",
       "      <td>3</td>\n",
       "      <td>1.0</td>\n",
       "      <td>0.067</td>\n",
       "      <td>-0.021</td>\n",
       "      <td>0.392</td>\n",
       "      <td>-1.637</td>\n",
       "      <td>-0.446</td>\n",
       "      <td>-0.725</td>\n",
       "      <td>-1.035</td>\n",
       "      <td>0.834</td>\n",
       "      <td>...</td>\n",
       "      <td>0.057935</td>\n",
       "      <td>0.180076</td>\n",
       "      <td>1.572025</td>\n",
       "      <td>0.053542</td>\n",
       "      <td>1.752101</td>\n",
       "      <td>0.752101</td>\n",
       "      <td>1.326229</td>\n",
       "      <td>0.887980</td>\n",
       "      <td>0.371308</td>\n",
       "      <td>2.553467</td>\n",
       "    </tr>\n",
       "    <tr>\n",
       "      <th>4</th>\n",
       "      <td>4</td>\n",
       "      <td>1.0</td>\n",
       "      <td>2.347</td>\n",
       "      <td>-0.831</td>\n",
       "      <td>0.511</td>\n",
       "      <td>-0.021</td>\n",
       "      <td>1.225</td>\n",
       "      <td>1.594</td>\n",
       "      <td>0.585</td>\n",
       "      <td>1.509</td>\n",
       "      <td>...</td>\n",
       "      <td>0.076936</td>\n",
       "      <td>0.277209</td>\n",
       "      <td>1.584532</td>\n",
       "      <td>0.068240</td>\n",
       "      <td>1.861741</td>\n",
       "      <td>0.861741</td>\n",
       "      <td>1.377569</td>\n",
       "      <td>0.901115</td>\n",
       "      <td>0.613952</td>\n",
       "      <td>2.671541</td>\n",
       "    </tr>\n",
       "  </tbody>\n",
       "</table>\n",
       "<p>5 rows × 322 columns</p>\n",
       "</div>"
      ],
      "text/plain": [
       "   id  target      0      1      2      3      4      5      6      7  ...  \\\n",
       "0   0     1.0 -0.098  2.165  0.681 -0.614  1.309 -0.455 -0.236  0.276  ...   \n",
       "1   1     0.0  1.081 -0.973 -0.383  0.326 -0.428  0.317  1.172  0.352  ...   \n",
       "2   2     1.0 -0.523 -0.089 -0.348  0.148 -0.022  0.404 -0.023 -0.172  ...   \n",
       "3   3     1.0  0.067 -0.021  0.392 -1.637 -0.446 -0.725 -1.035  0.834  ...   \n",
       "4   4     1.0  2.347 -0.831  0.511 -0.021  1.225  1.594  0.585  1.509  ...   \n",
       "\n",
       "   inversetangent  hyperbolicsine  hyperboliccosine  hyperbolictangent  \\\n",
       "0       -0.010571       -0.004502          1.765149          -0.010765   \n",
       "1        0.067941        0.089790          1.622502           0.065681   \n",
       "2        0.006444        0.086690          1.662417           0.002687   \n",
       "3        0.057935        0.180076          1.572025           0.053542   \n",
       "4        0.076936        0.277209          1.584532           0.068240   \n",
       "\n",
       "   exponential  exponentialm1  exponential2  poweroftwo  powerofthree  \\\n",
       "0     1.760647       0.760647      1.315869    1.182425      0.015243   \n",
       "1     1.712292       0.712292      1.324817    0.976056      0.047272   \n",
       "2     1.749107       0.749107      1.313960    1.023024      0.266454   \n",
       "3     1.752101       0.752101      1.326229    0.887980      0.371308   \n",
       "4     1.861741       0.861741      1.377569    0.901115      0.613952   \n",
       "\n",
       "   poweroffour  \n",
       "0     3.584848  \n",
       "1     2.766570  \n",
       "2     3.092631  \n",
       "3     2.553467  \n",
       "4     2.671541  \n",
       "\n",
       "[5 rows x 322 columns]"
      ]
     },
     "execution_count": 42,
     "metadata": {},
     "output_type": "execute_result"
    }
   ],
   "source": [
    "# Training Dataset\n",
    "# load train.csv into pandas dataframe\n",
    "train_df = pd.read_csv(\"train.csv\")\n",
    "preprocessed_train = preprocessing(train_df)\n",
    "# print the first 5 rows\n",
    "preprocessed_train.head()"
   ]
  },
  {
   "cell_type": "code",
   "execution_count": 43,
   "id": "28eade28",
   "metadata": {},
   "outputs": [
    {
     "data": {
      "text/html": [
       "<div>\n",
       "<style scoped>\n",
       "    .dataframe tbody tr th:only-of-type {\n",
       "        vertical-align: middle;\n",
       "    }\n",
       "\n",
       "    .dataframe tbody tr th {\n",
       "        vertical-align: top;\n",
       "    }\n",
       "\n",
       "    .dataframe thead th {\n",
       "        text-align: right;\n",
       "    }\n",
       "</style>\n",
       "<table border=\"1\" class=\"dataframe\">\n",
       "  <thead>\n",
       "    <tr style=\"text-align: right;\">\n",
       "      <th></th>\n",
       "      <th>id</th>\n",
       "      <th>0</th>\n",
       "      <th>1</th>\n",
       "      <th>2</th>\n",
       "      <th>3</th>\n",
       "      <th>4</th>\n",
       "      <th>5</th>\n",
       "      <th>6</th>\n",
       "      <th>7</th>\n",
       "      <th>8</th>\n",
       "      <th>...</th>\n",
       "      <th>inversetangent</th>\n",
       "      <th>hyperbolicsine</th>\n",
       "      <th>hyperboliccosine</th>\n",
       "      <th>hyperbolictangent</th>\n",
       "      <th>exponential</th>\n",
       "      <th>exponentialm1</th>\n",
       "      <th>exponential2</th>\n",
       "      <th>poweroftwo</th>\n",
       "      <th>powerofthree</th>\n",
       "      <th>poweroffour</th>\n",
       "    </tr>\n",
       "  </thead>\n",
       "  <tbody>\n",
       "    <tr>\n",
       "      <th>0</th>\n",
       "      <td>250</td>\n",
       "      <td>0.500</td>\n",
       "      <td>-1.033</td>\n",
       "      <td>-1.595</td>\n",
       "      <td>0.309</td>\n",
       "      <td>-0.714</td>\n",
       "      <td>0.502</td>\n",
       "      <td>0.535</td>\n",
       "      <td>-0.129</td>\n",
       "      <td>-0.687</td>\n",
       "      <td>...</td>\n",
       "      <td>0.103791</td>\n",
       "      <td>0.264990</td>\n",
       "      <td>1.639407</td>\n",
       "      <td>0.097112</td>\n",
       "      <td>1.904397</td>\n",
       "      <td>0.904397</td>\n",
       "      <td>1.404195</td>\n",
       "      <td>0.985912</td>\n",
       "      <td>0.477020</td>\n",
       "      <td>2.913247</td>\n",
       "    </tr>\n",
       "    <tr>\n",
       "      <th>1</th>\n",
       "      <td>251</td>\n",
       "      <td>0.776</td>\n",
       "      <td>0.914</td>\n",
       "      <td>-0.494</td>\n",
       "      <td>1.347</td>\n",
       "      <td>-0.867</td>\n",
       "      <td>0.480</td>\n",
       "      <td>0.578</td>\n",
       "      <td>-0.313</td>\n",
       "      <td>0.203</td>\n",
       "      <td>...</td>\n",
       "      <td>-0.021779</td>\n",
       "      <td>-0.065305</td>\n",
       "      <td>1.707521</td>\n",
       "      <td>-0.020326</td>\n",
       "      <td>1.642217</td>\n",
       "      <td>0.642217</td>\n",
       "      <td>1.265487</td>\n",
       "      <td>1.094274</td>\n",
       "      <td>-0.128315</td>\n",
       "      <td>3.281111</td>\n",
       "    </tr>\n",
       "    <tr>\n",
       "      <th>2</th>\n",
       "      <td>252</td>\n",
       "      <td>1.750</td>\n",
       "      <td>0.509</td>\n",
       "      <td>-0.057</td>\n",
       "      <td>0.835</td>\n",
       "      <td>-0.476</td>\n",
       "      <td>1.428</td>\n",
       "      <td>-0.701</td>\n",
       "      <td>-2.009</td>\n",
       "      <td>-1.378</td>\n",
       "      <td>...</td>\n",
       "      <td>-0.025656</td>\n",
       "      <td>-0.131476</td>\n",
       "      <td>1.649251</td>\n",
       "      <td>-0.022351</td>\n",
       "      <td>1.517775</td>\n",
       "      <td>0.517775</td>\n",
       "      <td>1.214393</td>\n",
       "      <td>0.994294</td>\n",
       "      <td>-0.330590</td>\n",
       "      <td>3.062801</td>\n",
       "    </tr>\n",
       "    <tr>\n",
       "      <th>3</th>\n",
       "      <td>253</td>\n",
       "      <td>-0.556</td>\n",
       "      <td>-1.855</td>\n",
       "      <td>-0.682</td>\n",
       "      <td>0.578</td>\n",
       "      <td>1.592</td>\n",
       "      <td>0.512</td>\n",
       "      <td>-1.419</td>\n",
       "      <td>0.722</td>\n",
       "      <td>0.511</td>\n",
       "      <td>...</td>\n",
       "      <td>0.001523</td>\n",
       "      <td>-0.022843</td>\n",
       "      <td>1.589608</td>\n",
       "      <td>0.003396</td>\n",
       "      <td>1.566765</td>\n",
       "      <td>0.566765</td>\n",
       "      <td>1.243412</td>\n",
       "      <td>0.956136</td>\n",
       "      <td>-0.076546</td>\n",
       "      <td>2.382968</td>\n",
       "    </tr>\n",
       "    <tr>\n",
       "      <th>4</th>\n",
       "      <td>254</td>\n",
       "      <td>0.754</td>\n",
       "      <td>-0.245</td>\n",
       "      <td>1.173</td>\n",
       "      <td>-1.623</td>\n",
       "      <td>0.009</td>\n",
       "      <td>0.370</td>\n",
       "      <td>0.781</td>\n",
       "      <td>-1.763</td>\n",
       "      <td>-1.432</td>\n",
       "      <td>...</td>\n",
       "      <td>0.071672</td>\n",
       "      <td>0.195819</td>\n",
       "      <td>1.653205</td>\n",
       "      <td>0.064720</td>\n",
       "      <td>1.849024</td>\n",
       "      <td>0.849024</td>\n",
       "      <td>1.374870</td>\n",
       "      <td>0.988710</td>\n",
       "      <td>0.371320</td>\n",
       "      <td>3.079160</td>\n",
       "    </tr>\n",
       "  </tbody>\n",
       "</table>\n",
       "<p>5 rows × 321 columns</p>\n",
       "</div>"
      ],
      "text/plain": [
       "    id      0      1      2      3      4      5      6      7      8  ...  \\\n",
       "0  250  0.500 -1.033 -1.595  0.309 -0.714  0.502  0.535 -0.129 -0.687  ...   \n",
       "1  251  0.776  0.914 -0.494  1.347 -0.867  0.480  0.578 -0.313  0.203  ...   \n",
       "2  252  1.750  0.509 -0.057  0.835 -0.476  1.428 -0.701 -2.009 -1.378  ...   \n",
       "3  253 -0.556 -1.855 -0.682  0.578  1.592  0.512 -1.419  0.722  0.511  ...   \n",
       "4  254  0.754 -0.245  1.173 -1.623  0.009  0.370  0.781 -1.763 -1.432  ...   \n",
       "\n",
       "   inversetangent  hyperbolicsine  hyperboliccosine  hyperbolictangent  \\\n",
       "0        0.103791        0.264990          1.639407           0.097112   \n",
       "1       -0.021779       -0.065305          1.707521          -0.020326   \n",
       "2       -0.025656       -0.131476          1.649251          -0.022351   \n",
       "3        0.001523       -0.022843          1.589608           0.003396   \n",
       "4        0.071672        0.195819          1.653205           0.064720   \n",
       "\n",
       "   exponential  exponentialm1  exponential2  poweroftwo  powerofthree  \\\n",
       "0     1.904397       0.904397      1.404195    0.985912      0.477020   \n",
       "1     1.642217       0.642217      1.265487    1.094274     -0.128315   \n",
       "2     1.517775       0.517775      1.214393    0.994294     -0.330590   \n",
       "3     1.566765       0.566765      1.243412    0.956136     -0.076546   \n",
       "4     1.849024       0.849024      1.374870    0.988710      0.371320   \n",
       "\n",
       "   poweroffour  \n",
       "0     2.913247  \n",
       "1     3.281111  \n",
       "2     3.062801  \n",
       "3     2.382968  \n",
       "4     3.079160  \n",
       "\n",
       "[5 rows x 321 columns]"
      ]
     },
     "execution_count": 43,
     "metadata": {},
     "output_type": "execute_result"
    }
   ],
   "source": [
    "# Test Dataset\n",
    "# load test.csv into pandas dataframe\n",
    "test_df = pd.read_csv(\"test.csv\")\n",
    "preprocessed_test = preprocessing(test_df)\n",
    "# print the first 5 rows\n",
    "preprocessed_test.head()"
   ]
  },
  {
   "cell_type": "code",
   "execution_count": 44,
   "id": "b6ce4f9a",
   "metadata": {},
   "outputs": [
    {
     "name": "stdout",
     "output_type": "stream",
     "text": [
      "Preprocessed Training Dataset: (250, 322)\n",
      "Preprocessed Test Dataset    : (19750, 321)\n"
     ]
    }
   ],
   "source": [
    "# how many datapoints and features present in train and test dataset\n",
    "print(\"Preprocessed Training Dataset:\",preprocessed_train.shape)\n",
    "print(\"Preprocessed Test Dataset    :\",preprocessed_test.shape)"
   ]
  },
  {
   "cell_type": "code",
   "execution_count": 45,
   "id": "a25c6ba5",
   "metadata": {},
   "outputs": [],
   "source": [
    "# write pandas DataFrame to CSV file\n",
    "preprocessed_train.to_csv(\"preprocessed_train.csv\", index=False)\n",
    "preprocessed_test.to_csv(\"preprocessed_test.csv\", index=False)"
   ]
  },
  {
   "cell_type": "markdown",
   "id": "422f0e41",
   "metadata": {},
   "source": [
    "Observations: <br>\n",
    "<ol>\n",
    "    1. Feature engineering is one of the most critical aspects of this Kaggle problem. So, we have come up with various new\n",
    "    statistics features, including basic mathematical operations, quantile operations, trigonometric functions, hyperbolic functions, exponents, and polynomial operations.<br>\n",
    "    2. We have added 20 new statistical features to the training and test dataset.<br>\n",
    "</ol>"
   ]
  },
  {
   "cell_type": "code",
   "execution_count": null,
   "id": "baa21ec3",
   "metadata": {},
   "outputs": [],
   "source": []
  }
 ],
 "metadata": {
  "kernelspec": {
   "display_name": "Python 3",
   "language": "python",
   "name": "python3"
  },
  "language_info": {
   "codemirror_mode": {
    "name": "ipython",
    "version": 3
   },
   "file_extension": ".py",
   "mimetype": "text/x-python",
   "name": "python",
   "nbconvert_exporter": "python",
   "pygments_lexer": "ipython3",
   "version": "3.8.8"
  }
 },
 "nbformat": 4,
 "nbformat_minor": 5
}
